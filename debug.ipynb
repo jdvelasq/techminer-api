{
 "cells": [
  {
   "cell_type": "code",
   "execution_count": 1,
   "metadata": {},
   "outputs": [
    {
     "name": "stdout",
     "output_type": "stream",
     "text": [
      "2021-10-27 01:17:17 - INFO - Reading file ./raw-data/scopus.csv ...\n",
      "2021-10-27 01:17:17 - INFO - Formatting dataset ...\n",
      "2021-10-27 01:17:26 - INFO - Formating authors ...\n",
      "2021-10-27 01:17:26 - INFO - Removing [No author id available]\n",
      "2021-10-27 01:17:26 - INFO - Formatting columns ...\n",
      "2021-10-27 01:17:26 - INFO - Computing new columns ...\n",
      "2021-10-27 01:17:28 - INFO - Dropping duplicates ...\n",
      "2021-10-27 01:17:28 - INFO - Transforming British to American ...\n"
     ]
    },
    {
     "name": "stderr",
     "output_type": "stream",
     "text": [
      "100%|██████████| 1737/1737 [02:23<00:00, 12.12it/s]\n"
     ]
    },
    {
     "name": "stdout",
     "output_type": "stream",
     "text": [
      "2021-10-27 01:19:52 - INFO - Datastore saved to ./datastore/datastore.csv\n",
      "2021-10-27 01:19:52 - INFO - Creating keywords thesaurus ...\n",
      "2021-10-27 01:19:53 - INFO - Thesaurus file ./datastore/TH_keywords.txt created.\n",
      "2021-10-27 01:19:53 - INFO - Creating institutions thesaurus ...\n",
      "2021-10-27 01:19:53 - INFO - Affiliations without country detected - check file ./datastore/ignored_affiliations.txt\n",
      "2021-10-27 01:19:53 - INFO - Affiliations without country detected - check file ./datastore/ignored_affiliations.txt\n",
      "2021-10-27 01:19:54 - INFO - Thesaurus file ./datastore/TH_institutions.txt created.\n",
      "2021-10-27 01:19:54 - INFO - File ./raw-data/scopus.csv imported.\n"
     ]
    }
   ],
   "source": [
    "import pandas as pd\n",
    "\n",
    "from techminer.preparation import import_raw_datafile\n",
    "\n",
    "!rm -rf ./datastore/datastore.csv\n",
    "\n",
    "scopus_df = import_raw_datafile(filepath=\"./raw-data/scopus.csv\", filetype=\"scopus\", datastorepath=\"./datastore\")\n",
    "# wos_df = load_file(filepath=\"techminer/tests/data/savedrecs.txt\", filetype=\"wos\", datastorepath=\"./datastore\")\n",
    "# dim_df = load_file(filepath=\"techminer/tests/data/dimensions.csv\", filetype=\"dimensions\", datastorepath=\"./datastore\")\n",
    "\n",
    "# print(wos_df[['authors', 'authors_id']])"
   ]
  },
  {
   "cell_type": "code",
   "execution_count": null,
   "metadata": {},
   "outputs": [],
   "source": [
    "from techminer.core.processing import process_datastore\n",
    "\n",
    "# Ok!\n",
    "process_datastore(datastorepath=\"./datastore\")"
   ]
  },
  {
   "cell_type": "code",
   "execution_count": null,
   "metadata": {},
   "outputs": [],
   "source": [
    "from techminer.utils.apply_keywords_thesaurus import apply_keywords_thesaurus\n",
    "\n",
    "# Ok!\n",
    "apply_keywords_thesaurus(datastorepath=\"./datastore\")"
   ]
  },
  {
   "cell_type": "code",
   "execution_count": null,
   "metadata": {},
   "outputs": [],
   "source": [
    "from techminer.utils.apply_institutions_thesaurus import apply_institutions_thesaurus\n",
    "\n",
    "# Ok!\n",
    "apply_institutions_thesaurus(datastorepath=\"./datastore\")"
   ]
  },
  {
   "cell_type": "code",
   "execution_count": null,
   "metadata": {},
   "outputs": [],
   "source": [
    "from techminer.analysis.bradford import Bradford\n",
    "\n",
    "Bradford(datastorepath=\"./datastore\").plot(max_items=8, cmap='Blues', figsize=(8, 5), fontsize=9)"
   ]
  },
  {
   "cell_type": "code",
   "execution_count": null,
   "metadata": {},
   "outputs": [],
   "source": [
    "Bradford(datastorepath=\"./datastore\").sources_"
   ]
  },
  {
   "cell_type": "code",
   "execution_count": null,
   "metadata": {},
   "outputs": [],
   "source": [
    "from techminer.analysis.topdocuments import TopDocuments\n",
    "\n",
    "TopDocuments(datastorepath=\"./datastore\").detailed_"
   ]
  },
  {
   "cell_type": "code",
   "execution_count": null,
   "metadata": {},
   "outputs": [],
   "source": [
    "import pandas as pd\n",
    "\n",
    "pd.read_csv(\"./datastore/datastore.csv\")"
   ]
  },
  {
   "cell_type": "code",
   "execution_count": null,
   "metadata": {},
   "outputs": [],
   "source": []
  }
 ],
 "metadata": {
  "interpreter": {
   "hash": "949777d72b0d2535278d3dc13498b2535136f6dfe0678499012e853ee9abcab1"
  },
  "kernelspec": {
   "display_name": "Python 3.7.12 64-bit",
   "name": "python3"
  },
  "language_info": {
   "codemirror_mode": {
    "name": "ipython",
    "version": 3
   },
   "file_extension": ".py",
   "mimetype": "text/x-python",
   "name": "python",
   "nbconvert_exporter": "python",
   "pygments_lexer": "ipython3",
   "version": "3.7.12"
  },
  "orig_nbformat": 4
 },
 "nbformat": 4,
 "nbformat_minor": 2
}
