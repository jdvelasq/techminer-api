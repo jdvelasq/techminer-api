{
 "cells": [
  {
   "cell_type": "code",
   "execution_count": null,
   "metadata": {},
   "outputs": [],
   "source": [
    "import pandas as pd\n",
    "\n",
    "from techminer.preparation import import_raw_datafile\n",
    "\n",
    "!rm -rf ./datastore/datastore.csv\n",
    "\n",
    "import_raw_datafile(filepath=\"./raw-data/scopus.csv\", filetype=\"scopus\", datastorepath=\"./datastore\")\n",
    "# wos_df = load_file(filepath=\"techminer/tests/data/savedrecs.txt\", filetype=\"wos\", datastorepath=\"./datastore\")\n",
    "# dim_df = load_file(filepath=\"techminer/tests/data/dimensions.csv\", filetype=\"dimensions\", datastorepath=\"./datastore\")\n",
    "\n"
   ]
  },
  {
   "cell_type": "code",
   "execution_count": null,
   "metadata": {},
   "outputs": [],
   "source": [
    "from techminer.preparation import process_datastore\n",
    "\n",
    "process_datastore(datastorepath=\"./datastore\")"
   ]
  },
  {
   "cell_type": "code",
   "execution_count": null,
   "metadata": {},
   "outputs": [],
   "source": [
    "from techminer.preparation.apply_keywords_thesaurus import apply_keywords_thesaurus\n",
    "\n",
    "# Ok!\n",
    "apply_keywords_thesaurus(datastorepath=\"./datastore\")"
   ]
  },
  {
   "cell_type": "code",
   "execution_count": null,
   "metadata": {},
   "outputs": [],
   "source": [
    "from techminer.preparation.apply_institutions_thesaurus import apply_institutions_thesaurus\n",
    "\n",
    "# Ok!\n",
    "apply_institutions_thesaurus(datastorepath=\"./datastore\")"
   ]
  },
  {
   "cell_type": "code",
   "execution_count": null,
   "metadata": {},
   "outputs": [],
   "source": [
    "from techminer.analysis.bradford import Bradford\n",
    "\n",
    "Bradford(datastorepath=\"./datastore\").plot(max_items=8, cmap='Blues', figsize=(8, 5), fontsize=9)"
   ]
  },
  {
   "cell_type": "code",
   "execution_count": null,
   "metadata": {},
   "outputs": [],
   "source": [
    "Bradford(datastorepath=\"./datastore\").sources_"
   ]
  },
  {
   "cell_type": "code",
   "execution_count": null,
   "metadata": {},
   "outputs": [],
   "source": [
    "from techminer.analysis.topdocuments import TopDocuments\n",
    "\n",
    "TopDocuments(datastorepath=\"./datastore\").detailed_"
   ]
  },
  {
   "cell_type": "code",
   "execution_count": null,
   "metadata": {},
   "outputs": [],
   "source": [
    "from techminer.analysis.topdocuments import TopDocuments\n",
    "\n",
    "TopDocuments(datastorepath=\"./datastore\").print()"
   ]
  },
  {
   "cell_type": "code",
   "execution_count": null,
   "metadata": {},
   "outputs": [],
   "source": [
    "from techminer.analysis.core_authors import CoreAuthors\n",
    "\n",
    "CoreAuthors(datastorepath=\"./datastore\").table_"
   ]
  },
  {
   "cell_type": "code",
   "execution_count": null,
   "metadata": {},
   "outputs": [],
   "source": []
  },
  {
   "cell_type": "code",
   "execution_count": null,
   "metadata": {},
   "outputs": [],
   "source": []
  },
  {
   "cell_type": "code",
   "execution_count": null,
   "metadata": {},
   "outputs": [],
   "source": []
  },
  {
   "cell_type": "code",
   "execution_count": null,
   "metadata": {},
   "outputs": [],
   "source": []
  },
  {
   "cell_type": "code",
   "execution_count": null,
   "metadata": {},
   "outputs": [],
   "source": []
  },
  {
   "cell_type": "code",
   "execution_count": null,
   "metadata": {},
   "outputs": [],
   "source": []
  },
  {
   "cell_type": "code",
   "execution_count": null,
   "metadata": {},
   "outputs": [],
   "source": [
    "import pandas as pd\n",
    "\n",
    "pd.read_csv(\"./datastore/datastore.csv\").authors_id"
   ]
  },
  {
   "cell_type": "code",
   "execution_count": null,
   "metadata": {},
   "outputs": [],
   "source": [
    "scopus_df"
   ]
  },
  {
   "cell_type": "code",
   "execution_count": null,
   "metadata": {},
   "outputs": [],
   "source": []
  }
 ],
 "metadata": {
  "interpreter": {
   "hash": "949777d72b0d2535278d3dc13498b2535136f6dfe0678499012e853ee9abcab1"
  },
  "kernelspec": {
   "display_name": "Python 3.7.12 64-bit",
   "name": "python3"
  },
  "language_info": {
   "codemirror_mode": {
    "name": "ipython",
    "version": 3
   },
   "file_extension": ".py",
   "mimetype": "text/x-python",
   "name": "python",
   "nbconvert_exporter": "python",
   "pygments_lexer": "ipython3",
   "version": "3.7.12"
  }
 },
 "nbformat": 4,
 "nbformat_minor": 4
}
