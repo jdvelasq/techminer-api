{
 "cells": [
  {
   "cell_type": "code",
   "execution_count": 22,
   "metadata": {},
   "outputs": [
    {
     "name": "stdout",
     "output_type": "stream",
     "text": [
      "classroom approach\n",
      "student learning experience\n",
      "educator experience\n",
      "regional australian university describe\n",
      "qualitative description methodology\n",
      "individual face\n",
      "qualitative data\n",
      "reflexive thematic analysis\n",
      "broad themes\n",
      "educator experience\n",
      "emotional response\n",
      "sub themes\n",
      "institutional support\n",
      "reflexive teaching practice\n",
      "active learning opportunities\n",
      "human aspect\n",
      "educators need_to\n",
      "emotional investment\n",
      "adequate support\n"
     ]
    }
   ],
   "source": [
    "from textblob import TextBlob\n",
    "\n",
    "raw_text = (\n",
    "    \"\"\"although there is growing evidence that the flipped CLASSROOM_APPROACH ( fca\n",
    ") positively impacts the STUDENT_LEARNING_EXPERIENCE and outcomes , much\n",
    "less is known about the EDUCATOR_EXPERIENCE . this study aimed to explore\n",
    "how educators across several disciplines in a\n",
    "REGIONAL_AUSTRALIAN_UNIVERSITY_DESCRIBE their experience of using the fca .\n",
    "QUALITATIVE_DESCRIPTION_METHODOLOGY guided the research whereby\n",
    "INDIVIDUAL_FACE to face semi structured interviews collected\n",
    "QUALITATIVE_DATA from educators who had used the fca in the previous 4 years\n",
    "which was then analysed using REFLEXIVE_THEMATIC_ANALYSIS . eleven educators\n",
    "across seven disciplines were recruited , eight of whom had fully and three\n",
    "partially flipped a course . four BROAD_THEMES described the\n",
    "EDUCATOR_EXPERIENCE of the fca namely , the environmental influence ,\n",
    "preparation and implementation , EMOTIONAL_RESPONSE and metacognition .\n",
    "there were 20 SUB_THEMES across the four themes . educators in this study\n",
    "were both ambivalent and internally motivated by the fca , valued scholarly\n",
    "and INSTITUTIONAL_SUPPORT , highlighted the importance of\n",
    "REFLEXIVE_TEACHING_PRACTICE and appreciated the affordance of more\n",
    "ACTIVE_LEARNING_OPPORTUNITIES in class . the HUMAN_ASPECT of competing\n",
    "emotions was clear when implementing the fca . EDUCATORS_NEED to prepare\n",
    "themselves for the EMOTIONAL_INVESTMENT that accompanies the fca , to be\n",
    "responsive and adaptive in what and how content is delivered . institutions\n",
    "should provide ADEQUATE_SUPPORT to cater for both the well being of\n",
    "educators as well as the practicalities of implementing the fca .\"\"\".lower()\n",
    "    .replace(\"_\", \" \")\n",
    "    .replace(\"\\n\", \" \")\n",
    "    .replace(\"need to\", \"need_to\")\n",
    ")\n",
    "\n",
    "# extract noun phrases\n",
    "noun_phrases = TextBlob(raw_text).noun_phrases\n",
    "for phrase in noun_phrases:\n",
    "    print(phrase)"
   ]
  },
  {
   "cell_type": "code",
   "execution_count": 25,
   "metadata": {},
   "outputs": [
    {
     "name": "stdout",
     "output_type": "stream",
     "text": [
      "although there is growing evidence that the flipped classroom approach ( fca ) positively impacts the student learning experience and outcomes , much less is known about the educator experience .\n",
      "[('although', 'IN'), ('there', 'EX'), ('is', 'VBZ'), ('growing', 'VBG'), ('evidence', 'NN'), ('that', 'IN'), ('the', 'DT'), ('flipped', 'JJ'), ('classroom', 'NN'), ('approach', 'NN'), ('fca', 'JJ'), ('positively', 'RB'), ('impacts', 'VBZ'), ('the', 'DT'), ('student', 'NN'), ('learning', 'VBG'), ('experience', 'NN'), ('and', 'CC'), ('outcomes', 'NNS'), ('much', 'RB'), ('less', 'JJR'), ('is', 'VBZ'), ('known', 'VBN'), ('about', 'IN'), ('the', 'DT'), ('educator', 'NN'), ('experience', 'NN')]\n",
      "\n",
      "this study aimed to explore how educators across several disciplines in a regional australian university describe their experience of using the fca .\n",
      "[('this', 'DT'), ('study', 'NN'), ('aimed', 'VBD'), ('to', 'TO'), ('explore', 'VB'), ('how', 'WRB'), ('educators', 'NNS'), ('across', 'IN'), ('several', 'JJ'), ('disciplines', 'NNS'), ('in', 'IN'), ('a', 'DT'), ('regional', 'JJ'), ('australian', 'JJ'), ('university', 'NN'), ('describe', 'VB'), ('their', 'PRP$'), ('experience', 'NN'), ('of', 'IN'), ('using', 'VBG'), ('the', 'DT'), ('fca', 'NN')]\n",
      "\n",
      "qualitative description methodology guided the research whereby individual face to face semi structured interviews collected qualitative data from educators who had used the fca in the previous 4 years which was then analysed using reflexive thematic analysis .\n",
      "[('qualitative', 'JJ'), ('description', 'NN'), ('methodology', 'NN'), ('guided', 'VBD'), ('the', 'DT'), ('research', 'NN'), ('whereby', 'WRB'), ('individual', 'JJ'), ('face', 'NN'), ('to', 'TO'), ('face', 'VB'), ('semi', 'NN'), ('structured', 'VBN'), ('interviews', 'NNS'), ('collected', 'VBN'), ('qualitative', 'JJ'), ('data', 'NNS'), ('from', 'IN'), ('educators', 'NNS'), ('who', 'WP'), ('had', 'VBD'), ('used', 'VBN'), ('the', 'DT'), ('fca', 'NN'), ('in', 'IN'), ('the', 'DT'), ('previous', 'JJ'), ('4', 'CD'), ('years', 'NNS'), ('which', 'WDT'), ('was', 'VBD'), ('then', 'RB'), ('analysed', 'VBN'), ('using', 'VBG'), ('reflexive', 'JJ'), ('thematic', 'JJ'), ('analysis', 'NN')]\n",
      "\n",
      "eleven educators across seven disciplines were recruited , eight of whom had fully and three partially flipped a course .\n",
      "[('eleven', 'JJ'), ('educators', 'NNS'), ('across', 'IN'), ('seven', 'CD'), ('disciplines', 'NNS'), ('were', 'VBD'), ('recruited', 'VBN'), ('eight', 'CD'), ('of', 'IN'), ('whom', 'WP'), ('had', 'VBD'), ('fully', 'RB'), ('and', 'CC'), ('three', 'CD'), ('partially', 'RB'), ('flipped', 'VBD'), ('a', 'DT'), ('course', 'NN')]\n",
      "\n",
      "four broad themes described the educator experience of the fca namely , the environmental influence , preparation and implementation , emotional response and metacognition .\n",
      "[('four', 'CD'), ('broad', 'JJ'), ('themes', 'NNS'), ('described', 'VBD'), ('the', 'DT'), ('educator', 'NN'), ('experience', 'NN'), ('of', 'IN'), ('the', 'DT'), ('fca', 'NN'), ('namely', 'RB'), ('the', 'DT'), ('environmental', 'JJ'), ('influence', 'NN'), ('preparation', 'NN'), ('and', 'CC'), ('implementation', 'NN'), ('emotional', 'JJ'), ('response', 'NN'), ('and', 'CC'), ('metacognition', 'NN')]\n",
      "\n",
      "there were 20 sub themes across the four themes .\n",
      "[('there', 'EX'), ('were', 'VBD'), ('20', 'CD'), ('sub', 'JJ'), ('themes', 'NNS'), ('across', 'IN'), ('the', 'DT'), ('four', 'CD'), ('themes', 'NNS')]\n",
      "\n",
      "educators in this study were both ambivalent and internally motivated by the fca , valued scholarly and institutional support , highlighted the importance of reflexive teaching practice and appreciated the affordance of more active learning opportunities in class .\n",
      "[('educators', 'NNS'), ('in', 'IN'), ('this', 'DT'), ('study', 'NN'), ('were', 'VBD'), ('both', 'DT'), ('ambivalent', 'JJ'), ('and', 'CC'), ('internally', 'RB'), ('motivated', 'VBN'), ('by', 'IN'), ('the', 'DT'), ('fca', 'NN'), ('valued', 'VBN'), ('scholarly', 'JJ'), ('and', 'CC'), ('institutional', 'JJ'), ('support', 'NN'), ('highlighted', 'VBD'), ('the', 'DT'), ('importance', 'NN'), ('of', 'IN'), ('reflexive', 'JJ'), ('teaching', 'NN'), ('practice', 'NN'), ('and', 'CC'), ('appreciated', 'VBD'), ('the', 'DT'), ('affordance', 'NN'), ('of', 'IN'), ('more', 'RBR'), ('active', 'JJ'), ('learning', 'NN'), ('opportunities', 'NNS'), ('in', 'IN'), ('class', 'NN')]\n",
      "\n",
      "the human aspect of competing emotions was clear when implementing the fca .\n",
      "[('the', 'DT'), ('human', 'JJ'), ('aspect', 'NN'), ('of', 'IN'), ('competing', 'VBG'), ('emotions', 'NNS'), ('was', 'VBD'), ('clear', 'JJ'), ('when', 'WRB'), ('implementing', 'VBG'), ('the', 'DT'), ('fca', 'NN')]\n",
      "\n",
      "educators need_to prepare themselves for the emotional investment that accompanies the fca , to be responsive and adaptive in what and how content is delivered .\n",
      "[('educators', 'NNS'), ('need_to', 'VBP'), ('prepare', 'VBP'), ('themselves', 'PRP'), ('for', 'IN'), ('the', 'DT'), ('emotional', 'JJ'), ('investment', 'NN'), ('that', 'WDT'), ('accompanies', 'VBZ'), ('the', 'DT'), ('fca', 'NN'), ('to', 'TO'), ('be', 'VB'), ('responsive', 'JJ'), ('and', 'CC'), ('adaptive', 'JJ'), ('in', 'IN'), ('what', 'WP'), ('and', 'CC'), ('how', 'WRB'), ('content', 'NN'), ('is', 'VBZ'), ('delivered', 'VBN')]\n",
      "\n",
      "institutions should provide adequate support to cater for both the well being of educators as well as the practicalities of implementing the fca .\n",
      "[('institutions', 'NNS'), ('should', 'MD'), ('provide', 'VB'), ('adequate', 'JJ'), ('support', 'NN'), ('to', 'TO'), ('cater', 'VB'), ('for', 'IN'), ('both', 'DT'), ('the', 'DT'), ('well', 'NN'), ('being', 'VBG'), ('of', 'IN'), ('educators', 'NNS'), ('as', 'RB'), ('well', 'RB'), ('as', 'IN'), ('the', 'DT'), ('practicalities', 'NNS'), ('of', 'IN'), ('implementing', 'VBG'), ('the', 'DT'), ('fca', 'NN')]\n",
      "\n"
     ]
    }
   ],
   "source": [
    "from textblob import TextBlob\n",
    "\n",
    "# print the tags of the words in the text, by phrase\n",
    "blob = TextBlob(raw_text)\n",
    "for sentence in blob.sentences:\n",
    "    print(sentence)\n",
    "    print(sentence.tags)\n",
    "    print()"
   ]
  },
  {
   "cell_type": "code",
   "execution_count": 31,
   "metadata": {},
   "outputs": [
    {
     "name": "stdout",
     "output_type": "stream",
     "text": [
      "[('FACE-TO-FACE', 'NN')]\n"
     ]
    }
   ],
   "source": [
    "# tags for \"face-to-face\"\n",
    "blob = TextBlob(\"Face-to-face\".upper())\n",
    "print(blob.tags)"
   ]
  }
 ],
 "metadata": {
  "kernelspec": {
   "display_name": ".venv",
   "language": "python",
   "name": "python3"
  },
  "language_info": {
   "codemirror_mode": {
    "name": "ipython",
    "version": 3
   },
   "file_extension": ".py",
   "mimetype": "text/x-python",
   "name": "python",
   "nbconvert_exporter": "python",
   "pygments_lexer": "ipython3",
   "version": "3.9.6"
  }
 },
 "nbformat": 4,
 "nbformat_minor": 2
}
