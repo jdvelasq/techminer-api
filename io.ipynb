{
 "cells": [
  {
   "cell_type": "code",
   "execution_count": 1,
   "metadata": {},
   "outputs": [
    {
     "name": "stderr",
     "output_type": "stream",
     "text": [
      "INFO - ----------< Extractig data from techminer/tests/data/scopus.csv >-----------\n",
      "INFO - Renaming columns\n",
      "INFO - Deleting innecesary columns\n",
      "INFO - Replacing accents\n",
      "INFO - Formating publication_name\n",
      "INFO - Formating ISSN\n",
      "INFO - Formatting DOI to upper case\n",
      "INFO - Formating ISO source abbreviation\n",
      "INFO - Filling na with global abbreviation\n",
      "INFO - Formatting author_keywords\n",
      "INFO - Formatting index_keywords\n",
      "INFO - Removing copyright\n",
      "INFO - Cleaning document title\n",
      "INFO - Removing [No author name available]\n",
      "INFO - Removing [Anonymous]\n",
      "INFO - Counting number of authors per document\n",
      "INFO - Computing fraction of documents\n",
      "WARNING - Duplicate rows found in ./datastore/datastore.csv - Records saved to ./datastore/duplicates.csv\n",
      "INFO - ----------< Extractig data from techminer/tests/data/savedrecs.txt >-----------\n",
      "INFO - Renaming columns\n",
      "INFO - Deleting innecesary columns\n",
      "INFO - Replacing accents\n",
      "INFO - Formating publication_name\n",
      "INFO - Formating ISSN\n",
      "INFO - Formating eISSN\n",
      "INFO - Formatting DOI to upper case\n",
      "INFO - Formating ISO source abbreviation\n",
      "INFO - Filling na with global abbreviation\n",
      "INFO - Formatting author_keywords\n",
      "INFO - Formatting index_keywords\n",
      "INFO - Removing copyright\n",
      "INFO - Cleaning document title\n",
      "INFO - Removing [No author name available]\n",
      "INFO - Removing [Anonymous]\n",
      "INFO - Counting number of authors per document\n",
      "INFO - Computing fraction of documents\n",
      "WARNING - Duplicate rows found in ./datastore/datastore.csv - Records saved to ./datastore/duplicates.csv\n",
      "INFO - ----------< Extractig data from techminer/tests/data/dimensions.csv >-----------\n",
      "INFO - Renaming columns\n",
      "INFO - Deleting innecesary columns\n",
      "INFO - Replacing accents\n",
      "INFO - Formating publication_name\n",
      "INFO - Formatting DOI to upper case\n",
      "INFO - Removing copyright\n",
      "INFO - Cleaning document title\n",
      "INFO - Removing [No author name available]\n",
      "INFO - Removing [Anonymous]\n",
      "INFO - Counting number of authors per document\n",
      "INFO - Computing fraction of documents\n",
      "WARNING - Duplicate rows found in ./datastore/datastore.csv - Records saved to ./datastore/duplicates.csv\n"
     ]
    }
   ],
   "source": [
    "import pandas as pd\n",
    "from techminer.core import load_file\n",
    "from techminer.core import process_datastore\n",
    "\n",
    "!rm -rf datastore/datastore.csv\n",
    "\n",
    "scopus_df = load_file(filepath=\"techminer/tests/data/scopus.csv\", filetype=\"scopus\", datastorepath=\"./datastore\")\n",
    "wos_df = load_file(filepath=\"techminer/tests/data/savedrecs.txt\", filetype=\"wos\", datastorepath=\"./datastore\")\n",
    "dim_df = load_file(filepath=\"techminer/tests/data/dimensions.csv\", filetype=\"dimensions\", datastorepath=\"./datastore\")\n",
    "\n",
    "# display(\n",
    "#     scopus_df.head(),\n",
    "#     wos_df.head(),\n",
    "#     dim_df.head(),\n",
    "# )\n",
    "\n",
    "# process_datastore(datastorepath=\"./datastore\")"
   ]
  },
  {
   "cell_type": "code",
   "execution_count": null,
   "metadata": {},
   "outputs": [],
   "source": []
  }
 ],
 "metadata": {
  "interpreter": {
   "hash": "949777d72b0d2535278d3dc13498b2535136f6dfe0678499012e853ee9abcab1"
  },
  "kernelspec": {
   "display_name": "Python 3.7.12 64-bit",
   "name": "python3"
  },
  "language_info": {
   "codemirror_mode": {
    "name": "ipython",
    "version": 3
   },
   "file_extension": ".py",
   "mimetype": "text/x-python",
   "name": "python",
   "nbconvert_exporter": "python",
   "pygments_lexer": "ipython3",
   "version": "3.7.12"
  },
  "orig_nbformat": 4
 },
 "nbformat": 4,
 "nbformat_minor": 2
}
