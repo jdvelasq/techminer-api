{
 "cells": [
  {
   "cell_type": "code",
   "execution_count": 1,
   "metadata": {},
   "outputs": [
    {
     "data": {
      "text/plain": [
       "0    Yeung K, 2018, REGUL GOVERNANCE, V12, P505; Hi...\n",
       "1    Aggarwal R, 2011, J FINANC ECON, V100, P154; A...\n",
       "2                                                  NaN\n",
       "3    AKCAY S, 2020, APPL ECON LETT, V27, P1206; Ana...\n",
       "4    Almeida H, 2011, J FINANC ECON, V102, P526; An...\n",
       "Name: local_references, dtype: object"
      ]
     },
     "execution_count": 1,
     "metadata": {},
     "output_type": "execute_result"
    }
   ],
   "source": [
    "import pandas as pd\n",
    "import os\n",
    "import sys\n",
    "\n",
    "currentdir = os.getcwd()\n",
    "parentdir = os.path.dirname(currentdir)\n",
    "sys.path.append(parentdir)\n",
    "\n",
    "#  from itables import init_notebook_mode\n",
    "#  init_notebook_mode(all_interactive=True)\n",
    "# ---\n",
    "#  from techminer2 import vantagepoint\n",
    "\n",
    "\n",
    "df = pd.read_csv(\"regtech/databases/_main.csv\")\n",
    "df.local_references.head()"
   ]
  },
  {
   "cell_type": "code",
   "execution_count": null,
   "metadata": {},
   "outputs": [],
   "source": []
  }
 ],
 "metadata": {
  "kernelspec": {
   "display_name": "Python 3.8.9 ('.venv': venv)",
   "language": "python",
   "name": "python3"
  },
  "language_info": {
   "codemirror_mode": {
    "name": "ipython",
    "version": 3
   },
   "file_extension": ".py",
   "mimetype": "text/x-python",
   "name": "python",
   "nbconvert_exporter": "python",
   "pygments_lexer": "ipython3",
   "version": "3.9.6"
  },
  "orig_nbformat": 4,
  "vscode": {
   "interpreter": {
    "hash": "ff8a4715c70c0e4b3cc8412ea892d5df3eeb381ac1fbe083ff6ed76fad7df612"
   }
  }
 },
 "nbformat": 4,
 "nbformat_minor": 2
}
