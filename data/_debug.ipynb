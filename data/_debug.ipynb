{
 "cells": [
  {
   "cell_type": "code",
   "execution_count": 5,
   "metadata": {},
   "outputs": [
    {
     "data": {
      "text/plain": [
       "0     Teichmann F, 2023, TECHNOL SOC, V72\n",
       "1    Lan G, 2023, RES INT BUS FINANC, V64\n",
       "2     Kshetri N, 2022, COMPUTER, V55, P24\n",
       "3    Muganyi T, 2022, FINANCIAL INNOV, V8\n",
       "4          Gu M, 2022, J CORP FINANC, V76\n",
       "Name: article, dtype: object"
      ]
     },
     "execution_count": 5,
     "metadata": {},
     "output_type": "execute_result"
    }
   ],
   "source": [
    "import pandas as pd\n",
    "import os\n",
    "import sys\n",
    "\n",
    "currentdir = os.getcwd()\n",
    "parentdir = os.path.dirname(currentdir)\n",
    "sys.path.append(parentdir)\n",
    "\n",
    "#  from itables import init_notebook_mode\n",
    "#  init_notebook_mode(all_interactive=True)\n",
    "# ---\n",
    "#  from techminer2 import vantagepoint\n",
    "\n",
    "\n",
    "df = pd.read_csv(\"regtech/databases/_main.csv\")\n",
    "df.article.head()"
   ]
  },
  {
   "cell_type": "code",
   "execution_count": null,
   "metadata": {},
   "outputs": [],
   "source": []
  }
 ],
 "metadata": {
  "kernelspec": {
   "display_name": "Python 3.8.9 ('.venv': venv)",
   "language": "python",
   "name": "python3"
  },
  "language_info": {
   "codemirror_mode": {
    "name": "ipython",
    "version": 3
   },
   "file_extension": ".py",
   "mimetype": "text/x-python",
   "name": "python",
   "nbconvert_exporter": "python",
   "pygments_lexer": "ipython3",
   "version": "3.9.6"
  },
  "orig_nbformat": 4,
  "vscode": {
   "interpreter": {
    "hash": "ff8a4715c70c0e4b3cc8412ea892d5df3eeb381ac1fbe083ff6ed76fad7df612"
   }
  }
 },
 "nbformat": 4,
 "nbformat_minor": 2
}
