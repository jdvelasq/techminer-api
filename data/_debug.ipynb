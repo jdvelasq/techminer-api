{
 "cells": [
  {
   "cell_type": "code",
   "execution_count": 1,
   "metadata": {},
   "outputs": [
    {
     "name": "stdout",
     "output_type": "stream",
     "text": [
      "- INFO - 248 raw records found in ./documents.csv.\n",
      "- INFO - 5123 raw records found in ./raw-references.csv.\n",
      "- INFO - Creating references file\n"
     ]
    },
    {
     "name": "stderr",
     "output_type": "stream",
     "text": [
      "100%|██████████| 5123/5123 [01:18<00:00, 65.67it/s]\n"
     ]
    },
    {
     "name": "stdout",
     "output_type": "stream",
     "text": [
      "- INFO - References table saved to ./cited_references_table.csv\n",
      "           citing_id\n",
      "cited_id            \n",
      "1937-0000          3\n",
      "1943-0000          1\n",
      "1955-0000          1\n",
      "1956-0000          2\n",
      "1960-0000          1\n",
      "- INFO - References table saved to ./references.csv\n"
     ]
    }
   ],
   "source": [
    "import os, sys\n",
    "import pandas as pd\n",
    "from sklearn.manifold import MDS\n",
    "from sklearn.cluster import KMeans\n",
    "\n",
    "currentdir = os.getcwd()\n",
    "parentdir = os.path.dirname(currentdir)\n",
    "sys.path.append(parentdir)\n",
    "\n",
    "\n",
    "from  techminer import *\n",
    "\n",
    "# import_scopus_file()\n",
    "import_references()"
   ]
  },
  {
   "cell_type": "code",
   "execution_count": null,
   "metadata": {},
   "outputs": [],
   "source": [
    "import pandas as pd\n",
    "\n",
    "documents = pd.read_csv(\"documents.csv\")\n",
    "documents = documents.sort_values(\"local_citations\", ascending=False)\n",
    "for row in documents.head(20).iterrows():\n",
    "    print(row[1][\"local_citations\"], row[1][\"document_title\"])\n",
    "    "
   ]
  },
  {
   "cell_type": "code",
   "execution_count": 4,
   "metadata": {},
   "outputs": [
    {
     "name": "stdout",
     "output_type": "stream",
     "text": [
      "0 Cutoff criteria for fit indexes in covariance structure analysis: Conventional criteria versus new alternatives\n",
      "0 Past, present and future: music economics at the crossroads\n",
      "0 Personal information in peer-to-peer loan applications: Is less more?\n",
      "0 Towards a market entry framework for digital payment platforms\n",
      "0 Guest editors’ introduction: Figures of entanglement: Special issue introduction\n",
      "0 Enhancing fundraising with refund bonuses\n",
      "0 A combination of models for financial crisis prediction: Integrating probabilistic neural network with back-propagation based on adaptive boosting\n",
      "0 Null hypothesis significance testing: A guide to commonly misunderstood concepts and recommendations for good practice\n",
      "0 Trust, Security and Privacy in Emerging Distributed Systems\n",
      "0 Understanding of e-service security dimensions and its effect on quality and intention to use\n",
      "0 Separating apples from oranges: Identifying threats to financial stability originating from FinTech\n",
      "0 Revolution of securities law in the Internet Age: A review on equity crowd-funding\n",
      "0 The payment services Directive II and competitiveness: The perspective of European fintech companies\n",
      "0 Money at the margins: Global perspectives on technology, financial inclusion and design\n",
      "0 From Ant Financial to Alibaba's Rural Taobao Strategy - How Fintech Is Transforming Social Inclusion\n",
      "0 Mind your credit: Assessing the health of the ripple credit network\n",
      "0 Integration of Financial Markets in Post Global Financial Crises and Implications for British Financial Sector: Analysis Based on A Panel VAR Model\n",
      "0 The difference that ‘capitalism’ makes: on the merits and limits of critical political economy in African Studies\n",
      "0 Historical Roots of Microcredit and Usury: The Role of Monti di Pietà in Italy and in the Kingdom of Naples in XV–XX Centuries\n",
      "0 An acceptance model for user-centric persuasive environmental sustainable IS\n"
     ]
    }
   ],
   "source": [
    "import pandas as pd\n",
    "\n",
    "references = pd.read_csv(\"references.csv\")\n",
    "references = references.sort_values(\"local_citations\", ascending=True)\n",
    "for row in references.head(20).iterrows():\n",
    "    print(row[1][\"local_citations\"], row[1][\"document_title\"])"
   ]
  },
  {
   "cell_type": "code",
   "execution_count": 5,
   "metadata": {},
   "outputs": [
    {
     "data": {
      "text/plain": [
       "0"
      ]
     },
     "execution_count": 5,
     "metadata": {},
     "output_type": "execute_result"
    }
   ],
   "source": [
    "pd.read_csv(\"references.csv\").local_citations.sum()"
   ]
  },
  {
   "cell_type": "code",
   "execution_count": null,
   "metadata": {},
   "outputs": [],
   "source": []
  }
 ],
 "metadata": {
  "interpreter": {
   "hash": "949777d72b0d2535278d3dc13498b2535136f6dfe0678499012e853ee9abcab1"
  },
  "kernelspec": {
   "display_name": "Python 3.7.12 64-bit",
   "language": "python",
   "name": "python3"
  },
  "language_info": {
   "codemirror_mode": {
    "name": "ipython",
    "version": 3
   },
   "file_extension": ".py",
   "mimetype": "text/x-python",
   "name": "python",
   "nbconvert_exporter": "python",
   "pygments_lexer": "ipython3",
   "version": "3.7.12"
  },
  "orig_nbformat": 4
 },
 "nbformat": 4,
 "nbformat_minor": 2
}
