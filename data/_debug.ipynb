{
 "cells": [
  {
   "cell_type": "code",
   "execution_count": 1,
   "metadata": {},
   "outputs": [
    {
     "data": {
      "text/plain": [
       "(373, 273, 148, 155, 273)"
      ]
     },
     "execution_count": 1,
     "metadata": {},
     "output_type": "execute_result"
    }
   ],
   "source": [
    "import pandas as pd\n",
    "import os\n",
    "import sys\n",
    "\n",
    "currentdir = os.getcwd()\n",
    "parentdir = os.path.dirname(currentdir)\n",
    "sys.path.append(parentdir)\n",
    "\n",
    "#  from itables import init_notebook_mode\n",
    "#  init_notebook_mode(all_interactive=True)\n",
    "# ---\n",
    "#  from techminer2 import vantagepoint\n",
    "\n",
    "\n",
    "df = pd.read_csv(\"regtech/databases/_main.csv\")\n",
    "\n",
    "raw_nlp_phrases = df[\"raw_nlp_phrases\"].dropna()\n",
    "raw_nlp_phrases = set(\n",
    "    raw_nlp_phrases.str.split(\";\").explode().str.strip().to_list()\n",
    ")\n",
    "\n",
    "raw_keywords = df[\"raw_keywords\"].dropna()\n",
    "raw_keywords = set(raw_keywords.str.split(\";\").explode().str.strip().to_list())\n",
    "\n",
    "raw_author_keywords = df[\"raw_author_keywords\"].dropna()\n",
    "raw_author_keywords = set(\n",
    "    raw_author_keywords.str.split(\";\").explode().str.strip().to_list()\n",
    ")\n",
    "\n",
    "raw_index_keywords = df[\"raw_index_keywords\"].dropna()\n",
    "raw_index_keywords = set(\n",
    "    raw_index_keywords.str.split(\";\").explode().str.strip().to_list()\n",
    ")\n",
    "\n",
    "len(raw_nlp_phrases), len(raw_keywords), len(raw_author_keywords), len(\n",
    "    raw_index_keywords\n",
    "), len(raw_author_keywords | raw_index_keywords)"
   ]
  },
  {
   "cell_type": "code",
   "execution_count": 2,
   "metadata": {},
   "outputs": [
    {
     "data": {
      "text/plain": [
       "157"
      ]
     },
     "execution_count": 2,
     "metadata": {},
     "output_type": "execute_result"
    }
   ],
   "source": [
    "raw_abstract_nlp_phrases = set(\n",
    "    df[\"raw_abstract_nlp_phrases\"].dropna().str.split(\n",
    "        \"; \").explode().str.strip()\n",
    ")\n",
    "len(raw_abstract_nlp_phrases)"
   ]
  },
  {
   "cell_type": "code",
   "execution_count": 3,
   "metadata": {},
   "outputs": [
    {
     "data": {
      "text/plain": [
       "40"
      ]
     },
     "execution_count": 3,
     "metadata": {},
     "output_type": "execute_result"
    }
   ],
   "source": [
    "raw_title_nlp_phrases = set(\n",
    "    df[\"raw_title_nlp_phrases\"].dropna().str.split(\"; \").explode().str.strip()\n",
    ")\n",
    "len(raw_title_nlp_phrases)"
   ]
  },
  {
   "cell_type": "code",
   "execution_count": 4,
   "metadata": {},
   "outputs": [
    {
     "data": {
      "text/plain": [
       "373"
      ]
     },
     "execution_count": 4,
     "metadata": {},
     "output_type": "execute_result"
    }
   ],
   "source": [
    "len(raw_title_nlp_phrases | raw_abstract_nlp_phrases | raw_keywords)"
   ]
  },
  {
   "cell_type": "code",
   "execution_count": null,
   "metadata": {},
   "outputs": [],
   "source": [
    "raw_title_nlp_phrases"
   ]
  },
  {
   "cell_type": "code",
   "execution_count": null,
   "metadata": {},
   "outputs": [],
   "source": []
  }
 ],
 "metadata": {
  "kernelspec": {
   "display_name": "Python 3.8.9 ('.venv': venv)",
   "language": "python",
   "name": "python3"
  },
  "language_info": {
   "codemirror_mode": {
    "name": "ipython",
    "version": 3
   },
   "file_extension": ".py",
   "mimetype": "text/x-python",
   "name": "python",
   "nbconvert_exporter": "python",
   "pygments_lexer": "ipython3",
   "version": "3.9.6"
  },
  "orig_nbformat": 4,
  "vscode": {
   "interpreter": {
    "hash": "ff8a4715c70c0e4b3cc8412ea892d5df3eeb381ac1fbe083ff6ed76fad7df612"
   }
  }
 },
 "nbformat": 4,
 "nbformat_minor": 2
}
