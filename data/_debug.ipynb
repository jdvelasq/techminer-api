{
 "cells": [
  {
   "cell_type": "code",
   "execution_count": null,
   "metadata": {},
   "outputs": [],
   "source": [
    "import os, sys\n",
    "import pandas as pd\n",
    "from sklearn.manifold import MDS\n",
    "from sklearn.cluster import KMeans\n",
    "\n",
    "currentdir = os.getcwd()\n",
    "parentdir = os.path.dirname(currentdir)\n",
    "sys.path.append(parentdir)\n",
    "\n",
    "\n",
    "from  techminer import *\n",
    "\n",
    "# import_scopus_file(scopus_file='raw-documents.csv',)\n",
    "# import_references(scopus_file=\"raw-references.csv\")\n",
    "\n",
    "\n",
    "\n",
    "\n",
    "directory = \"/workspaces/techminer-api/data/\"\n",
    "matrix = coupling_by_column_matrix(\n",
    "    column='author_keywords',\n",
    "    min_occ=6, \n",
    "    top_n=100,\n",
    "    directory=directory,\n",
    ")\n",
    "coupling_net =  coupling_network(matrix, directory=directory)\n",
    "# network_plot(coupling_net, max_labels=10,k=0.001, iterations=100)\n",
    "network_communities(coupling_net)"
   ]
  },
  {
   "cell_type": "code",
   "execution_count": null,
   "metadata": {},
   "outputs": [],
   "source": []
  },
  {
   "cell_type": "code",
   "execution_count": null,
   "metadata": {},
   "outputs": [],
   "source": [
    "import pandas as pd\n",
    "\n",
    "documents = pd.read_csv(\"documents.csv\")\n",
    "documents = documents.sort_values(\"local_citations\", ascending=False)\n",
    "for row in documents.head(20).iterrows():\n",
    "    print(row[1][\"local_citations\"], row[1][\"document_title\"])\n",
    "    "
   ]
  },
  {
   "cell_type": "code",
   "execution_count": null,
   "metadata": {},
   "outputs": [],
   "source": [
    "import pandas as pd\n",
    "\n",
    "references = pd.read_csv(\"references.csv\")\n",
    "references = references.sort_values(\"local_citations\", ascending=False)\n",
    "for row in references.head(20).iterrows():\n",
    "    print(row[1][\"local_citations\"], row[1][\"document_title\"])"
   ]
  },
  {
   "cell_type": "code",
   "execution_count": null,
   "metadata": {},
   "outputs": [],
   "source": [
    "import pandas as pd\n",
    "\n",
    "pd.read_csv(\"references.csv\").authors.str.split(\";\")"
   ]
  },
  {
   "cell_type": "code",
   "execution_count": null,
   "metadata": {},
   "outputs": [],
   "source": [
    "from techminer import *\n",
    "directory = \"/workspaces/techminer-api/data/\"\n",
    "collaboration_indicators(\"countries\", directory=directory).head()"
   ]
  },
  {
   "cell_type": "code",
   "execution_count": null,
   "metadata": {},
   "outputs": [],
   "source": [
    "import pandas as pd\n",
    "\n",
    "m = pd.DataFrame(\n",
    "    {\n",
    "    'a': [1, 1, 1, 2, 2, 2],\n",
    "    'b': ['A', 'B', 'D', 'A', 'B', 'C'],\n",
    "    'v': [1, 2, 3, 4, 5, 6]\n",
    "    }\n",
    ")\n",
    "m.pivot(index='a', columns='b', values='v')"
   ]
  },
  {
   "cell_type": "code",
   "execution_count": null,
   "metadata": {},
   "outputs": [],
   "source": []
  }
 ],
 "metadata": {
  "interpreter": {
   "hash": "949777d72b0d2535278d3dc13498b2535136f6dfe0678499012e853ee9abcab1"
  },
  "kernelspec": {
   "display_name": "Python 3.7.12 64-bit",
   "language": "python",
   "name": "python3"
  },
  "language_info": {
   "codemirror_mode": {
    "name": "ipython",
    "version": 3
   },
   "file_extension": ".py",
   "mimetype": "text/x-python",
   "name": "python",
   "nbconvert_exporter": "python",
   "pygments_lexer": "ipython3",
   "version": "3.7.12"
  },
  "orig_nbformat": 4
 },
 "nbformat": 4,
 "nbformat_minor": 2
}
