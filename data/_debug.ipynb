{
 "cells": [
  {
   "cell_type": "code",
   "execution_count": 1,
   "metadata": {},
   "outputs": [
    {
     "name": "stdout",
     "output_type": "stream",
     "text": [
      "Note: to be able to use all crisp methods, you need to install some additional packages:  {'leidenalg', 'karateclub', 'graph_tool', 'wurlitzer', 'infomap'}\n",
      "Note: to be able to use all overlapping methods, you need to install some additional packages:  {'ASLPAw', 'karateclub'}\n",
      "Note: to be able to use all bipartite methods, you need to install some additional packages:  {'leidenalg', 'infomap', 'wurlitzer'}\n",
      "--INFO-- Concatenating raw files in regtech/raw/cited_by/\n",
      "--INFO-- Concatenating raw files in regtech/raw/references/\n",
      "--INFO-- Concatenating raw files in regtech/raw/documents/\n",
      "--INFO-- Applying scopus tags to database files\n",
      "--INFO-- Formating column names in database files\n",
      "--INFO-- Dropping NA columns in database files\n",
      "--INFO-- Removing accents in database files\n",
      "--INFO-- Creating `filter.yaml` file\n",
      "--INFO-- Processing `abstract` column\n",
      "--INFO-- Processing `authors_id` column\n",
      "--INFO-- Processing `title` column\n",
      "--INFO-- Processing `document_type` column\n",
      "--INFO-- Processing `doi` column\n",
      "--INFO-- Processing `eissn` column\n",
      "--INFO-- Processing `global_citations` column\n",
      "--INFO-- Processing `isbn` column\n",
      "--INFO-- Processing `issn` column\n",
      "--INFO-- Processing `raw_authors` column\n",
      "--INFO-- Processing `source_abbr` column\n",
      "--INFO-- Processing `source_name` column\n",
      "--INFO-- Processing `global_references` column\n",
      "--INFO-- Creating `authors` column\n",
      "--INFO-- Creating `num_authors` column\n",
      "--INFO-- Creating `article` column\n",
      "--INFO-- Processing `raw_author_keywords` column\n",
      "--INFO-- Processing `raw_index_keywords` column\n",
      "--INFO-- Creating `raw_abstract_words` column\n",
      "--INFO-- Creating `raw_abstract_words` column in regtech/processed/_documents.csv\n",
      "--INFO-- Creating `raw_title_words` column in regtech/processed/_documents.csv\n",
      "--INFO-- Creating `author_year_source` column\n",
      "--INFO-- Creating `words.txt` from author/index keywords, and abstract/title words\n",
      "--INFO-- Applying `words.txt` thesaurus to author/index keywords and abstract/title words\n",
      "--INFO-- The regtech/processed/countries.txt thesaurus file was created\n",
      "--INFO-- The regtech/processed/countries.txt thesaurus file was applied to affiliations in all databases\n",
      "--INFO-- Creating `num_global_references` column\n",
      "--INFO-- Complete `source_abbr` column\n",
      "--INFO-- Creating `abstract.csv` file from `documents` database\n",
      "--INFO-- Creating `bradford` column\n",
      "--INFO-- The regtech/processed/institutions.txt thesaurus file was created\n",
      "--INFO-- The regtech/processed/institutions.txt thesaurus file was applied to affiliations in all databases\n",
      "--INFO-- Process finished!!!\n"
     ]
    }
   ],
   "source": [
    "import os, sys\n",
    "\n",
    "currentdir = os.getcwd()\n",
    "parentdir = os.path.dirname(currentdir)\n",
    "sys.path.append(parentdir)\n",
    "\n",
    "# from itables import init_notebook_mode\n",
    "# init_notebook_mode(all_interactive=True)\n",
    "# --- \n",
    "from techminer2 import *\n",
    "\n",
    "directory = \"regtech\"\n",
    "\n",
    "import_scopus_files(directory)\n",
    "# import_references()\n",
    "# annual_scientific_production()\n",
    "# main_information(directory)"
   ]
  },
  {
   "cell_type": "code",
   "execution_count": 3,
   "metadata": {},
   "outputs": [
    {
     "data": {
      "text/plain": [
       "0     bank; digital transformation; regtech; regulat...\n",
       "1     application; blockchain; india; manage; report...\n",
       "2     bahrain; laundering; money; money laundering; ...\n",
       "3     ai; artificial intelligence; financial; financ...\n",
       "4     bibliometric; environment; financial; financia...\n",
       "                            ...                        \n",
       "89                            robo-advisors; taxonomies\n",
       "90                               blockchain; compliance\n",
       "91          data; ecosystem; fintech; fintech ecosystem\n",
       "92                 compliance; legal; legal rules; rule\n",
       "93     finance; finance industries; industrial; regtech\n",
       "Name: title_words, Length: 94, dtype: object"
      ]
     },
     "execution_count": 3,
     "metadata": {},
     "output_type": "execute_result"
    }
   ],
   "source": [
    "import pandas as pd\n",
    "\n",
    "data = pd.read_csv(f\"{directory}/processed/_documents.csv\")\n",
    "data.title_words"
   ]
  },
  {
   "cell_type": "code",
   "execution_count": 4,
   "metadata": {},
   "outputs": [
    {
     "name": "stdout",
     "output_type": "stream",
     "text": [
      "bank; digital transformation; regtech; regulatory technology; technology; transformation\n",
      "application; blockchain; india; management; reporting framework\n",
      "bahrain; laundering; money; money laundering; prevention; regtech; regulatory technology; technology\n",
      "ai; artificial intelligence; financial; financial technology; fintech; intelligence; pandemic; technology\n",
      "bibliometric; environment; financial; financial technology; fintech; society; technology; trends\n"
     ]
    }
   ],
   "source": [
    "import pandas as pd\n",
    "\n",
    "data = pd.read_csv(f\"{directory}/processed/_documents.csv\")\n",
    "for t in data.raw_title_words.head():\n",
    "    print(t)"
   ]
  },
  {
   "cell_type": "code",
   "execution_count": 3,
   "metadata": {},
   "outputs": [
    {
     "name": "stdout",
     "output_type": "stream",
     "text": [
      "Integrating Regulatory Technology (RegTech) into the digital transformation of a bank Treasury\n",
      "Corporate bankingrisk management, regulatory and reporting framework in India: a Blockchain application-based approach\n",
      "Regulatory technology (regtech) and money laundering prevention: exploratory study from bahrain\n",
      "Artificial Intelligence and Financial Technology FinTech: How AI Is Being Used Under the Pandemic in 2020\n",
      "Trends and directions of financial technology (Fintech) in society and environment: A bibliometric study\n"
     ]
    }
   ],
   "source": [
    "import pandas as pd\n",
    "\n",
    "data = pd.read_csv(f\"{directory}/processed/_documents.csv\")\n",
    "for t in data.title.head():\n",
    "    print(t)\n"
   ]
  },
  {
   "cell_type": "code",
   "execution_count": null,
   "metadata": {},
   "outputs": [],
   "source": []
  },
  {
   "cell_type": "code",
   "execution_count": null,
   "metadata": {},
   "outputs": [],
   "source": []
  }
 ],
 "metadata": {
  "kernelspec": {
   "display_name": "Python 3.8.9 ('.venv': venv)",
   "language": "python",
   "name": "python3"
  },
  "language_info": {
   "codemirror_mode": {
    "name": "ipython",
    "version": 3
   },
   "file_extension": ".py",
   "mimetype": "text/x-python",
   "name": "python",
   "nbconvert_exporter": "python",
   "pygments_lexer": "ipython3",
   "version": "3.8.9"
  },
  "orig_nbformat": 4,
  "vscode": {
   "interpreter": {
    "hash": "ff8a4715c70c0e4b3cc8412ea892d5df3eeb381ac1fbe083ff6ed76fad7df612"
   }
  }
 },
 "nbformat": 4,
 "nbformat_minor": 2
}
