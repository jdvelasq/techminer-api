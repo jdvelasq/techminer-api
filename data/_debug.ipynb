{
 "cells": [
  {
   "cell_type": "code",
   "execution_count": 1,
   "metadata": {},
   "outputs": [
    {
     "name": "stdout",
     "output_type": "stream",
     "text": [
      "--INFO-- Concatenating raw files in regtech/raw-data/cited_by/\n",
      "--INFO-- Concatenating raw files in regtech/raw-data/references/\n",
      "--INFO-- Concatenating raw files in regtech/raw-data/main/\n",
      "--INFO-- Applying scopus tags to database files\n",
      "--INFO-- Formatting column names in database files\n",
      "--INFO-- Repairing authors ID\n",
      "--INFO-- Repairing bad separators in keywords\n",
      "--INFO-- Dropping NA columns in database files\n",
      "--INFO-- Removed columns: {'page_count'}\n",
      "--INFO-- Processing text columns (remove accents)\n",
      "--INFO-- Processing text columns (remove stranger chars)\n",
      "--INFO-- Removing records with `raw_authors` in ['Anon', '[No author name available]']\n",
      "--INFO-- Removed 1 records\n",
      "--INFO-- Processing `authors_id` column\n",
      "--INFO-- Processing `document_type` column\n",
      "--INFO-- Processing `eissn` column\n",
      "--INFO-- Processing `global_citations` column\n",
      "--INFO-- Processing `isbn` column\n",
      "--INFO-- Processing `issn` column\n",
      "--INFO-- Processing `raw_authors` column\n",
      "--INFO-- Processing `source_name` column\n",
      "--INFO-- Mask `source_abbr` column with `source_name`\n",
      "--INFO-- Processing `source_abbr` column\n",
      "--INFO-- Processing `doi` column\n",
      "--INFO-- Disambiguating `authors` column\n",
      "--INFO-- Copying `authors` column to `num_authors`\n",
      "--INFO-- Processing `num_authors` column\n",
      "--INFO-- Copying `global_references` column to `num_global_references`\n",
      "--INFO-- Processing `num_global_references` column\n",
      "--INFO-- Creating `article` column\n",
      "--INFO-- Processing `raw_author_keywords` column\n",
      "--INFO-- Processing `raw_index_keywords` column\n",
      "--INFO-- Concatenating `raw_author_keywords` and `raw_index_keywords` columns to `raw_keywords`\n",
      "--INFO-- Processing `title` column\n",
      "--INFO-- Copying `title` column to `raw_title_nlp_phrases`\n",
      "--INFO-- Processing `raw_title_nlp_phrases` column\n"
     ]
    },
    {
     "name": "stderr",
     "output_type": "stream",
     "text": [
      "/Volumes/GitHub/techminer2/techminer2/ingest/ingest_raw_data.py:428: FutureWarning: The default value of regex will change from True to False in a future version. In addition, single character regular expressions will *not* be treated as literal strings when regex=True.\n",
      "  lambda x: x.astype(str)\n"
     ]
    },
    {
     "name": "stdout",
     "output_type": "stream",
     "text": [
      "--INFO-- Processing `abstract` column\n",
      "--INFO-- Copying `abstract` column to `raw_abstract_nlp_phrases`\n",
      "--INFO-- Processing `raw_abstract_nlp_phrases` column\n"
     ]
    },
    {
     "name": "stderr",
     "output_type": "stream",
     "text": [
      "/Volumes/GitHub/techminer2/techminer2/ingest/ingest_raw_data.py:462: FutureWarning: The default value of regex will change from True to False in a future version. In addition, single character regular expressions will *not* be treated as literal strings when regex=True.\n",
      "  lambda x: x.astype(str)\n"
     ]
    },
    {
     "name": "stdout",
     "output_type": "stream",
     "text": [
      "--INFO-- Concatenating `raw_title_nlp_phrases` and `raw_abstract_nlp_phrases` columns to `raw_nlp_phrases`\n",
      "--INFO-- Processing `raw_nlp_phrases` column\n",
      "--INFO-- Concatenating `raw_nlp_phrases` and `raw_keywords` columns to `raw_descriptors`\n",
      "--INFO-- Processing `raw_descriptors` column\n",
      "--INFO-- Creating references from  `_main.csv` file.\n",
      "--INFO-- Searching `references` using DOI\n"
     ]
    },
    {
     "name": "stderr",
     "output_type": "stream",
     "text": [
      "100%|██████████| 52/52 [00:00<00:00, 520.18it/s]\n"
     ]
    },
    {
     "name": "stdout",
     "output_type": "stream",
     "text": [
      "--INFO-- Searching `references` using (year, title, author)\n"
     ]
    },
    {
     "name": "stderr",
     "output_type": "stream",
     "text": [
      "  0%|          | 0/52 [00:00<?, ?it/s]/Volumes/GitHub/techminer2/techminer2/ingest/ingest_raw_data.py:1293: SettingWithCopyWarning: \n",
      "A value is trying to be set on a copy of a slice from a DataFrame\n",
      "\n",
      "See the caveats in the documentation: https://pandas.pydata.org/pandas-docs/stable/user_guide/indexing.html#returning-a-view-versus-a-copy\n",
      "  references.found[references.article == article] = True\n",
      " 23%|██▎       | 12/52 [00:00<00:00, 117.60it/s]/Volumes/GitHub/techminer2/techminer2/ingest/ingest_raw_data.py:1298: SettingWithCopyWarning: \n",
      "A value is trying to be set on a copy of a slice from a DataFrame\n",
      "\n",
      "See the caveats in the documentation: https://pandas.pydata.org/pandas-docs/stable/user_guide/indexing.html#returning-a-view-versus-a-copy\n",
      "  references.found[references.article == article] = True\n",
      "100%|██████████| 52/52 [00:00<00:00, 86.74it/s] \n"
     ]
    },
    {
     "name": "stdout",
     "output_type": "stream",
     "text": [
      "--INFO-- Searching `references` using (title)\n"
     ]
    },
    {
     "name": "stderr",
     "output_type": "stream",
     "text": [
      " 48%|████▊     | 15/31 [00:00<00:00, 140.34it/s]/Volumes/GitHub/techminer2/techminer2/ingest/ingest_raw_data.py:1343: SettingWithCopyWarning: \n",
      "A value is trying to be set on a copy of a slice from a DataFrame\n",
      "\n",
      "See the caveats in the documentation: https://pandas.pydata.org/pandas-docs/stable/user_guide/indexing.html#returning-a-view-versus-a-copy\n",
      "  references.found[references.article == article] = True\n",
      "100%|██████████| 31/31 [00:00<00:00, 136.80it/s]\n"
     ]
    },
    {
     "name": "stdout",
     "output_type": "stream",
     "text": [
      "--INFO-- Creating `local_citations` column in references database\n",
      "--INFO-- Creating `local_citations` column in documents database\n",
      "--INFO-- The regtech/countries.txt thesaurus file was created\n",
      "--INFO-- Creating `descriptors.txt` from author/index keywords, and abstract/title nlp phrases\n",
      "--INFO-- The regtech/organizations.txt thesaurus file was created\n",
      "--INFO-- The regtech/countries.txt thesaurus file was applied to affiliations in all databases\n",
      "--INFO-- Applying `descriptors.txt` thesaurus to author/index keywords and abstract/title words\n",
      "--INFO-- The regtech/organizations.txt thesaurus file was applied to affiliations in all databases\n",
      "--INFO-- Process finished!!!\n",
      "--INFO-- regtech/databases/_references.csv: 909 imported records\n",
      "--INFO-- regtech/databases/_main.csv: 52 imported records\n",
      "--INFO-- regtech/databases/_cited_by.csv: 387 imported records\n"
     ]
    }
   ],
   "source": [
    "import os\n",
    "import sys\n",
    "\n",
    "currentdir = os.getcwd()\n",
    "parentdir = os.path.dirname(currentdir)\n",
    "sys.path.append(parentdir)\n",
    "\n",
    "#  from itables import init_notebook_mode\n",
    "#  init_notebook_mode(all_interactive=True)\n",
    "# ---\n",
    "from techminer2.ingest import ingest_raw_data\n",
    "\n",
    "ingest_raw_data(\n",
    "    #\n",
    "    # DATABASE PARAMS:\n",
    "    root_dir=\"regtech/\",\n",
    "    disable_progress_bar=False,\n",
    ")"
   ]
  },
  {
   "cell_type": "code",
   "execution_count": 2,
   "metadata": {},
   "outputs": [
    {
     "name": "stdout",
     "output_type": "stream",
     "text": [
      "_debug.ipynb  \u001b[34mregtech\u001b[m\u001b[m       \u001b[34mreports\u001b[m\u001b[m       stopwords.txt\n",
      "\u001b[34mdatabases\u001b[m\u001b[m     report.txt    savedrecs.txt\n"
     ]
    }
   ],
   "source": [
    "!ls"
   ]
  },
  {
   "cell_type": "code",
   "execution_count": null,
   "metadata": {},
   "outputs": [],
   "source": []
  }
 ],
 "metadata": {
  "kernelspec": {
   "display_name": "Python 3.8.9 ('.venv': venv)",
   "language": "python",
   "name": "python3"
  },
  "language_info": {
   "codemirror_mode": {
    "name": "ipython",
    "version": 3
   },
   "file_extension": ".py",
   "mimetype": "text/x-python",
   "name": "python",
   "nbconvert_exporter": "python",
   "pygments_lexer": "ipython3",
   "version": "3.9.6"
  },
  "orig_nbformat": 4,
  "vscode": {
   "interpreter": {
    "hash": "ff8a4715c70c0e4b3cc8412ea892d5df3eeb381ac1fbe083ff6ed76fad7df612"
   }
  }
 },
 "nbformat": 4,
 "nbformat_minor": 2
}
