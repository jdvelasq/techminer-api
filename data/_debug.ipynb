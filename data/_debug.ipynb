{
 "cells": [
  {
   "cell_type": "code",
   "execution_count": 10,
   "metadata": {},
   "outputs": [
    {
     "name": "stdout",
     "output_type": "stream",
     "text": [
      "71\n",
      "853\n",
      "184\n"
     ]
    },
    {
     "data": {
      "text/plain": [
       "REGTECH                                    11\n",
       "REGULATORY_COMPLIANCE                       9\n",
       "FINANCE                                     6\n",
       "FINANCIAL_INSTITUTION                       4\n",
       "COMPLIANCE                                  4\n",
       "FINTECH                                     3\n",
       "ANTI_MONEY_LAUNDERING                       3\n",
       "ACCOUNTABILITY                              2\n",
       "FINANCIAL_SERVICES                          2\n",
       "FINANCIAL_SERVICES_INDUSTRIES               2\n",
       "FINANCIAL_REGULATIONS                       2\n",
       "REGULATORY_REQUIREMENTS                     2\n",
       "RISK_MANAGEMENT                             2\n",
       "COMMERCE                                    2\n",
       "REGULATORY_TECHNOLOGY (REGTECH)             2\n",
       "LAUNDERING                                  2\n",
       "BLOCKCHAIN                                  2\n",
       "REGULATION                                  2\n",
       "SANDBOXES                                   2\n",
       "SMART_CONTRACT                              2\n",
       "DATA_PROTECTION_OFFICER                     2\n",
       "GDPR                                        2\n",
       "BANKING                                     2\n",
       "INFORMATION_SYSTEMS                         2\n",
       "INFORMATION_USE                             2\n",
       "ARTIFICIAL_INTELLIGENCE                     2\n",
       "SOFTWARE_SOLUTION                           2\n",
       "GLOBAL_FINANCIAL_CRISIS                     2\n",
       "REGULATORY_TECHNOLOGY                       2\n",
       "FINANCIAL_CRISIS                            2\n",
       "CLASSIFICATION (OF_INFORMATION)             2\n",
       "UNITED_ARAB_EMIRATES                        1\n",
       "SECURITY_OF_DATA                            1\n",
       "REGULATORY_MONITORING                       1\n",
       "REAL_TIME_DATA                              1\n",
       "BANKS                                       1\n",
       "MULTI_CRITERIA_DECISION_MAKING              1\n",
       "ANALYTICAL_HIERARCHY_PROCESS                1\n",
       "MAJOR_FACTORS                               1\n",
       "REGULATORY_REGIME                           1\n",
       "IDENTITY_MANAGEMENT                         1\n",
       "CORPORATE_SOCIAL_RESPONSIBILITIES (CSR)     1\n",
       "REAL_TIME_MONITORING                        1\n",
       "DECISION_MAKING                             1\n",
       "CUSTOMER_CENTRIC                            1\n",
       "COMPETITIVE_ADVANTAGE                       1\n",
       "COMPETITION                                 1\n",
       "SOFTWARE_DESIGN                             1\n",
       "REGRESSION_MODEL                            1\n",
       "EXPLORATORY_CASE_STUDIES                    1\n",
       "Name: raw_keywords, dtype: int64"
      ]
     },
     "execution_count": 10,
     "metadata": {},
     "output_type": "execute_result"
    }
   ],
   "source": [
    "import pandas as pd\n",
    "import os\n",
    "import sys\n",
    "\n",
    "currentdir = os.getcwd()\n",
    "parentdir = os.path.dirname(currentdir)\n",
    "sys.path.append(parentdir)\n",
    "\n",
    "#  from itables import init_notebook_mode\n",
    "#  init_notebook_mode(all_interactive=True)\n",
    "# ---\n",
    "#  from techminer2 import vantagepoint\n",
    "\n",
    "\n",
    "df = pd.read_csv(\"regtech/processed/_documents.csv\")\n",
    "\n",
    "title_noun_phrases = df[\"raw_title_noun_phrases\"].dropna()\n",
    "title_noun_phrases = title_noun_phrases.str.split(\";\").explode().str.strip()\n",
    "print(len(title_noun_phrases.value_counts()))\n",
    "\n",
    "abs_noun_phrases = df[\"raw_abstract_noun_phrases\"].dropna()\n",
    "abs_noun_phrases = abs_noun_phrases.str.split(\";\").explode().str.strip()\n",
    "print(len(abs_noun_phrases.value_counts()))\n",
    "abs_noun_phrases.value_counts().head(50)\n",
    "\n",
    "raw_keywords = df[\"raw_keywords\"].dropna()\n",
    "raw_keywords = raw_keywords.str.split(\";\").explode().str.strip()\n",
    "print(len(raw_keywords.value_counts()))\n",
    "raw_keywords.value_counts().head(50)"
   ]
  },
  {
   "cell_type": "code",
   "execution_count": 11,
   "metadata": {},
   "outputs": [
    {
     "data": {
      "text/plain": [
       "{'AML_COMPLIANCE',\n",
       " 'ANTITRUST_ENFORCEMENT_TOOL',\n",
       " 'ARAB_EMIRATES',\n",
       " 'BANK_FAILURES',\n",
       " 'BANK_TREASURY',\n",
       " 'CASE_STUDIES',\n",
       " 'CHARITABLE_ORGANISATIONS',\n",
       " 'COMPLIANCE_CHALLENGE',\n",
       " 'CONCEPT_ARTICLE',\n",
       " 'CORPORATE_EMAILS',\n",
       " 'DIGITAL_REGULATORY_COMPLIANCE',\n",
       " 'DIGITAL_TRANSFORMATION',\n",
       " 'EFFECTIVE_SOLUTIONS',\n",
       " 'ELECTRONIC_SIGNATURE',\n",
       " 'EUROPEAN_UNION',\n",
       " 'EXPLORATORY_REGTECH',\n",
       " 'EXPLORATORY_STUDY',\n",
       " 'FINANCIAL_DEVELOPMENT',\n",
       " 'FINANCIAL_INSTITUTIONS',\n",
       " 'FINANCIAL_MARKETS',\n",
       " 'FINANCIAL_RISK',\n",
       " 'FINANCIAL_SYSTEM',\n",
       " 'FINTECH_SUSTAINABILITY',\n",
       " 'FIRM_PERFORMANCE',\n",
       " 'FRAUD_DETECTIONTHROUGH',\n",
       " 'GDPR_COMPLIANCE_TOOLS',\n",
       " 'GDPR_REGTECH',\n",
       " 'IMAGINARY_FAILURE',\n",
       " 'INNOVATIVE_REGTECH_APPROACH',\n",
       " 'ISLAMIC_FINANCE',\n",
       " 'LEGAL_SCHOLARSHIP',\n",
       " 'LINGUISTIC_ANALYSIS',\n",
       " 'MCDM_APPROACH',\n",
       " 'MODERN_INFORMATION_TECHNOLOGY',\n",
       " 'NEW_FRONTIER',\n",
       " 'NEW_WAVE',\n",
       " 'NO__BENEFITS',\n",
       " 'PRIVATE_SECTORS',\n",
       " 'REALISTIC_PROTECTION',\n",
       " 'REGTECHTHE_APPLICATION',\n",
       " \"REGTECH_'S_RISE\",\n",
       " 'REGTECH_ADOPTION',\n",
       " 'REGTECH_APPROACH',\n",
       " 'REGTECH_COMPLIANCE_TOOL',\n",
       " 'REGTECH_DEVELOPMENT',\n",
       " 'REGTECH_EVOLUTION',\n",
       " 'REGTECH_POTENTIAL_BENEFITS',\n",
       " 'REGTECH_SOLUTIONS',\n",
       " 'REGTECH_TECHNOLOGIES',\n",
       " 'REGULATORY_AFFAIRS',\n",
       " 'REGULATORY_BURDEN',\n",
       " 'REGULATORY_CRISIS',\n",
       " 'REGULATORY_TECHNOLOGY_REGTECH',\n",
       " 'REVIEW_ARTICLE',\n",
       " 'SMART_REGULATION',\n",
       " 'SUPERVISORY_ARCHITECTURE',\n",
       " 'SUPTECH_DEVELOPMENTS',\n",
       " 'TRADITIONAL_FINANCIAL_INTERMEDIATION',\n",
       " 'UNDERSTANDING_REGTECH',\n",
       " 'ZERO_REVELATION_REGTECH'}"
      ]
     },
     "execution_count": 11,
     "metadata": {},
     "output_type": "execute_result"
    }
   ],
   "source": [
    "set(title_noun_phrases) - set(raw_keywords)"
   ]
  },
  {
   "cell_type": "code",
   "execution_count": 12,
   "metadata": {},
   "outputs": [
    {
     "data": {
      "text/plain": [
       "60"
      ]
     },
     "execution_count": 12,
     "metadata": {},
     "output_type": "execute_result"
    }
   ],
   "source": [
    "len(set(title_noun_phrases) - set(raw_keywords))"
   ]
  },
  {
   "cell_type": "code",
   "execution_count": 16,
   "metadata": {},
   "outputs": [
    {
     "data": {
      "text/plain": [
       "{'AML_COMPLIANCE',\n",
       " 'ARAB_EMIRATES',\n",
       " 'ARTIFICIAL_INTELLIGENCE',\n",
       " 'CASE_STUDIES',\n",
       " 'CHARITABLE_ORGANISATIONS',\n",
       " 'CONSUMER_COMPLAINTS',\n",
       " 'DIGITAL_TRANSFORMATION',\n",
       " 'ELECTRONIC_SIGNATURE',\n",
       " 'FINANCIAL_CRIME',\n",
       " 'FINANCIAL_DEVELOPMENT',\n",
       " 'FINANCIAL_INSTITUTIONS',\n",
       " 'FINANCIAL_MARKETS',\n",
       " 'FINANCIAL_REGULATION',\n",
       " 'FINANCIAL_RISK',\n",
       " 'FINANCIAL_STABILITY',\n",
       " 'FINANCIAL_SYSTEM',\n",
       " 'FIRM_PERFORMANCE',\n",
       " 'GDPR_COMPLIANCE_TOOLS',\n",
       " 'ISLAMIC_FINANCE',\n",
       " 'MACHINE_LEARNING',\n",
       " 'REGTECH_APPROACH',\n",
       " 'REGTECH_SOLUTIONS',\n",
       " 'REGTECH_TECHNOLOGIES',\n",
       " 'REGULATORY_AFFAIRS',\n",
       " 'REGULATORY_BURDEN',\n",
       " 'REGULATORY_ENFORCEMENT',\n",
       " 'REGULATORY_TECHNOLOGY',\n",
       " 'REGULATORY_TECHNOLOGY_REGTECH',\n",
       " 'SYSTEMATIC_LITERATURE_REVIEW',\n",
       " 'TRADITIONAL_FINANCIAL_INTERMEDIATION'}"
      ]
     },
     "execution_count": 16,
     "metadata": {},
     "output_type": "execute_result"
    }
   ],
   "source": [
    "set(title_noun_phrases) & set(abs_noun_phrases)  # - set(raw_keywords)"
   ]
  },
  {
   "cell_type": "code",
   "execution_count": null,
   "metadata": {},
   "outputs": [],
   "source": []
  }
 ],
 "metadata": {
  "kernelspec": {
   "display_name": "Python 3.8.9 ('.venv': venv)",
   "language": "python",
   "name": "python3"
  },
  "language_info": {
   "codemirror_mode": {
    "name": "ipython",
    "version": 3
   },
   "file_extension": ".py",
   "mimetype": "text/x-python",
   "name": "python",
   "nbconvert_exporter": "python",
   "pygments_lexer": "ipython3",
   "version": "3.9.6"
  },
  "orig_nbformat": 4,
  "vscode": {
   "interpreter": {
    "hash": "ff8a4715c70c0e4b3cc8412ea892d5df3eeb381ac1fbe083ff6ed76fad7df612"
   }
  }
 },
 "nbformat": 4,
 "nbformat_minor": 2
}
