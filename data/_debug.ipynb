{
 "cells": [
  {
   "cell_type": "code",
   "execution_count": 1,
   "metadata": {},
   "outputs": [
    {
     "name": "stdout",
     "output_type": "stream",
     "text": [
      "economics\n",
      "fintech\n",
      "iot\n",
      "p2p lending\n",
      "sem\n",
      "utaut\n",
      "competition\n",
      "    competition\n",
      "    competition (economics)\n",
      "economics\n",
      "    economics\n",
      "financial technologies\n",
      "    financial technologies\n",
      "    financial technology\n",
      "    financial technology (fintech)\n",
      "fintech\n",
      "    fintech\n",
      "    fintechs\n",
      "internet of things\n",
      "    internet of things\n",
      "    internet of things (iot)\n",
      "iot\n",
      "    iot\n",
      "p2p lending\n",
      "    p2p lending\n",
      "peer-to-peer lending\n",
      "    peer to peer lending\n",
      "    peer-to peer lending (p2p lending)\n",
      "    peer-to-peer lending\n",
      "sem\n",
      "    sem\n",
      "structural equation model\n",
      "    structural equation model\n",
      "    structural equation model (sem)\n",
      "    structural equation modeling\n",
      "    structural equation modelling\n",
      "    structural equations model\n",
      "unified theory of acceptance and use technology (utaut)\n",
      "    unified theory of acceptance and use technology (utaut)\n",
      "utaut\n",
      "    utaut\n"
     ]
    }
   ],
   "source": [
    "import os, sys\n",
    "import pandas as pd\n",
    "from sklearn.manifold import MDS\n",
    "from sklearn.cluster import KMeans\n",
    "\n",
    "currentdir = os.getcwd()\n",
    "parentdir = os.path.dirname(currentdir)\n",
    "sys.path.append(parentdir)\n",
    "\n",
    "from os.path import isfile, join\n",
    "from techminer2.thesaurus import load_file_as_dict\n",
    "\n",
    "\n",
    "from techminer2 import *\n",
    "\n",
    "directory = \"/workspaces/techminer2/data/\"\n",
    "\n",
    "find_abbreviations(directory)"
   ]
  },
  {
   "cell_type": "code",
   "execution_count": null,
   "metadata": {},
   "outputs": [],
   "source": [
    "clean_keywords(directory)\n",
    "thematic_map_communities('author_keywords', min_occ=10, directory=directory)"
   ]
  },
  {
   "cell_type": "code",
   "execution_count": null,
   "metadata": {},
   "outputs": [],
   "source": [
    "most_global_cited_documents(directory=directory)"
   ]
  },
  {
   "cell_type": "code",
   "execution_count": null,
   "metadata": {},
   "outputs": [],
   "source": []
  },
  {
   "cell_type": "code",
   "execution_count": null,
   "metadata": {},
   "outputs": [],
   "source": []
  },
  {
   "cell_type": "code",
   "execution_count": null,
   "metadata": {},
   "outputs": [],
   "source": []
  },
  {
   "cell_type": "code",
   "execution_count": null,
   "metadata": {},
   "outputs": [],
   "source": []
  },
  {
   "cell_type": "code",
   "execution_count": null,
   "metadata": {},
   "outputs": [],
   "source": [
    "import pandas as pd\n",
    "\n",
    "nlp = pd.read_csv(\"/workspaces/techminer2/data/documents.csv\").nlp_phrases\n",
    "nlp = nlp.str.split(\";\")\n",
    "nlp = nlp.explode()\n",
    "nlp = nlp.str.strip()\n",
    "nlp = nlp.str.lower()\n",
    "nlp = nlp.dropna()\n",
    "nlp = nlp.drop_duplicates()\n",
    "nlp = nlp.sort_values()\n",
    "nlp = nlp.reset_index(drop=True)\n",
    "nlp.to_csv(\"nlp.txt\", index=False)\n"
   ]
  },
  {
   "cell_type": "code",
   "execution_count": null,
   "metadata": {},
   "outputs": [],
   "source": [
    "!head /workspaces/techminer2/data/raw-documents.csv"
   ]
  },
  {
   "cell_type": "code",
   "execution_count": null,
   "metadata": {},
   "outputs": [],
   "source": [
    "documents.raw_author_keywords"
   ]
  },
  {
   "cell_type": "code",
   "execution_count": null,
   "metadata": {},
   "outputs": [],
   "source": [
    "from techminer import *\n",
    "directory = \"/workspaces/techminer-api/data/\"\n",
    "collaboration_indicators(\"countries\", directory=directory).head()"
   ]
  },
  {
   "cell_type": "code",
   "execution_count": null,
   "metadata": {},
   "outputs": [],
   "source": [
    "import pandas as pd\n",
    "\n",
    "m = pd.DataFrame(\n",
    "    {\n",
    "    'a': [1, 1, 1, 2, 2, 2],\n",
    "    'b': ['A', 'B', 'D', 'A', 'B', 'C'],\n",
    "    'v': [1, 2, 3, 4, 5, 6]\n",
    "    }\n",
    ")\n",
    "m.pivot(index='a', columns='b', values='v')"
   ]
  },
  {
   "cell_type": "code",
   "execution_count": null,
   "metadata": {},
   "outputs": [],
   "source": [
    "import pandas as pd\n",
    "\n",
    "sorted(pd.read_csv(\"documents.csv\").columns)"
   ]
  },
  {
   "cell_type": "code",
   "execution_count": null,
   "metadata": {},
   "outputs": [],
   "source": []
  }
 ],
 "metadata": {
  "interpreter": {
   "hash": "949777d72b0d2535278d3dc13498b2535136f6dfe0678499012e853ee9abcab1"
  },
  "kernelspec": {
   "display_name": "Python 3.7.12 64-bit",
   "language": "python",
   "name": "python3"
  },
  "language_info": {
   "codemirror_mode": {
    "name": "ipython",
    "version": 3
   },
   "file_extension": ".py",
   "mimetype": "text/x-python",
   "name": "python",
   "nbconvert_exporter": "python",
   "pygments_lexer": "ipython3",
   "version": "3.7.12"
  },
  "orig_nbformat": 4
 },
 "nbformat": 4,
 "nbformat_minor": 2
}
