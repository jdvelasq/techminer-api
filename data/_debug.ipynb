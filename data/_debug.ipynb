{
 "cells": [
  {
   "cell_type": "code",
   "execution_count": 1,
   "metadata": {},
   "outputs": [
    {
     "name": "stdout",
     "output_type": "stream",
     "text": [
      "- INFO - 248 raw records found in /workspaces/techminer2/data/raw-documents.csv.\n",
      "- INFO - Main abstract texts saved to /workspaces/techminer2/data/abstracts.csv\n",
      "- INFO - Computing Bradford Law Zones ...\n",
      "- INFO - Searching local references using DOI ...\n"
     ]
    },
    {
     "name": "stderr",
     "output_type": "stream",
     "text": [
      "100%|██████████| 248/248 [00:00<00:00, 386.93it/s]\n"
     ]
    },
    {
     "name": "stdout",
     "output_type": "stream",
     "text": [
      "- INFO - Searching local references using document titles ...\n"
     ]
    },
    {
     "name": "stderr",
     "output_type": "stream",
     "text": [
      "100%|██████████| 248/248 [00:00<00:00, 392.32it/s]\n"
     ]
    },
    {
     "name": "stdout",
     "output_type": "stream",
     "text": [
      "- INFO - Consolidating local references ...\n",
      "- INFO - Computing local citations ...\n",
      "- INFO - Computing Bradford Law Zones ...\n",
      "- INFO - Documents saved/merged to '/workspaces/techminer2/data/documents.csv'\n",
      "- INFO - Post-processing docuemnts ...\n",
      "- INFO - Creating institutions thesaurus ...\n",
      "- INFO - Affiliations without country detected - check file /workspaces/techminer2/data/ignored_affiliations.txt\n",
      "- INFO - Affiliations without country detected - check file /workspaces/techminer2/data/ignored_affiliations.txt\n",
      "- INFO - Thesaurus file '/workspaces/techminer2/data/institutions.txt' created.\n",
      "- INFO - Creating keywords thesaurus ...\n",
      "- INFO - Thesaurus file '/workspaces/techminer2/data/keywords.txt' created.\n",
      "- INFO - Applying thesaurus to institutions ...\n",
      "- INFO - Extract and cleaning institutions.\n",
      "- INFO - Extracting institution of first author ...\n",
      "- INFO - The thesaurus was applied to institutions.\n",
      "- INFO - Applying thesaurus to 'raw_author_keywords' column ...\n",
      "- INFO - Applying thesaurus to 'raw_index_keywords' column...\n",
      "- INFO - Applying thesaurus to 'raw_nlp_document_title' column...\n",
      "- INFO - Applying thesaurus to 'raw_nlp_abstract' column...\n",
      "- INFO - Applying thesaurus to 'raw_nlp_phrases' column...\n",
      "- INFO - The thesaurus was applied to all keywords.\n",
      "- INFO - Process finished!!!\n"
     ]
    }
   ],
   "source": [
    "import os, sys\n",
    "import pandas as pd\n",
    "from sklearn.manifold import MDS\n",
    "from sklearn.cluster import KMeans\n",
    "\n",
    "currentdir = os.getcwd()\n",
    "parentdir = os.path.dirname(currentdir)\n",
    "sys.path.append(parentdir)\n",
    "\n",
    "\n",
    "from techminer2 import *\n",
    "\n",
    "# import_scopus_file(scopus_file='raw-documents.csv',)\n",
    "# import_references(scopus_file=\"raw-references.csv\")\n",
    "\n",
    "directory = \"/workspaces/techminer2/data/\"\n",
    "import_scopus_file(directory)"
   ]
  },
  {
   "cell_type": "code",
   "execution_count": null,
   "metadata": {},
   "outputs": [],
   "source": []
  },
  {
   "cell_type": "code",
   "execution_count": null,
   "metadata": {},
   "outputs": [],
   "source": [
    "import pandas as pd\n",
    "\n",
    "documents = pd.read_csv(\"documents.csv\")\n",
    "documents.raw_keywords\n"
   ]
  },
  {
   "cell_type": "code",
   "execution_count": null,
   "metadata": {},
   "outputs": [],
   "source": [
    "documents.raw_index_keywords"
   ]
  },
  {
   "cell_type": "code",
   "execution_count": null,
   "metadata": {},
   "outputs": [],
   "source": [
    "documents.raw_author_keywords"
   ]
  },
  {
   "cell_type": "code",
   "execution_count": null,
   "metadata": {},
   "outputs": [],
   "source": [
    "from techminer import *\n",
    "directory = \"/workspaces/techminer-api/data/\"\n",
    "collaboration_indicators(\"countries\", directory=directory).head()"
   ]
  },
  {
   "cell_type": "code",
   "execution_count": null,
   "metadata": {},
   "outputs": [],
   "source": [
    "import pandas as pd\n",
    "\n",
    "m = pd.DataFrame(\n",
    "    {\n",
    "    'a': [1, 1, 1, 2, 2, 2],\n",
    "    'b': ['A', 'B', 'D', 'A', 'B', 'C'],\n",
    "    'v': [1, 2, 3, 4, 5, 6]\n",
    "    }\n",
    ")\n",
    "m.pivot(index='a', columns='b', values='v')"
   ]
  },
  {
   "cell_type": "code",
   "execution_count": null,
   "metadata": {},
   "outputs": [],
   "source": [
    "import pandas as pd\n",
    "\n",
    "sorted(pd.read_csv(\"documents.csv\").columns)"
   ]
  },
  {
   "cell_type": "code",
   "execution_count": null,
   "metadata": {},
   "outputs": [],
   "source": []
  }
 ],
 "metadata": {
  "interpreter": {
   "hash": "949777d72b0d2535278d3dc13498b2535136f6dfe0678499012e853ee9abcab1"
  },
  "kernelspec": {
   "display_name": "Python 3.7.12 64-bit",
   "language": "python",
   "name": "python3"
  },
  "language_info": {
   "codemirror_mode": {
    "name": "ipython",
    "version": 3
   },
   "file_extension": ".py",
   "mimetype": "text/x-python",
   "name": "python",
   "nbconvert_exporter": "python",
   "pygments_lexer": "ipython3",
   "version": "3.7.12"
  },
  "orig_nbformat": 4
 },
 "nbformat": 4,
 "nbformat_minor": 2
}
