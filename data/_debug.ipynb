{
 "cells": [
  {
   "cell_type": "code",
   "execution_count": 11,
   "metadata": {},
   "outputs": [
    {
     "data": {
      "text/plain": [
       "False"
      ]
     },
     "execution_count": 11,
     "metadata": {},
     "output_type": "execute_result"
    }
   ],
   "source": [
    "import os\n",
    "import sys\n",
    "\n",
    "currentdir = os.getcwd()\n",
    "parentdir = os.path.dirname(currentdir)\n",
    "sys.path.append(parentdir)\n",
    "\n",
    "#  from itables import init_notebook_mode\n",
    "#  init_notebook_mode(all_interactive=True)\n",
    "# ---\n",
    "# from techminer2.ingest import ingest_raw_data\n",
    "\n",
    "# ingest_raw_data(\n",
    "#    #\n",
    "#    # DATABASE PARAMS:\n",
    "#    root_dir=\"regtech/\",\n",
    "#    disable_progress_bar=False,\n",
    "# )\n",
    "\n",
    "import pandas as pd\n",
    "\n",
    "data_frame = pd.read_csv(\"regtech/databases/_main.zip\", compression=\"zip\")\n",
    "\n",
    "raw_descriptors = data_frame[\"raw_descriptors\"].dropna()\n",
    "raw_descriptors = raw_descriptors.str.split(\";\").explode().str.strip()\n",
    "# nlp_phrases = nlp_phrases.drop_duplicates()\n",
    "\"PAPER_ADVOCATES\" in raw_descriptors"
   ]
  },
  {
   "cell_type": "code",
   "execution_count": 2,
   "metadata": {},
   "outputs": [
    {
     "name": "stdout",
     "output_type": "stream",
     "text": [
      "_debug.ipynb  \u001b[34mregtech\u001b[m\u001b[m       \u001b[34mreports\u001b[m\u001b[m       stopwords.txt\n",
      "\u001b[34mdatabases\u001b[m\u001b[m     report.txt    savedrecs.txt\n"
     ]
    }
   ],
   "source": [
    "!ls"
   ]
  },
  {
   "cell_type": "code",
   "execution_count": 2,
   "metadata": {},
   "outputs": [
    {
     "name": "stdout",
     "output_type": "stream",
     "text": [
      "_debug.ipynb  \u001b[34mcopy-regtech\u001b[m\u001b[m  \u001b[34mkarla\u001b[m\u001b[m         \u001b[34mregtech\u001b[m\u001b[m       savedrecs.txt\n"
     ]
    }
   ],
   "source": [
    "!ls"
   ]
  },
  {
   "cell_type": "code",
   "execution_count": 3,
   "metadata": {},
   "outputs": [
    {
     "name": "stdout",
     "output_type": "stream",
     "text": [
      "countries.txt                 organizations.txt\n",
      "\u001b[34mdatabases\u001b[m\u001b[m                     \u001b[34mraw-data\u001b[m\u001b[m\n",
      "global_references.txt         \u001b[34mreports\u001b[m\u001b[m\n",
      "local_references.txt          stopwords.txt\n",
      "not_recognized_references.txt words.txt\n"
     ]
    }
   ],
   "source": [
    "!ls regtech/"
   ]
  },
  {
   "cell_type": "code",
   "execution_count": null,
   "metadata": {},
   "outputs": [],
   "source": []
  }
 ],
 "metadata": {
  "kernelspec": {
   "display_name": "Python 3.8.9 ('.venv': venv)",
   "language": "python",
   "name": "python3"
  },
  "language_info": {
   "codemirror_mode": {
    "name": "ipython",
    "version": 3
   },
   "file_extension": ".py",
   "mimetype": "text/x-python",
   "name": "python",
   "nbconvert_exporter": "python",
   "pygments_lexer": "ipython3",
   "version": "3.9.6"
  },
  "orig_nbformat": 4,
  "vscode": {
   "interpreter": {
    "hash": "ff8a4715c70c0e4b3cc8412ea892d5df3eeb381ac1fbe083ff6ed76fad7df612"
   }
  }
 },
 "nbformat": 4,
 "nbformat_minor": 2
}
