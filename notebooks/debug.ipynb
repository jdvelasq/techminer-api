{
 "cells": [
  {
   "cell_type": "markdown",
   "metadata": {},
   "source": [
    "# Data preparation"
   ]
  },
  {
   "cell_type": "code",
   "execution_count": 1,
   "metadata": {},
   "outputs": [
    {
     "name": "stdout",
     "output_type": "stream",
     "text": [
      "2021-11-09 12:09:25 - INFO - Reading file '/workspaces/techminer-api/tests/data/scopus.csv' ...\n",
      "2021-11-09 12:09:25 - INFO - 1301 raw records found.\n",
      "2021-11-09 12:09:25 - INFO - Deleting/renaming columns ...\n",
      "2021-11-09 12:09:25 - INFO - Removing accents ...\n"
     ]
    },
    {
     "name": "stderr",
     "output_type": "stream",
     "text": [
      "b'Skipping line 1122: expected 50 fields, saw 51\\nSkipping line 1123: expected 50 fields, saw 51\\nSkipping line 1124: expected 50 fields, saw 51\\nSkipping line 1125: expected 50 fields, saw 51\\nSkipping line 1126: expected 50 fields, saw 51\\nSkipping line 1127: expected 50 fields, saw 51\\nSkipping line 1128: expected 50 fields, saw 51\\nSkipping line 1129: expected 50 fields, saw 51\\nSkipping line 1130: expected 50 fields, saw 51\\nSkipping line 1131: expected 50 fields, saw 51\\nSkipping line 1132: expected 50 fields, saw 51\\nSkipping line 1133: expected 50 fields, saw 51\\nSkipping line 1134: expected 50 fields, saw 51\\nSkipping line 1135: expected 50 fields, saw 51\\nSkipping line 1136: expected 50 fields, saw 51\\nSkipping line 1137: expected 50 fields, saw 51\\nSkipping line 1138: expected 50 fields, saw 51\\nSkipping line 1139: expected 50 fields, saw 51\\nSkipping line 1140: expected 50 fields, saw 51\\nSkipping line 1141: expected 50 fields, saw 51\\nSkipping line 1142: expected 50 fields, saw 51\\nSkipping line 1143: expected 50 fields, saw 51\\nSkipping line 1144: expected 50 fields, saw 51\\nSkipping line 1145: expected 50 fields, saw 51\\nSkipping line 1146: expected 50 fields, saw 51\\nSkipping line 1147: expected 50 fields, saw 51\\nSkipping line 1148: expected 50 fields, saw 51\\nSkipping line 1149: expected 50 fields, saw 51\\nSkipping line 1150: expected 50 fields, saw 51\\nSkipping line 1151: expected 50 fields, saw 51\\nSkipping line 1152: expected 50 fields, saw 51\\nSkipping line 1153: expected 50 fields, saw 51\\nSkipping line 1154: expected 50 fields, saw 51\\nSkipping line 1155: expected 50 fields, saw 51\\nSkipping line 1156: expected 50 fields, saw 51\\nSkipping line 1157: expected 50 fields, saw 51\\nSkipping line 1158: expected 50 fields, saw 51\\nSkipping line 1159: expected 50 fields, saw 51\\nSkipping line 1160: expected 50 fields, saw 51\\nSkipping line 1161: expected 50 fields, saw 51\\nSkipping line 1162: expected 50 fields, saw 51\\nSkipping line 1163: expected 50 fields, saw 51\\nSkipping line 1164: expected 50 fields, saw 51\\nSkipping line 1165: expected 50 fields, saw 51\\nSkipping line 1166: expected 50 fields, saw 51\\nSkipping line 1167: expected 50 fields, saw 51\\nSkipping line 1168: expected 50 fields, saw 51\\nSkipping line 1169: expected 50 fields, saw 51\\nSkipping line 1170: expected 50 fields, saw 51\\nSkipping line 1171: expected 50 fields, saw 51\\nSkipping line 1172: expected 50 fields, saw 51\\nSkipping line 1173: expected 50 fields, saw 51\\nSkipping line 1174: expected 50 fields, saw 51\\nSkipping line 1175: expected 50 fields, saw 51\\nSkipping line 1176: expected 50 fields, saw 51\\nSkipping line 1177: expected 50 fields, saw 51\\nSkipping line 1178: expected 50 fields, saw 51\\nSkipping line 1179: expected 50 fields, saw 51\\nSkipping line 1180: expected 50 fields, saw 51\\nSkipping line 1181: expected 50 fields, saw 51\\nSkipping line 1182: expected 50 fields, saw 51\\nSkipping line 1183: expected 50 fields, saw 51\\nSkipping line 1184: expected 50 fields, saw 51\\nSkipping line 1185: expected 50 fields, saw 51\\nSkipping line 1186: expected 50 fields, saw 51\\nSkipping line 1187: expected 50 fields, saw 51\\nSkipping line 1188: expected 50 fields, saw 51\\nSkipping line 1189: expected 50 fields, saw 51\\nSkipping line 1190: expected 50 fields, saw 51\\nSkipping line 1191: expected 50 fields, saw 51\\nSkipping line 1192: expected 50 fields, saw 51\\nSkipping line 1193: expected 50 fields, saw 51\\nSkipping line 1194: expected 50 fields, saw 51\\nSkipping line 1195: expected 50 fields, saw 51\\nSkipping line 1196: expected 50 fields, saw 51\\nSkipping line 1197: expected 50 fields, saw 51\\nSkipping line 1198: expected 50 fields, saw 51\\nSkipping line 1199: expected 50 fields, saw 51\\nSkipping line 1200: expected 50 fields, saw 51\\nSkipping line 1201: expected 50 fields, saw 51\\n'\n"
     ]
    },
    {
     "name": "stdout",
     "output_type": "stream",
     "text": [
      "2021-11-09 12:09:25 - INFO - Processing abstracts ...\n",
      "2021-11-09 12:09:25 - INFO - Processing affiliations ...\n",
      "2021-11-09 12:09:28 - INFO - Processing author keywords ...\n",
      "2021-11-09 12:09:28 - INFO - Processing authors_id ...\n",
      "2021-11-09 12:09:28 - INFO - Formating raw authors names ...\n",
      "2021-11-09 12:09:28 - INFO - Dropping duplicates ...\n",
      "2021-11-09 12:09:28 - INFO - Duplicate rows found in /workspaces/techminer-api/tests/data/documents.csv - Records saved to {filename}\n",
      "2021-11-09 12:09:28 - INFO - Searching local references using DOI ...\n"
     ]
    },
    {
     "name": "stderr",
     "output_type": "stream",
     "text": [
      "100%|██████████| 1301/1301 [00:12<00:00, 101.28it/s]\n"
     ]
    },
    {
     "name": "stdout",
     "output_type": "stream",
     "text": [
      "2021-11-09 12:09:41 - INFO - Searching local references using document titles ...\n"
     ]
    },
    {
     "name": "stderr",
     "output_type": "stream",
     "text": [
      "100%|██████████| 1301/1301 [00:13<00:00, 97.98it/s]\n"
     ]
    },
    {
     "name": "stdout",
     "output_type": "stream",
     "text": [
      "2021-11-09 12:09:54 - INFO - Consolidating local references ...\n",
      "2021-11-09 12:09:55 - INFO - Computing local citations ...\n",
      "2021-11-09 12:09:55 - INFO - Computing Bradford Law Zones ...\n"
     ]
    },
    {
     "ename": "AttributeError",
     "evalue": "'float' object has no attribute 'split'",
     "output_type": "error",
     "traceback": [
      "\u001b[0;31m---------------------------------------------------------------------------\u001b[0m",
      "\u001b[0;31mAttributeError\u001b[0m                            Traceback (most recent call last)",
      "\u001b[0;32m<ipython-input-1-10aebcf74efd>\u001b[0m in \u001b[0;36m<module>\u001b[0;34m\u001b[0m\n\u001b[1;32m     14\u001b[0m \u001b[0;34m\u001b[0m\u001b[0m\n\u001b[1;32m     15\u001b[0m \u001b[0;34m\u001b[0m\u001b[0m\n\u001b[0;32m---> 16\u001b[0;31m \u001b[0mimport_scopus_file\u001b[0m\u001b[0;34m(\u001b[0m\u001b[0mfile_name\u001b[0m\u001b[0;34m,\u001b[0m \u001b[0mdirectory\u001b[0m\u001b[0;34m)\u001b[0m\u001b[0;34m\u001b[0m\u001b[0;34m\u001b[0m\u001b[0m\n\u001b[0m\u001b[1;32m     17\u001b[0m \u001b[0;31m# -----------------------------------------------\u001b[0m\u001b[0;34m\u001b[0m\u001b[0;34m\u001b[0m\u001b[0;34m\u001b[0m\u001b[0m\n\u001b[1;32m     18\u001b[0m \u001b[0;31m# coverage(directory)\u001b[0m\u001b[0;34m\u001b[0m\u001b[0;34m\u001b[0m\u001b[0;34m\u001b[0m\u001b[0m\n",
      "\u001b[0;32m/workspaces/techminer-api/techminer/import_scopus_file.py\u001b[0m in \u001b[0;36mimport_scopus_file\u001b[0;34m(file_name, directory)\u001b[0m\n\u001b[1;32m    700\u001b[0m     \u001b[0mdocuments\u001b[0m \u001b[0;34m=\u001b[0m \u001b[0m_compute_bradford_law_zones\u001b[0m\u001b[0;34m(\u001b[0m\u001b[0mdocuments\u001b[0m\u001b[0;34m)\u001b[0m\u001b[0;34m\u001b[0m\u001b[0;34m\u001b[0m\u001b[0m\n\u001b[1;32m    701\u001b[0m     \u001b[0mdocuments\u001b[0m \u001b[0;34m=\u001b[0m \u001b[0m_disambiguate_authors\u001b[0m\u001b[0;34m(\u001b[0m\u001b[0mdocuments\u001b[0m\u001b[0;34m)\u001b[0m\u001b[0;34m\u001b[0m\u001b[0;34m\u001b[0m\u001b[0m\n\u001b[0;32m--> 702\u001b[0;31m     \u001b[0mdocuments\u001b[0m \u001b[0;34m=\u001b[0m \u001b[0m_create_wos_style_id\u001b[0m\u001b[0;34m(\u001b[0m\u001b[0mdocuments\u001b[0m\u001b[0;34m)\u001b[0m\u001b[0;34m\u001b[0m\u001b[0;34m\u001b[0m\u001b[0m\n\u001b[0m\u001b[1;32m    703\u001b[0m     \u001b[0m_update_filter_file\u001b[0m\u001b[0;34m(\u001b[0m\u001b[0mdocuments\u001b[0m\u001b[0;34m,\u001b[0m \u001b[0mdirectory\u001b[0m\u001b[0;34m)\u001b[0m\u001b[0;34m\u001b[0m\u001b[0;34m\u001b[0m\u001b[0m\n\u001b[1;32m    704\u001b[0m \u001b[0;34m\u001b[0m\u001b[0m\n",
      "\u001b[0;32m/workspaces/techminer-api/techminer/import_scopus_file.py\u001b[0m in \u001b[0;36m_create_wos_style_id\u001b[0;34m(documents)\u001b[0m\n\u001b[1;32m    616\u001b[0m \u001b[0;32mdef\u001b[0m \u001b[0m_create_wos_style_id\u001b[0m\u001b[0;34m(\u001b[0m\u001b[0mdocuments\u001b[0m\u001b[0;34m)\u001b[0m\u001b[0;34m:\u001b[0m\u001b[0;34m\u001b[0m\u001b[0;34m\u001b[0m\u001b[0m\n\u001b[1;32m    617\u001b[0m \u001b[0;34m\u001b[0m\u001b[0m\n\u001b[0;32m--> 618\u001b[0;31m     \u001b[0mwos_ref\u001b[0m \u001b[0;34m=\u001b[0m \u001b[0mdocuments\u001b[0m\u001b[0;34m.\u001b[0m\u001b[0mauthors\u001b[0m\u001b[0;34m.\u001b[0m\u001b[0mmap\u001b[0m\u001b[0;34m(\u001b[0m\u001b[0;32mlambda\u001b[0m \u001b[0mx\u001b[0m\u001b[0;34m:\u001b[0m \u001b[0mx\u001b[0m\u001b[0;34m.\u001b[0m\u001b[0msplit\u001b[0m\u001b[0;34m(\u001b[0m\u001b[0;34m\"; \"\u001b[0m\u001b[0;34m)\u001b[0m\u001b[0;34m[\u001b[0m\u001b[0;36m0\u001b[0m\u001b[0;34m]\u001b[0m\u001b[0;34m.\u001b[0m\u001b[0mstrip\u001b[0m\u001b[0;34m(\u001b[0m\u001b[0;34m)\u001b[0m\u001b[0;34m)\u001b[0m\u001b[0;34m\u001b[0m\u001b[0;34m\u001b[0m\u001b[0m\n\u001b[0m\u001b[1;32m    619\u001b[0m     \u001b[0mwos_ref\u001b[0m \u001b[0;34m=\u001b[0m \u001b[0mwos_ref\u001b[0m \u001b[0;34m+\u001b[0m \u001b[0;34m\", \"\u001b[0m \u001b[0;34m+\u001b[0m \u001b[0mdocuments\u001b[0m\u001b[0;34m.\u001b[0m\u001b[0mpub_year\u001b[0m\u001b[0;34m.\u001b[0m\u001b[0mmap\u001b[0m\u001b[0;34m(\u001b[0m\u001b[0mstr\u001b[0m\u001b[0;34m)\u001b[0m\u001b[0;34m\u001b[0m\u001b[0;34m\u001b[0m\u001b[0m\n\u001b[1;32m    620\u001b[0m     \u001b[0mwos_ref\u001b[0m \u001b[0;34m=\u001b[0m \u001b[0mwos_ref\u001b[0m \u001b[0;34m+\u001b[0m \u001b[0;34m\", \"\u001b[0m \u001b[0;34m+\u001b[0m \u001b[0mdocuments\u001b[0m\u001b[0;34m.\u001b[0m\u001b[0miso_source_name\u001b[0m\u001b[0;34m\u001b[0m\u001b[0;34m\u001b[0m\u001b[0m\n",
      "\u001b[0;32m/usr/local/lib/python3.7/site-packages/pandas/core/series.py\u001b[0m in \u001b[0;36mmap\u001b[0;34m(self, arg, na_action)\u001b[0m\n\u001b[1;32m   3981\u001b[0m         \u001b[0mdtype\u001b[0m\u001b[0;34m:\u001b[0m \u001b[0mobject\u001b[0m\u001b[0;34m\u001b[0m\u001b[0;34m\u001b[0m\u001b[0m\n\u001b[1;32m   3982\u001b[0m         \"\"\"\n\u001b[0;32m-> 3983\u001b[0;31m         \u001b[0mnew_values\u001b[0m \u001b[0;34m=\u001b[0m \u001b[0msuper\u001b[0m\u001b[0;34m(\u001b[0m\u001b[0;34m)\u001b[0m\u001b[0;34m.\u001b[0m\u001b[0m_map_values\u001b[0m\u001b[0;34m(\u001b[0m\u001b[0marg\u001b[0m\u001b[0;34m,\u001b[0m \u001b[0mna_action\u001b[0m\u001b[0;34m=\u001b[0m\u001b[0mna_action\u001b[0m\u001b[0;34m)\u001b[0m\u001b[0;34m\u001b[0m\u001b[0;34m\u001b[0m\u001b[0m\n\u001b[0m\u001b[1;32m   3984\u001b[0m         return self._constructor(new_values, index=self.index).__finalize__(\n\u001b[1;32m   3985\u001b[0m             \u001b[0mself\u001b[0m\u001b[0;34m,\u001b[0m \u001b[0mmethod\u001b[0m\u001b[0;34m=\u001b[0m\u001b[0;34m\"map\"\u001b[0m\u001b[0;34m\u001b[0m\u001b[0;34m\u001b[0m\u001b[0m\n",
      "\u001b[0;32m/usr/local/lib/python3.7/site-packages/pandas/core/base.py\u001b[0m in \u001b[0;36m_map_values\u001b[0;34m(self, mapper, na_action)\u001b[0m\n\u001b[1;32m   1158\u001b[0m \u001b[0;34m\u001b[0m\u001b[0m\n\u001b[1;32m   1159\u001b[0m         \u001b[0;31m# mapper is a function\u001b[0m\u001b[0;34m\u001b[0m\u001b[0;34m\u001b[0m\u001b[0;34m\u001b[0m\u001b[0m\n\u001b[0;32m-> 1160\u001b[0;31m         \u001b[0mnew_values\u001b[0m \u001b[0;34m=\u001b[0m \u001b[0mmap_f\u001b[0m\u001b[0;34m(\u001b[0m\u001b[0mvalues\u001b[0m\u001b[0;34m,\u001b[0m \u001b[0mmapper\u001b[0m\u001b[0;34m)\u001b[0m\u001b[0;34m\u001b[0m\u001b[0;34m\u001b[0m\u001b[0m\n\u001b[0m\u001b[1;32m   1161\u001b[0m \u001b[0;34m\u001b[0m\u001b[0m\n\u001b[1;32m   1162\u001b[0m         \u001b[0;32mreturn\u001b[0m \u001b[0mnew_values\u001b[0m\u001b[0;34m\u001b[0m\u001b[0;34m\u001b[0m\u001b[0m\n",
      "\u001b[0;32mpandas/_libs/lib.pyx\u001b[0m in \u001b[0;36mpandas._libs.lib.map_infer\u001b[0;34m()\u001b[0m\n",
      "\u001b[0;32m/workspaces/techminer-api/techminer/import_scopus_file.py\u001b[0m in \u001b[0;36m<lambda>\u001b[0;34m(x)\u001b[0m\n\u001b[1;32m    616\u001b[0m \u001b[0;32mdef\u001b[0m \u001b[0m_create_wos_style_id\u001b[0m\u001b[0;34m(\u001b[0m\u001b[0mdocuments\u001b[0m\u001b[0;34m)\u001b[0m\u001b[0;34m:\u001b[0m\u001b[0;34m\u001b[0m\u001b[0;34m\u001b[0m\u001b[0m\n\u001b[1;32m    617\u001b[0m \u001b[0;34m\u001b[0m\u001b[0m\n\u001b[0;32m--> 618\u001b[0;31m     \u001b[0mwos_ref\u001b[0m \u001b[0;34m=\u001b[0m \u001b[0mdocuments\u001b[0m\u001b[0;34m.\u001b[0m\u001b[0mauthors\u001b[0m\u001b[0;34m.\u001b[0m\u001b[0mmap\u001b[0m\u001b[0;34m(\u001b[0m\u001b[0;32mlambda\u001b[0m \u001b[0mx\u001b[0m\u001b[0;34m:\u001b[0m \u001b[0mx\u001b[0m\u001b[0;34m.\u001b[0m\u001b[0msplit\u001b[0m\u001b[0;34m(\u001b[0m\u001b[0;34m\"; \"\u001b[0m\u001b[0;34m)\u001b[0m\u001b[0;34m[\u001b[0m\u001b[0;36m0\u001b[0m\u001b[0;34m]\u001b[0m\u001b[0;34m.\u001b[0m\u001b[0mstrip\u001b[0m\u001b[0;34m(\u001b[0m\u001b[0;34m)\u001b[0m\u001b[0;34m)\u001b[0m\u001b[0;34m\u001b[0m\u001b[0;34m\u001b[0m\u001b[0m\n\u001b[0m\u001b[1;32m    619\u001b[0m     \u001b[0mwos_ref\u001b[0m \u001b[0;34m=\u001b[0m \u001b[0mwos_ref\u001b[0m \u001b[0;34m+\u001b[0m \u001b[0;34m\", \"\u001b[0m \u001b[0;34m+\u001b[0m \u001b[0mdocuments\u001b[0m\u001b[0;34m.\u001b[0m\u001b[0mpub_year\u001b[0m\u001b[0;34m.\u001b[0m\u001b[0mmap\u001b[0m\u001b[0;34m(\u001b[0m\u001b[0mstr\u001b[0m\u001b[0;34m)\u001b[0m\u001b[0;34m\u001b[0m\u001b[0;34m\u001b[0m\u001b[0m\n\u001b[1;32m    620\u001b[0m     \u001b[0mwos_ref\u001b[0m \u001b[0;34m=\u001b[0m \u001b[0mwos_ref\u001b[0m \u001b[0;34m+\u001b[0m \u001b[0;34m\", \"\u001b[0m \u001b[0;34m+\u001b[0m \u001b[0mdocuments\u001b[0m\u001b[0;34m.\u001b[0m\u001b[0miso_source_name\u001b[0m\u001b[0;34m\u001b[0m\u001b[0;34m\u001b[0m\u001b[0m\n",
      "\u001b[0;31mAttributeError\u001b[0m: 'float' object has no attribute 'split'"
     ]
    }
   ],
   "source": [
    "import os\n",
    "import sys\n",
    "import pandas as pd\n",
    "\n",
    "pd.set_option(\"display.notebook_repr_html\", False)\n",
    "currentdir = os.getcwd()\n",
    "parentdir = os.path.dirname(currentdir)\n",
    "sys.path.append(parentdir)\n",
    "\n",
    "from techminer import *\n",
    "\n",
    "directory = \"/workspaces/techminer-api/tests/data/\"\n",
    "file_name = directory + \"scopus.csv\"\n",
    "\n",
    "\n",
    "import_scopus_file(file_name, directory)\n",
    "# -----------------------------------------------\n",
    "# coverage(directory)\n",
    "# summary(directory)\n",
    "# -----------------------------------------------\n",
    "# clean_institutions(directory)\n",
    "# clean_keywords(directory)\n",
    "# apply_thesaurus(directory, thesaurus_file=\"keywords.txt\", input_column=\"author_keywords\", output_column=\"author_keywords_thesaurus\", strict=False)\n",
    "# create_thesaurus(directory, column=\"keywords\", thesaurus_file=\"test_thesaurus.txt\", sep=\"; \")\n",
    "# -----------------------------------------------\n",
    "# time_report(directory)\n",
    "# terms_report(directory, 'authors', min_occ=5)\n",
    "# -----------------------------------------------\n",
    "# bar_chart(terms_report(directory, 'authors', min_occ=5).sort_values(by=['global_citations'], ascending=False).global_citations)\n",
    "# word_cloud(terms_report(directory, 'authors', min_occ=5).num_documents)\n",
    "# world_map(directory, figsize=(8,7)).savefig('/workspaces/techminer-api/sphinx/images/world_map.png')\n",
    "\n",
    "# !cat ../data/processed/debug/filter.yaml"
   ]
  },
  {
   "cell_type": "markdown",
   "metadata": {},
   "source": [
    "# Analysis"
   ]
  },
  {
   "cell_type": "code",
   "execution_count": null,
   "metadata": {},
   "outputs": [],
   "source": [
    "import os\n",
    "import sys\n",
    "\n",
    "currentdir = os.getcwd()\n",
    "parentdir = os.path.dirname(currentdir)\n",
    "sys.path.append(parentdir)\n",
    "\n",
    "import pandas as pd\n",
    "\n",
    "pd.set_option(\"display.notebook_repr_html\", False)\n",
    "\n",
    "from techminer import *\n",
    "\n",
    "directory = \"/workspaces/techminer-api/tests/data/\"\n",
    "\n",
    "\n",
    "# auto_corr_map(auto_corr_matrix(directory, column='authors', min_occ=4), num_terms=10)\n",
    "# auto_corr_heat_map(auto_corr_matrix(directory, column='authors', min_occ=4), cmap='Reds').savefig(\"/workspaces/techminer-api/sphinx/images/auto_corr_heat_map.png\")\n",
    "# auto_corr_matrix(directory, column='authors', min_occ=6)\n",
    "# co_occurrence_matrix(directory, column='authors', min_occ=5)\n",
    "# co_occurrence_heat_map(co_occurrence_matrix(directory, column='authors', min_occ=5), cmap='Reds').savefig(\"/workspaces/techminer-api/sphinx/images/co_occurrence_heat_map.png\")\n",
    "# factor_matrix(co_occurrence_matrix(directory, column='authors', min_occ=6))\n",
    "# factor_heat_map(factor_matrix(co_occurrence_matrix(directory, column='authors', min_occ=6))).savefig(\"/workspaces/techminer-api/sphinx/images/factor_heat_map.png\")\n",
    "members, centers = factor_clusters(factor_matrix(co_occurrence_matrix(directory, column='authors', min_occ=6)))\n",
    "# factor_cluster_map(centers, members)\n",
    "factor_members_map(factor_matrix(co_occurrence_matrix(directory, column='authors', min_occ=6)), members)\n",
    "# ----\n",
    "\n",
    "\n",
    "\n",
    "# bradford_plot(directory)\n",
    "# lotka_plot(directory)\n",
    "\n",
    "# core_authors(directory)\n",
    "# core_sources(directory)\n",
    "# count_documents_by_term(directory, column='authors', min_occ=6)\n",
    "# impact_analysis(directory, column=\"authors\")\n",
    "# terms_analysis(directory, column='authors', min_occ=5)\n",
    "# terms_per_year_analysis(directory, column='authors', metric='num_documents', min_occ=5)\n",
    "# time_analysis(directory)\n",
    "# top_documents(directory)\n",
    "# co_occurrence_network_clusters(co_occurrence_matrix(directory, column='authors', min_occ=5))\n",
    "# coc_matrix = co_occurrence_matrix(directory, column='authors', min_occ=5, association='jaccard')\n",
    "# clusters = similarity_matrix_clustering(coc_matrix)\n",
    "# similarity_matrix_bubble_map(coc_matrix, clusters)\n",
    "\n",
    "# build_similarity_matrix_from_clusters(coc_matrix, clusters)"
   ]
  },
  {
   "cell_type": "code",
   "execution_count": null,
   "metadata": {},
   "outputs": [],
   "source": []
  },
  {
   "cell_type": "markdown",
   "metadata": {},
   "source": [
    "# Charts"
   ]
  },
  {
   "cell_type": "code",
   "execution_count": null,
   "metadata": {},
   "outputs": [],
   "source": [
    "import os\n",
    "import sys\n",
    "\n",
    "currentdir = os.getcwd()\n",
    "parentdir = os.path.dirname(currentdir)\n",
    "sys.path.append(parentdir)\n",
    "\n",
    "from techminer import *\n",
    "\n",
    "directory = \"../data/processed/debug\"\n",
    "\n",
    "# bar_chart(series=time_analysis(directory)['num_documents'], darkness=time_analysis(directory)['global_citations'])\n",
    "# pie_chart(series=time_analysis(directory)['num_documents'], darkness=time_analysis(directory)['global_citations'])\n",
    "# column_chart(series=time_analysis(directory)['num_documents'], darkness=time_analysis(directory)['global_citations'])\n",
    "# word_cloud(terms_analysis(directory, column='authors')['num_documents'].head(50), cmap='Reds')\n",
    "# tree_map(terms_analysis(directory, column='authors')['num_documents'].head(50), cmap='Reds')\n",
    "# heat_map(terms_per_year_analysis(directory, column='authors', metric='num_documents', min_occ=5), cmap='Reds')\n",
    "# cross_corr_matrix(directory, column='authors', by='author_keywords', min_occ=5)\n",
    "# bubble_chart(co_occurrence_matrix(directory, column='authors', min_occ=5))\n",
    "# slope_chart(co_occurrence_matrix(directory, column='authors', min_occ=5))"
   ]
  },
  {
   "cell_type": "code",
   "execution_count": null,
   "metadata": {},
   "outputs": [],
   "source": []
  },
  {
   "cell_type": "code",
   "execution_count": null,
   "metadata": {},
   "outputs": [],
   "source": [
    "import pandas as pd\n",
    "\n",
    "pd.read_csv(\"../data/processed/debug/documents.csv\").iso_source_name.value_counts()"
   ]
  },
  {
   "cell_type": "code",
   "execution_count": null,
   "metadata": {},
   "outputs": [],
   "source": [
    "pd.read_csv(\"../data/processed/debug/documents.csv\").columns"
   ]
  },
  {
   "cell_type": "code",
   "execution_count": null,
   "metadata": {},
   "outputs": [],
   "source": []
  }
 ],
 "metadata": {
  "interpreter": {
   "hash": "949777d72b0d2535278d3dc13498b2535136f6dfe0678499012e853ee9abcab1"
  },
  "kernelspec": {
   "display_name": "Python 3.7.12 64-bit",
   "name": "python3"
  },
  "language_info": {
   "codemirror_mode": {
    "name": "ipython",
    "version": 3
   },
   "file_extension": ".py",
   "mimetype": "text/x-python",
   "name": "python",
   "nbconvert_exporter": "python",
   "pygments_lexer": "ipython3",
   "version": "3.7.12"
  }
 },
 "nbformat": 4,
 "nbformat_minor": 4
}
