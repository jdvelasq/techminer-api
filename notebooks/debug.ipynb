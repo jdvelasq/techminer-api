{
 "cells": [
  {
   "cell_type": "code",
   "execution_count": null,
   "metadata": {},
   "outputs": [],
   "source": [
    "import os\n",
    "import sys\n",
    "\n",
    "currentdir = os.getcwd()\n",
    "parentdir = os.path.dirname(currentdir)\n",
    "sys.path.append(parentdir)\n",
    "\n",
    "from src.data.importers import import_raw\n",
    "\n",
    "import_raw(source=\"../data/raw/debug-scopus.csv\", filetype=\"scopus\", targetdir=\"../data/processed/debug\")\n",
    "# wos_df = load_file(filepath=\"techminer/tests/data/savedrecs.txt\", filetype=\"wos\", datastorepath=\"./datastore\")\n",
    "# dim_df = load_file(filepath=\"techminer/tests/data/dimensions.csv\", filetype=\"dimensions\", datastorepath=\"./datastore\")\n",
    "\n"
   ]
  },
  {
   "cell_type": "code",
   "execution_count": 1,
   "metadata": {},
   "outputs": [
    {
     "name": "stdout",
     "output_type": "stream",
     "text": [
      "2021-10-27 22:46:32 - INFO - Datastore ../data/processed/debug/datastore.csv loaded.\n",
      "2021-10-27 22:46:32 - INFO - Generating historiograph ID ...\n",
      "2021-10-27 22:46:32 - INFO - Deleting existent local references ...\n",
      "2021-10-27 22:46:32 - INFO - Searching local references using DOI ...\n",
      "2021-10-27 22:46:42 - INFO - Searching local references using document titles ...\n",
      "2021-10-27 22:46:56 - INFO - Consolidating local references ...\n",
      "2021-10-27 22:46:56 - INFO - Computing local citations ...\n",
      "2021-10-27 22:46:56 - INFO - Computing Bradford Law Zones ...\n",
      "2021-10-27 22:46:57 - INFO - Datastore saved to ../data/processed/debug/datastore.csv\n",
      "2021-10-27 22:46:57 - INFO - Creating institutions thesaurus ...\n",
      "2021-10-27 22:46:57 - INFO - Affiliations without country detected - check file ../data/processed/debug/ignored_affiliations.txt\n",
      "2021-10-27 22:46:57 - INFO - Affiliations without country detected - check file ../data/processed/debug/ignored_affiliations.txt\n",
      "2021-10-27 22:46:57 - INFO - Thesaurus file ../data/processed/debug/TH_institutions.txt created.\n",
      "2021-10-27 22:46:58 - INFO - The thesaurus was applied to institutions.\n",
      "2021-10-27 22:46:58 - INFO - Creating keywords thesaurus ...\n",
      "2021-10-27 22:47:00 - INFO - Thesaurus file ../data/processed/debug/TH_keywords.txt created.\n",
      "2021-10-27 22:47:01 - INFO - The thesaurus was applied to keywords.\n"
     ]
    }
   ],
   "source": [
    "import os\n",
    "import sys\n",
    "\n",
    "currentdir = os.getcwd()\n",
    "parentdir = os.path.dirname(currentdir)\n",
    "sys.path.append(parentdir)\n",
    "\n",
    "from src.features.processing import process_datastore\n",
    "\n",
    "process_datastore(datastoredir=\"../data/processed/debug\")"
   ]
  },
  {
   "cell_type": "code",
   "execution_count": null,
   "metadata": {},
   "outputs": [],
   "source": [
    "from src.features.apply_keywords_thesaurus import apply_keywords_thesaurus\n",
    "\n",
    "# Ok!\n",
    "apply_keywords_thesaurus(datastoredir=\"../data/processed/debug\")"
   ]
  },
  {
   "cell_type": "code",
   "execution_count": null,
   "metadata": {},
   "outputs": [],
   "source": [
    "from techminer.preparation.apply_institutions_thesaurus import apply_institutions_thesaurus\n",
    "\n",
    "# Ok!\n",
    "apply_institutions_thesaurus(datastorepath=\"./datastore\")"
   ]
  },
  {
   "cell_type": "code",
   "execution_count": null,
   "metadata": {},
   "outputs": [],
   "source": [
    "from techminer.analysis.bradford import Bradford\n",
    "\n",
    "Bradford(datastorepath=\"./datastore\").plot(max_items=8, cmap='Blues', figsize=(8, 5), fontsize=9)"
   ]
  },
  {
   "cell_type": "code",
   "execution_count": null,
   "metadata": {},
   "outputs": [],
   "source": [
    "Bradford(datastorepath=\"./datastore\").sources_"
   ]
  },
  {
   "cell_type": "code",
   "execution_count": null,
   "metadata": {},
   "outputs": [],
   "source": [
    "from techminer.analysis.top_documents import TopDocuments\n",
    "\n",
    "TopDocuments(datastorepath=\"./datastore\").detailed_"
   ]
  },
  {
   "cell_type": "code",
   "execution_count": null,
   "metadata": {},
   "outputs": [],
   "source": [
    "from techminer.analysis.top_documents import TopDocuments\n",
    "\n",
    "TopDocuments(datastorepath=\"./datastore\").print()"
   ]
  },
  {
   "cell_type": "code",
   "execution_count": null,
   "metadata": {},
   "outputs": [],
   "source": [
    "from techminer.analysis.core_authors import CoreAuthors\n",
    "\n",
    "CoreAuthors(datastorepath=\"./datastore\").table_"
   ]
  },
  {
   "cell_type": "code",
   "execution_count": null,
   "metadata": {},
   "outputs": [],
   "source": [
    "from techminer.analysis.core_authors import CoreAuthors\n",
    "\n",
    "CoreAuthors(datastorepath=\"./datastore\").plot(figsize=(8, 4))"
   ]
  },
  {
   "cell_type": "code",
   "execution_count": null,
   "metadata": {},
   "outputs": [],
   "source": [
    "from techminer.analysis.core_sources import CoreSources\n",
    "\n",
    "CoreSources(datastorepath=\"./datastore\").table_"
   ]
  },
  {
   "cell_type": "code",
   "execution_count": null,
   "metadata": {},
   "outputs": [],
   "source": [
    "from techminer.analysis.coverage import Coverage\n",
    "\n",
    "Coverage(datastorepath=\"./datastore\").table_"
   ]
  },
  {
   "cell_type": "code",
   "execution_count": null,
   "metadata": {},
   "outputs": [],
   "source": [
    "from techminer.analysis.worldmap import WorldMap\n",
    "\n",
    "WorldMap(datastorepath=\"./datastore\").plot(figsize=(9, 5), colormap='Blues')"
   ]
  },
  {
   "cell_type": "code",
   "execution_count": null,
   "metadata": {},
   "outputs": [],
   "source": []
  },
  {
   "cell_type": "code",
   "execution_count": null,
   "metadata": {},
   "outputs": [],
   "source": []
  },
  {
   "cell_type": "code",
   "execution_count": null,
   "metadata": {},
   "outputs": [],
   "source": [
    "import pandas as pd\n",
    "\n",
    "pd.read_csv(\"./datastore/datastore.csv\").authors_id"
   ]
  },
  {
   "cell_type": "code",
   "execution_count": null,
   "metadata": {},
   "outputs": [],
   "source": []
  },
  {
   "cell_type": "code",
   "execution_count": null,
   "metadata": {},
   "outputs": [],
   "source": []
  }
 ],
 "metadata": {
  "interpreter": {
   "hash": "949777d72b0d2535278d3dc13498b2535136f6dfe0678499012e853ee9abcab1"
  },
  "kernelspec": {
   "display_name": "Python 3.7.12 64-bit",
   "name": "python3"
  },
  "language_info": {
   "codemirror_mode": {
    "name": "ipython",
    "version": 3
   },
   "file_extension": ".py",
   "mimetype": "text/x-python",
   "name": "python",
   "nbconvert_exporter": "python",
   "pygments_lexer": "ipython3",
   "version": "3.7.12"
  }
 },
 "nbformat": 4,
 "nbformat_minor": 4
}
