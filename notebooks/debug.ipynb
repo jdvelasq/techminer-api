{
 "cells": [
  {
   "cell_type": "code",
   "execution_count": null,
   "metadata": {},
   "outputs": [],
   "source": [
    "import os\n",
    "import sys\n",
    "\n",
    "currentdir = os.getcwd()\n",
    "parentdir = os.path.dirname(currentdir)\n",
    "sys.path.append(parentdir)\n",
    "\n",
    "#\n",
    "# data\n",
    "#\n",
    "from techminer import *\n",
    "\n",
    "\n",
    "# Records(directory=\"../data/processed/debug\").import_records(source=\"../data/tmp/debug-scopus.csv\", filetype=\"scopus\")\n",
    "# Records(directory=\"../data/processed/debug\").process_records()\n",
    "# Records(directory=\"../data/processed/debug\").coverage()\n",
    "# Records(directory=\"../data/processed/debug\").describe()\n",
    "# Records(directory=\"../data/processed/debug\").core_sources()\n",
    "# Records(directory=\"../data/processed/debug\").core_authors()\n",
    "\n",
    "# wos_df = load_file(filepath=\"techminer/tests/data/savedrecs.txt\", filetype=\"wos\", datastorepath=\"./datastore\")\n",
    "# dim_df = load_file(filepath=\"techminer/tests/data/dimensions.csv\", filetype=\"dimensions\", datastorepath=\"./datastore\")"
   ]
  },
  {
   "cell_type": "code",
   "execution_count": 1,
   "metadata": {},
   "outputs": [
    {
     "name": "stdout",
     "output_type": "stream",
     "text": [
      "2021-11-02 21:04:17 - INFO - Creating thesaurus ...\n",
      "2021-11-02 21:04:18 - INFO - Thesaurus file '../data/processed/debug/test_thesaurus.txt' created.\n"
     ]
    }
   ],
   "source": [
    "import os\n",
    "import sys\n",
    "\n",
    "currentdir = os.getcwd()\n",
    "parentdir = os.path.dirname(currentdir)\n",
    "sys.path.append(parentdir)\n",
    "\n",
    "from techminer import *\n",
    "\n",
    "# bradford_plot(directory_or_records=\"../data/processed/debug\")\n",
    "# core_authors(directory_or_records=\"../data/processed/debug\")\n",
    "# core_sources(directory_or_records=\"../data/processed/debug\")\n",
    "# coverage(directory_or_records=\"../data/processed/debug\")\n",
    "# lotka_plot(directory_or_records=\"../data/processed/debug\")\n",
    "# most_cited_documents(directory_or_records=\"../data/processed/debug\")\n",
    "# TermAnalyzer(directory_or_records=\"../data/processed/debug\", column='authors', top_by='num_records').treemap('num_records')\n",
    "# TimeAnalyzer(directory_or_records=\"../data/processed/debug\").barh(column='num_documents', cmap=\"Blues\")\n",
    "# worldmap(count_records_by_term(directory_or_records=\"../data/processed/debug\", column=\"countries\"))\n",
    "# Worldmap(directory_or_records=\"../data/processed/debug\").plot(column='global_citations')\n",
    "# create_thesaurus(directory_or_records=\"../data/processed/debug\", column=\"keywords\", thesaurus_filepath=\"../data/processed/debug/test_thesaurus.txt\")\n",
    "apply_thesaurus(directory_or_records=\"../data/processed/debug\", thesaurus_filepath=\"../data/processed/debug/keywords.txt\", input_column=\"author_keywords\", output_column=\"author_keywords_thesaurus\")"
   ]
  },
  {
   "cell_type": "code",
   "execution_count": null,
   "metadata": {},
   "outputs": [],
   "source": [
    "\n",
    "\n",
    "\n",
    "\n",
    "\n",
    "# apply_thesaurus(directory_or_records=\"../data/processed/debug\", thesaurus_filepath=\"../data/processed/debug/keywords.txt\", input_column=\"author_keywords\", output_column=\"author_keywords_thesaurus\")\n",
    "# association_index(co_occurrence_matrix(directory_or_records=\"../data/processed/debug\", column=\"author_keywords\"), association='jaccard')\n",
    "\n",
    "# co_occurrence_matrix(directory_or_records=\"../data/processed/debug\", column=\"author_keywords\", by='author_keywords')\n",
    "# co_occurrence_matrix(directory_or_records=\"../data/processed/debug\", column=\"author_keywords\", by='countries')\n",
    "\n",
    "\n",
    "\n",
    "# create_thesaurus(directory_or_records=\"../data/processed/debug\", column=\"keywords\", thesaurus_filepath=\"../data/processed/debug/test_thesaurus.txt\")\n",
    "# impact_analysis(directory_or_records=\"../data/processed/debug\", column=\"authors\")\n",
    "# summary(directory_or_records=\"../data/processed/debug\")\n",
    "# tf_matrix(directory_or_records=\"../data/processed/debug\", column=\"author_keywords\")\n",
    "# tfidf_matrix(tf_matrix(directory_or_records=\"../data/processed/debug\", column=\"author_keywords\"))\n",
    "\n",
    "# collaboration_analysis(directory_or_records=\"../data/processed/debug\", column=\"authors\")"
   ]
  },
  {
   "cell_type": "code",
   "execution_count": null,
   "metadata": {},
   "outputs": [],
   "source": [
    "count_documents_by_term(directory_or_records=\"../data/processed/debug\", column=\"country\")"
   ]
  },
  {
   "cell_type": "code",
   "execution_count": null,
   "metadata": {},
   "outputs": [],
   "source": [
    "import nltk\n",
    "nltk.__version__"
   ]
  },
  {
   "cell_type": "code",
   "execution_count": null,
   "metadata": {},
   "outputs": [],
   "source": []
  },
  {
   "cell_type": "code",
   "execution_count": null,
   "metadata": {},
   "outputs": [],
   "source": []
  },
  {
   "cell_type": "code",
   "execution_count": null,
   "metadata": {},
   "outputs": [],
   "source": [
    "#\n",
    "# query module\n",
    "#\n",
    "import os\n",
    "import sys\n",
    "\n",
    "currentdir = os.getcwd()\n",
    "parentdir = os.path.dirname(currentdir)\n",
    "sys.path.append(parentdir)\n",
    "\n",
    "from techminer.query import * \n",
    "\n",
    "\n",
    "# count_documents_by_term(directory_or_records=\"../data/processed/debug\", column='authors', sep='; ')\n",
    "# count_documents_by_year(directory_or_records=\"../data/processed/debug\")\n",
    "# count_global_citations_by_term(directory_or_records=\"../data/processed/debug\", column='authors', sep='; ')\n",
    "# count_global_citations_by_year(directory_or_records=\"../data/processed/debug\")\n",
    "# count_local_citations_by_term(directory_or_records=\"../data/processed/debug\", column='authors', sep='; ')\n",
    "# count_local_citations_by_year(directory_or_records=\"../data/processed/debug\")\n",
    "# count_terms_by_column(directory_or_records=\"../data/processed/debug\", sep=\"; \", column='authors')\n",
    "# mean_global_citations_by_year(directory_or_records=\"../data/processed/debug\")\n",
    "# mean_local_citations_by_year(directory_or_records=\"../data/processed/debug\")\n",
    "# term_analysis(directory_or_records=\"../data/processed/debug\", column='authors')\n",
    "# time_analysis(directory_or_records=\"../data/processed/debug\")\n",
    "\n",
    "# termino por año <----\n",
    "\n",
    "# most_cited_documents(directory_or_records=\"../data/processed/debug\")\n",
    "# compute_impact_index(directory_or_records=\"../data/processed/debug\", column='authors')\n",
    "\n",
    "\n",
    "\n",
    "\n",
    "# ---\n",
    "# worldmap(count_documents_by_term(directory_or_records=\"../data/processed/debug\", column='countries'))\n"
   ]
  },
  {
   "cell_type": "code",
   "execution_count": null,
   "metadata": {},
   "outputs": [],
   "source": [
    "import os\n",
    "import sys\n",
    "\n",
    "currentdir = os.getcwd()\n",
    "parentdir = os.path.dirname(currentdir)\n",
    "sys.path.append(parentdir)\n",
    "\n",
    "from techminer.data import *\n",
    "\n",
    "# coverage(directory_or_records=\"../data/processed/debug\")\n",
    "describe_records(directory_or_records=\"../data/processed/debug\")"
   ]
  },
  {
   "cell_type": "code",
   "execution_count": null,
   "metadata": {},
   "outputs": [],
   "source": [
    "import os\n",
    "import sys\n",
    "\n",
    "currentdir = os.getcwd()\n",
    "parentdir = os.path.dirname(currentdir)\n",
    "sys.path.append(parentdir)\n",
    "\n",
    "#\n",
    "# features\n",
    "#\n",
    "from techminer.features import *\n",
    "\n",
    "# extract_coutries(directory_or_records=\"../data/processed/debug\", column='affiliations')\n",
    "\n",
    "\n",
    "\n",
    "\n"
   ]
  },
  {
   "cell_type": "code",
   "execution_count": null,
   "metadata": {},
   "outputs": [],
   "source": [
    "#\n",
    "# query modules\n",
    "#\n",
    "import os\n",
    "import sys\n",
    "\n",
    "currentdir = os.getcwd()\n",
    "parentdir = os.path.dirname(currentdir)\n",
    "sys.path.append(parentdir)\n",
    "\n",
    "from techminer.query import * \n",
    "from techminer.visualization import worldmap\n",
    "\n",
    "\n",
    "\n",
    "# term_analysis(directory_or_records=\"../data/processed/debug\", column='authors')\n",
    "### count_terms_by_column(directory_or_records=\"../data/processed/debug\", sep=\"; \", column='authors')\n",
    "# time_analysis(directory_or_records=\"../data/processed/debug\")\n",
    "### count_local_citations_by_year(directory_or_records=\"../data/processed/debug\")\n",
    "### count_global_citations_by_year(directory_or_records=\"../data/processed/debug\")\n",
    "### count_documents_by_year(directory_or_records=\"../data/processed/debug\")\n",
    "### mean_global_citations_by_year(directory_or_records=\"../data/processed/debug\")\n",
    "# most_cited_documents(directory_or_records=\"../data/processed/debug\")\n",
    "# compute_impact_index(directory_or_records=\"../data/processed/debug\", column='authors')\n",
    "\n",
    "\n",
    "\n",
    "\n",
    "# ---\n",
    "# worldmap(count_documents_by_term(directory_or_records=\"../data/processed/debug\", column='countries'))\n",
    "\n"
   ]
  },
  {
   "cell_type": "code",
   "execution_count": null,
   "metadata": {},
   "outputs": [],
   "source": [
    "import os\n",
    "import sys\n",
    "\n",
    "currentdir = os.getcwd()\n",
    "parentdir = os.path.dirname(currentdir)\n",
    "sys.path.append(parentdir)\n",
    "\n",
    "from techminer import Records\n",
    "\n",
    "Records(directory)\n",
    "\n",
    "# core_sources(directory_or_records=\"../data/processed/debug\")\n",
    "# core_authors(directory_or_records=\"../data/processed/debug\")\n",
    "# lotka(core_authors(directory_or_records=\"../data/processed/debug\"), colormap='Blues', figsize=(6,3))\n"
   ]
  },
  {
   "cell_type": "code",
   "execution_count": null,
   "metadata": {},
   "outputs": [],
   "source": [
    "import os\n",
    "import sys\n",
    "\n",
    "currentdir = os.getcwd()\n",
    "parentdir = os.path.dirname(currentdir)\n",
    "sys.path.append(parentdir)\n",
    "\n",
    "\n",
    "from techminer.visualization import bradford\n",
    "\n",
    "bradford(directory_or_records=\"../data/processed/debug\")"
   ]
  },
  {
   "cell_type": "code",
   "execution_count": null,
   "metadata": {},
   "outputs": [],
   "source": [
    "import pandas as pd\n",
    "\n",
    "from techminer.data.records import load_records\n",
    "\n",
    "# sorted(load_records(directory=\"../data/processed/debug\").columns)\n",
    "load_records(directory=\"../data/processed/debug\")"
   ]
  },
  {
   "cell_type": "code",
   "execution_count": null,
   "metadata": {},
   "outputs": [],
   "source": []
  },
  {
   "cell_type": "code",
   "execution_count": null,
   "metadata": {},
   "outputs": [],
   "source": []
  },
  {
   "cell_type": "code",
   "execution_count": null,
   "metadata": {},
   "outputs": [],
   "source": [
    "from src.features.apply_keywords_thesaurus import apply_keywords_thesaurus\n",
    "from src.features.apply_institutions_thesaurus import apply_institutions_thesaurus\n",
    "\n",
    "# Ok!\n",
    "apply_keywords_thesaurus(datastoredir=\"../data/processed/debug\")\n",
    "apply_institutions_thesaurus(datastoredir=\"../data/processed/debug\")"
   ]
  },
  {
   "cell_type": "code",
   "execution_count": null,
   "metadata": {},
   "outputs": [],
   "source": [
    "import os\n",
    "import sys\n",
    "\n",
    "currentdir = os.getcwd()\n",
    "parentdir = os.path.dirname(currentdir)\n",
    "sys.path.append(parentdir)\n",
    "\n",
    "from techminer.analysis import Bradford\n",
    "\n",
    "bradford = Bradford(datastoredir=\"../data/processed/debug\")\n",
    "\n",
    "bradford.plot(max_items=8, cmap='Blues', figsize=(8, 5), fontsize=9)"
   ]
  },
  {
   "cell_type": "code",
   "execution_count": null,
   "metadata": {},
   "outputs": [],
   "source": [
    "bradford.sources_"
   ]
  },
  {
   "cell_type": "code",
   "execution_count": null,
   "metadata": {},
   "outputs": [],
   "source": [
    "import os\n",
    "import sys\n",
    "\n",
    "currentdir = os.getcwd()\n",
    "parentdir = os.path.dirname(currentdir)\n",
    "sys.path.append(parentdir)\n",
    "\n",
    "from src.analysis import TopDocuments\n",
    "\n",
    "TopDocuments(datastoredir=\"../data/processed/debug\").detailed_"
   ]
  },
  {
   "cell_type": "code",
   "execution_count": null,
   "metadata": {},
   "outputs": [],
   "source": [
    "from techminer.analysis.top_documents import TopDocuments\n",
    "\n",
    "TopDocuments(datastorepath=\"./datastore\").print()"
   ]
  },
  {
   "cell_type": "code",
   "execution_count": null,
   "metadata": {},
   "outputs": [],
   "source": [
    "from techminer.analysis.core_authors import CoreAuthors\n",
    "\n",
    "CoreAuthors(datastorepath=\"./datastore\").table_"
   ]
  },
  {
   "cell_type": "code",
   "execution_count": null,
   "metadata": {},
   "outputs": [],
   "source": [
    "from techminer.analysis.core_authors import CoreAuthors\n",
    "\n",
    "CoreAuthors(datastorepath=\"./datastore\").plot(figsize=(8, 4))"
   ]
  },
  {
   "cell_type": "code",
   "execution_count": null,
   "metadata": {},
   "outputs": [],
   "source": [
    "from techminer.analysis.core_sources import CoreSources\n",
    "\n",
    "CoreSources(datastorepath=\"./datastore\").table_"
   ]
  },
  {
   "cell_type": "code",
   "execution_count": null,
   "metadata": {},
   "outputs": [],
   "source": [
    "from techminer.analysis.coverage import Coverage\n",
    "\n",
    "Coverage(datastorepath=\"./datastore\").table_"
   ]
  },
  {
   "cell_type": "code",
   "execution_count": null,
   "metadata": {},
   "outputs": [],
   "source": [
    "from techminer.analysis.worldmap import WorldMap\n",
    "\n",
    "WorldMap(datastorepath=\"./datastore\").plot(figsize=(9, 5), colormap='Blues')"
   ]
  },
  {
   "cell_type": "code",
   "execution_count": null,
   "metadata": {},
   "outputs": [],
   "source": []
  },
  {
   "cell_type": "code",
   "execution_count": null,
   "metadata": {},
   "outputs": [],
   "source": []
  },
  {
   "cell_type": "code",
   "execution_count": null,
   "metadata": {},
   "outputs": [],
   "source": [
    "import pandas as pd\n",
    "\n",
    "pd.read_csv(\"../data/processed/debug/records.csv\").author_keywords_thesaurus"
   ]
  },
  {
   "cell_type": "code",
   "execution_count": null,
   "metadata": {},
   "outputs": [],
   "source": []
  },
  {
   "cell_type": "code",
   "execution_count": null,
   "metadata": {},
   "outputs": [],
   "source": []
  }
 ],
 "metadata": {
  "interpreter": {
   "hash": "949777d72b0d2535278d3dc13498b2535136f6dfe0678499012e853ee9abcab1"
  },
  "kernelspec": {
   "display_name": "Python 3.7.12 64-bit",
   "name": "python3"
  },
  "language_info": {
   "codemirror_mode": {
    "name": "ipython",
    "version": 3
   },
   "file_extension": ".py",
   "mimetype": "text/x-python",
   "name": "python",
   "nbconvert_exporter": "python",
   "pygments_lexer": "ipython3",
   "version": "3.7.12"
  }
 },
 "nbformat": 4,
 "nbformat_minor": 4
}
