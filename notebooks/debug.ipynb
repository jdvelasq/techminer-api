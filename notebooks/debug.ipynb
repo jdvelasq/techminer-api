{
 "cells": [
  {
   "cell_type": "code",
   "execution_count": null,
   "metadata": {},
   "outputs": [],
   "source": [
    "import os\n",
    "import sys\n",
    "\n",
    "currentdir = os.getcwd()\n",
    "parentdir = os.path.dirname(currentdir)\n",
    "sys.path.append(parentdir)\n",
    "\n",
    "#\n",
    "# data\n",
    "#\n",
    "from techminer import *\n",
    "\n",
    "\n",
    "# Records(directory=\"../data/processed/debug\").import_records(source=\"../data/tmp/debug-scopus.csv\", filetype=\"scopus\")\n",
    "# Records(directory=\"../data/processed/debug\").process_records()\n",
    "# Records(directory=\"../data/processed/debug\").coverage()\n",
    "# Records(directory=\"../data/processed/debug\").describe()\n",
    "# Records(directory=\"../data/processed/debug\").core_sources()\n",
    "# Records(directory=\"../data/processed/debug\").core_authors()\n",
    "\n",
    "# wos_df = load_file(filepath=\"techminer/tests/data/savedrecs.txt\", filetype=\"wos\", datastorepath=\"./datastore\")\n",
    "# dim_df = load_file(filepath=\"techminer/tests/data/dimensions.csv\", filetype=\"dimensions\", datastorepath=\"./datastore\")"
   ]
  },
  {
   "cell_type": "code",
   "execution_count": 2,
   "metadata": {},
   "outputs": [
    {
     "data": {
      "text/html": [
       "<div>\n",
       "<style scoped>\n",
       "    .dataframe tbody tr th:only-of-type {\n",
       "        vertical-align: middle;\n",
       "    }\n",
       "\n",
       "    .dataframe tbody tr th {\n",
       "        vertical-align: top;\n",
       "    }\n",
       "\n",
       "    .dataframe thead th {\n",
       "        text-align: right;\n",
       "    }\n",
       "</style>\n",
       "<table border=\"1\" class=\"dataframe\">\n",
       "  <thead>\n",
       "    <tr style=\"text-align: right;\">\n",
       "      <th></th>\n",
       "      <th>num_documents</th>\n",
       "      <th>global_citations</th>\n",
       "      <th>local_citations</th>\n",
       "      <th>mean_global_citations</th>\n",
       "      <th>mean_local_citations</th>\n",
       "    </tr>\n",
       "    <tr>\n",
       "      <th>pub_year</th>\n",
       "      <th></th>\n",
       "      <th></th>\n",
       "      <th></th>\n",
       "      <th></th>\n",
       "      <th></th>\n",
       "    </tr>\n",
       "  </thead>\n",
       "  <tbody>\n",
       "    <tr>\n",
       "      <th>2015</th>\n",
       "      <td>28</td>\n",
       "      <td>5136</td>\n",
       "      <td>0</td>\n",
       "      <td>183.43</td>\n",
       "      <td>0.0</td>\n",
       "    </tr>\n",
       "    <tr>\n",
       "      <th>2016</th>\n",
       "      <td>24</td>\n",
       "      <td>274</td>\n",
       "      <td>0</td>\n",
       "      <td>11.42</td>\n",
       "      <td>0.0</td>\n",
       "    </tr>\n",
       "    <tr>\n",
       "      <th>2017</th>\n",
       "      <td>46</td>\n",
       "      <td>368</td>\n",
       "      <td>0</td>\n",
       "      <td>8.00</td>\n",
       "      <td>0.0</td>\n",
       "    </tr>\n",
       "    <tr>\n",
       "      <th>2018</th>\n",
       "      <td>77</td>\n",
       "      <td>409</td>\n",
       "      <td>0</td>\n",
       "      <td>5.31</td>\n",
       "      <td>0.0</td>\n",
       "    </tr>\n",
       "    <tr>\n",
       "      <th>2019</th>\n",
       "      <td>112</td>\n",
       "      <td>319</td>\n",
       "      <td>0</td>\n",
       "      <td>2.85</td>\n",
       "      <td>0.0</td>\n",
       "    </tr>\n",
       "    <tr>\n",
       "      <th>2020</th>\n",
       "      <td>162</td>\n",
       "      <td>124</td>\n",
       "      <td>0</td>\n",
       "      <td>0.77</td>\n",
       "      <td>0.0</td>\n",
       "    </tr>\n",
       "    <tr>\n",
       "      <th>2021</th>\n",
       "      <td>23</td>\n",
       "      <td>0</td>\n",
       "      <td>0</td>\n",
       "      <td>0.00</td>\n",
       "      <td>0.0</td>\n",
       "    </tr>\n",
       "  </tbody>\n",
       "</table>\n",
       "</div>"
      ],
      "text/plain": [
       "          num_documents  global_citations  local_citations  \\\n",
       "pub_year                                                     \n",
       "2015                 28              5136                0   \n",
       "2016                 24               274                0   \n",
       "2017                 46               368                0   \n",
       "2018                 77               409                0   \n",
       "2019                112               319                0   \n",
       "2020                162               124                0   \n",
       "2021                 23                 0                0   \n",
       "\n",
       "          mean_global_citations  mean_local_citations  \n",
       "pub_year                                               \n",
       "2015                     183.43                   0.0  \n",
       "2016                      11.42                   0.0  \n",
       "2017                       8.00                   0.0  \n",
       "2018                       5.31                   0.0  \n",
       "2019                       2.85                   0.0  \n",
       "2020                       0.77                   0.0  \n",
       "2021                       0.00                   0.0  "
      ]
     },
     "execution_count": 2,
     "metadata": {},
     "output_type": "execute_result"
    }
   ],
   "source": [
    "#\n",
    "# query module\n",
    "#\n",
    "import os\n",
    "import sys\n",
    "\n",
    "currentdir = os.getcwd()\n",
    "parentdir = os.path.dirname(currentdir)\n",
    "sys.path.append(parentdir)\n",
    "\n",
    "from techminer.query import * \n",
    "\n",
    "\n",
    "# count_documents_by_term(directory_or_records=\"../data/processed/debug\", column='authors', sep='; ')\n",
    "# count_documents_by_year(directory_or_records=\"../data/processed/debug\")\n",
    "# count_global_citations_by_term(directory_or_records=\"../data/processed/debug\", column='authors', sep='; ')\n",
    "# count_global_citations_by_year(directory_or_records=\"../data/processed/debug\")\n",
    "# count_local_citations_by_term(directory_or_records=\"../data/processed/debug\", column='authors', sep='; ')\n",
    "# count_local_citations_by_year(directory_or_records=\"../data/processed/debug\")\n",
    "# count_terms_by_column(directory_or_records=\"../data/processed/debug\", sep=\"; \", column='authors')\n",
    "# mean_global_citations_by_year(directory_or_records=\"../data/processed/debug\")\n",
    "# mean_local_citations_by_year(directory_or_records=\"../data/processed/debug\")\n",
    "# term_analysis(directory_or_records=\"../data/processed/debug\", column='authors')\n",
    "# time_analysis(directory_or_records=\"../data/processed/debug\")\n",
    "\n",
    "# termino por año <----\n",
    "\n",
    "# most_cited_documents(directory_or_records=\"../data/processed/debug\")\n",
    "# compute_impact_index(directory_or_records=\"../data/processed/debug\", column='authors')\n",
    "\n",
    "\n",
    "\n",
    "\n",
    "# ---\n",
    "# worldmap(count_documents_by_term(directory_or_records=\"../data/processed/debug\", column='countries'))\n"
   ]
  },
  {
   "cell_type": "code",
   "execution_count": null,
   "metadata": {},
   "outputs": [],
   "source": [
    "import os\n",
    "import sys\n",
    "\n",
    "currentdir = os.getcwd()\n",
    "parentdir = os.path.dirname(currentdir)\n",
    "sys.path.append(parentdir)\n",
    "\n",
    "from techminer.data import *\n",
    "\n",
    "# coverage(directory_or_records=\"../data/processed/debug\")\n",
    "describe_records(directory_or_records=\"../data/processed/debug\")"
   ]
  },
  {
   "cell_type": "code",
   "execution_count": null,
   "metadata": {},
   "outputs": [],
   "source": [
    "import os\n",
    "import sys\n",
    "\n",
    "currentdir = os.getcwd()\n",
    "parentdir = os.path.dirname(currentdir)\n",
    "sys.path.append(parentdir)\n",
    "\n",
    "#\n",
    "# features\n",
    "#\n",
    "from techminer.features import *\n",
    "\n",
    "# extract_coutries(directory_or_records=\"../data/processed/debug\", column='affiliations')\n",
    "\n",
    "\n",
    "\n",
    "\n"
   ]
  },
  {
   "cell_type": "code",
   "execution_count": null,
   "metadata": {},
   "outputs": [],
   "source": [
    "#\n",
    "# query modules\n",
    "#\n",
    "import os\n",
    "import sys\n",
    "\n",
    "currentdir = os.getcwd()\n",
    "parentdir = os.path.dirname(currentdir)\n",
    "sys.path.append(parentdir)\n",
    "\n",
    "from techminer.query import * \n",
    "from techminer.visualization import worldmap\n",
    "\n",
    "\n",
    "\n",
    "# term_analysis(directory_or_records=\"../data/processed/debug\", column='authors')\n",
    "### count_terms_by_column(directory_or_records=\"../data/processed/debug\", sep=\"; \", column='authors')\n",
    "# time_analysis(directory_or_records=\"../data/processed/debug\")\n",
    "### count_local_citations_by_year(directory_or_records=\"../data/processed/debug\")\n",
    "### count_global_citations_by_year(directory_or_records=\"../data/processed/debug\")\n",
    "### count_documents_by_year(directory_or_records=\"../data/processed/debug\")\n",
    "### mean_global_citations_by_year(directory_or_records=\"../data/processed/debug\")\n",
    "# most_cited_documents(directory_or_records=\"../data/processed/debug\")\n",
    "# compute_impact_index(directory_or_records=\"../data/processed/debug\", column='authors')\n",
    "\n",
    "\n",
    "\n",
    "\n",
    "# ---\n",
    "# worldmap(count_documents_by_term(directory_or_records=\"../data/processed/debug\", column='countries'))\n",
    "\n"
   ]
  },
  {
   "cell_type": "code",
   "execution_count": null,
   "metadata": {},
   "outputs": [],
   "source": [
    "import os\n",
    "import sys\n",
    "\n",
    "currentdir = os.getcwd()\n",
    "parentdir = os.path.dirname(currentdir)\n",
    "sys.path.append(parentdir)\n",
    "\n",
    "from techminer import Records\n",
    "\n",
    "Records(directory=)\n",
    "\n",
    "# core_sources(directory_or_records=\"../data/processed/debug\")\n",
    "# core_authors(directory_or_records=\"../data/processed/debug\")\n",
    "# lotka(core_authors(directory_or_records=\"../data/processed/debug\"), colormap='Blues', figsize=(6,3))\n"
   ]
  },
  {
   "cell_type": "code",
   "execution_count": null,
   "metadata": {},
   "outputs": [],
   "source": [
    "import os\n",
    "import sys\n",
    "\n",
    "currentdir = os.getcwd()\n",
    "parentdir = os.path.dirname(currentdir)\n",
    "sys.path.append(parentdir)\n",
    "\n",
    "\n",
    "from techminer.visualization import bradford\n",
    "\n",
    "bradford(directory_or_records=\"../data/processed/debug\")"
   ]
  },
  {
   "cell_type": "code",
   "execution_count": null,
   "metadata": {},
   "outputs": [],
   "source": [
    "import pandas as pd\n",
    "\n",
    "from techminer.data.records import load_records\n",
    "\n",
    "# sorted(load_records(directory=\"../data/processed/debug\").columns)\n",
    "load_records(directory=\"../data/processed/debug\")"
   ]
  },
  {
   "cell_type": "code",
   "execution_count": null,
   "metadata": {},
   "outputs": [],
   "source": []
  },
  {
   "cell_type": "code",
   "execution_count": null,
   "metadata": {},
   "outputs": [],
   "source": []
  },
  {
   "cell_type": "code",
   "execution_count": null,
   "metadata": {},
   "outputs": [],
   "source": [
    "from src.features.apply_keywords_thesaurus import apply_keywords_thesaurus\n",
    "from src.features.apply_institutions_thesaurus import apply_institutions_thesaurus\n",
    "\n",
    "# Ok!\n",
    "apply_keywords_thesaurus(datastoredir=\"../data/processed/debug\")\n",
    "apply_institutions_thesaurus(datastoredir=\"../data/processed/debug\")"
   ]
  },
  {
   "cell_type": "code",
   "execution_count": null,
   "metadata": {},
   "outputs": [],
   "source": [
    "import os\n",
    "import sys\n",
    "\n",
    "currentdir = os.getcwd()\n",
    "parentdir = os.path.dirname(currentdir)\n",
    "sys.path.append(parentdir)\n",
    "\n",
    "from techminer.analysis import Bradford\n",
    "\n",
    "bradford = Bradford(datastoredir=\"../data/processed/debug\")\n",
    "\n",
    "bradford.plot(max_items=8, cmap='Blues', figsize=(8, 5), fontsize=9)"
   ]
  },
  {
   "cell_type": "code",
   "execution_count": null,
   "metadata": {},
   "outputs": [],
   "source": [
    "bradford.sources_"
   ]
  },
  {
   "cell_type": "code",
   "execution_count": null,
   "metadata": {},
   "outputs": [],
   "source": [
    "import os\n",
    "import sys\n",
    "\n",
    "currentdir = os.getcwd()\n",
    "parentdir = os.path.dirname(currentdir)\n",
    "sys.path.append(parentdir)\n",
    "\n",
    "from src.analysis import TopDocuments\n",
    "\n",
    "TopDocuments(datastoredir=\"../data/processed/debug\").detailed_"
   ]
  },
  {
   "cell_type": "code",
   "execution_count": null,
   "metadata": {},
   "outputs": [],
   "source": [
    "from techminer.analysis.top_documents import TopDocuments\n",
    "\n",
    "TopDocuments(datastorepath=\"./datastore\").print()"
   ]
  },
  {
   "cell_type": "code",
   "execution_count": null,
   "metadata": {},
   "outputs": [],
   "source": [
    "from techminer.analysis.core_authors import CoreAuthors\n",
    "\n",
    "CoreAuthors(datastorepath=\"./datastore\").table_"
   ]
  },
  {
   "cell_type": "code",
   "execution_count": null,
   "metadata": {},
   "outputs": [],
   "source": [
    "from techminer.analysis.core_authors import CoreAuthors\n",
    "\n",
    "CoreAuthors(datastorepath=\"./datastore\").plot(figsize=(8, 4))"
   ]
  },
  {
   "cell_type": "code",
   "execution_count": null,
   "metadata": {},
   "outputs": [],
   "source": [
    "from techminer.analysis.core_sources import CoreSources\n",
    "\n",
    "CoreSources(datastorepath=\"./datastore\").table_"
   ]
  },
  {
   "cell_type": "code",
   "execution_count": null,
   "metadata": {},
   "outputs": [],
   "source": [
    "from techminer.analysis.coverage import Coverage\n",
    "\n",
    "Coverage(datastorepath=\"./datastore\").table_"
   ]
  },
  {
   "cell_type": "code",
   "execution_count": null,
   "metadata": {},
   "outputs": [],
   "source": [
    "from techminer.analysis.worldmap import WorldMap\n",
    "\n",
    "WorldMap(datastorepath=\"./datastore\").plot(figsize=(9, 5), colormap='Blues')"
   ]
  },
  {
   "cell_type": "code",
   "execution_count": null,
   "metadata": {},
   "outputs": [],
   "source": []
  },
  {
   "cell_type": "code",
   "execution_count": null,
   "metadata": {},
   "outputs": [],
   "source": []
  },
  {
   "cell_type": "code",
   "execution_count": null,
   "metadata": {},
   "outputs": [],
   "source": [
    "import pandas as pd\n",
    "\n",
    "pd.read_csv(\"../data/processed/debug/records.csv\").head()"
   ]
  },
  {
   "cell_type": "code",
   "execution_count": null,
   "metadata": {},
   "outputs": [],
   "source": []
  },
  {
   "cell_type": "code",
   "execution_count": null,
   "metadata": {},
   "outputs": [],
   "source": []
  }
 ],
 "metadata": {
  "interpreter": {
   "hash": "949777d72b0d2535278d3dc13498b2535136f6dfe0678499012e853ee9abcab1"
  },
  "kernelspec": {
   "display_name": "Python 3.7.12 64-bit",
   "name": "python3"
  },
  "language_info": {
   "codemirror_mode": {
    "name": "ipython",
    "version": 3
   },
   "file_extension": ".py",
   "mimetype": "text/x-python",
   "name": "python",
   "nbconvert_exporter": "python",
   "pygments_lexer": "ipython3",
   "version": "3.7.12"
  }
 },
 "nbformat": 4,
 "nbformat_minor": 4
}
