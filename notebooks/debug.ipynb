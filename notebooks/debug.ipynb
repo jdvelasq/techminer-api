{
 "cells": [
  {
   "cell_type": "code",
   "execution_count": null,
   "metadata": {},
   "outputs": [],
   "source": [
    "import os\n",
    "import sys\n",
    "\n",
    "currentdir = os.getcwd()\n",
    "parentdir = os.path.dirname(currentdir)\n",
    "sys.path.append(parentdir)\n",
    "\n",
    "#\n",
    "# data\n",
    "#\n",
    "from techminer import *\n",
    "\n",
    "\n",
    "# Records(directory=\"../data/processed/debug\").import_records(source=\"../data/tmp/debug-scopus.csv\", filetype=\"scopus\")\n",
    "# Records(directory=\"../data/processed/debug\").process_records()\n",
    "# Records(directory=\"../data/processed/debug\").coverage()\n",
    "# Records(directory=\"../data/processed/debug\").describe()\n",
    "# Records(directory=\"../data/processed/debug\").core_sources()\n",
    "# Records(directory=\"../data/processed/debug\").core_authors()\n",
    "\n",
    "# wos_df = load_file(filepath=\"techminer/tests/data/savedrecs.txt\", filetype=\"wos\", datastorepath=\"./datastore\")\n",
    "# dim_df = load_file(filepath=\"techminer/tests/data/dimensions.csv\", filetype=\"dimensions\", datastorepath=\"./datastore\")"
   ]
  },
  {
   "cell_type": "code",
   "execution_count": 1,
   "metadata": {},
   "outputs": [
    {
     "ename": "KeyError",
     "evalue": "'autor_keywords'",
     "output_type": "error",
     "traceback": [
      "\u001b[0;31m---------------------------------------------------------------------------\u001b[0m",
      "\u001b[0;31mKeyError\u001b[0m                                  Traceback (most recent call last)",
      "\u001b[0;32m/usr/local/lib/python3.7/site-packages/pandas/core/indexes/base.py\u001b[0m in \u001b[0;36mget_loc\u001b[0;34m(self, key, method, tolerance)\u001b[0m\n\u001b[1;32m   2897\u001b[0m             \u001b[0;32mtry\u001b[0m\u001b[0;34m:\u001b[0m\u001b[0;34m\u001b[0m\u001b[0;34m\u001b[0m\u001b[0m\n\u001b[0;32m-> 2898\u001b[0;31m                 \u001b[0;32mreturn\u001b[0m \u001b[0mself\u001b[0m\u001b[0;34m.\u001b[0m\u001b[0m_engine\u001b[0m\u001b[0;34m.\u001b[0m\u001b[0mget_loc\u001b[0m\u001b[0;34m(\u001b[0m\u001b[0mcasted_key\u001b[0m\u001b[0;34m)\u001b[0m\u001b[0;34m\u001b[0m\u001b[0;34m\u001b[0m\u001b[0m\n\u001b[0m\u001b[1;32m   2899\u001b[0m             \u001b[0;32mexcept\u001b[0m \u001b[0mKeyError\u001b[0m \u001b[0;32mas\u001b[0m \u001b[0merr\u001b[0m\u001b[0;34m:\u001b[0m\u001b[0;34m\u001b[0m\u001b[0;34m\u001b[0m\u001b[0m\n",
      "\u001b[0;32mpandas/_libs/index.pyx\u001b[0m in \u001b[0;36mpandas._libs.index.IndexEngine.get_loc\u001b[0;34m()\u001b[0m\n",
      "\u001b[0;32mpandas/_libs/index.pyx\u001b[0m in \u001b[0;36mpandas._libs.index.IndexEngine.get_loc\u001b[0;34m()\u001b[0m\n",
      "\u001b[0;32mpandas/_libs/hashtable_class_helper.pxi\u001b[0m in \u001b[0;36mpandas._libs.hashtable.PyObjectHashTable.get_item\u001b[0;34m()\u001b[0m\n",
      "\u001b[0;32mpandas/_libs/hashtable_class_helper.pxi\u001b[0m in \u001b[0;36mpandas._libs.hashtable.PyObjectHashTable.get_item\u001b[0;34m()\u001b[0m\n",
      "\u001b[0;31mKeyError\u001b[0m: 'autor_keywords'",
      "\nThe above exception was the direct cause of the following exception:\n",
      "\u001b[0;31mKeyError\u001b[0m                                  Traceback (most recent call last)",
      "\u001b[0;32m<ipython-input-1-23d7d18fb437>\u001b[0m in \u001b[0;36m<module>\u001b[0;34m\u001b[0m\n\u001b[1;32m     17\u001b[0m \u001b[0;31m# lotka_plot(directory_or_records=\"../data/processed/debug\")\u001b[0m\u001b[0;34m\u001b[0m\u001b[0;34m\u001b[0m\u001b[0;34m\u001b[0m\u001b[0m\n\u001b[1;32m     18\u001b[0m \u001b[0;34m\u001b[0m\u001b[0m\n\u001b[0;32m---> 19\u001b[0;31m \u001b[0mapply_thesaurus\u001b[0m\u001b[0;34m(\u001b[0m\u001b[0mdirectory_or_records\u001b[0m\u001b[0;34m=\u001b[0m\u001b[0;34m\"../data/processed/debug\"\u001b[0m\u001b[0;34m,\u001b[0m \u001b[0mthesaurus_filepath\u001b[0m\u001b[0;34m=\u001b[0m\u001b[0;34m\"../data/processed/debug/keywords.txt\"\u001b[0m\u001b[0;34m,\u001b[0m \u001b[0minput_column\u001b[0m\u001b[0;34m=\u001b[0m\u001b[0;34m\"autor_keywords\"\u001b[0m\u001b[0;34m,\u001b[0m \u001b[0moutput_column\u001b[0m\u001b[0;34m=\u001b[0m\u001b[0;34m\"autor_keywords_thesaurus\"\u001b[0m\u001b[0;34m)\u001b[0m\u001b[0;34m\u001b[0m\u001b[0;34m\u001b[0m\u001b[0m\n\u001b[0m",
      "\u001b[0;32m/workspaces/techminer-sklearn/techminer/apply_thesaurus.py\u001b[0m in \u001b[0;36mapply_thesaurus\u001b[0;34m(directory_or_records, thesaurus_filepath, input_column, output_column, strict)\u001b[0m\n\u001b[1;32m     69\u001b[0m             \u001b[0minput_column\u001b[0m\u001b[0;34m=\u001b[0m\u001b[0minput_column\u001b[0m\u001b[0;34m,\u001b[0m\u001b[0;34m\u001b[0m\u001b[0;34m\u001b[0m\u001b[0m\n\u001b[1;32m     70\u001b[0m             \u001b[0moutput_column\u001b[0m\u001b[0;34m=\u001b[0m\u001b[0moutput_column\u001b[0m\u001b[0;34m,\u001b[0m\u001b[0;34m\u001b[0m\u001b[0;34m\u001b[0m\u001b[0m\n\u001b[0;32m---> 71\u001b[0;31m             \u001b[0mstrict\u001b[0m\u001b[0;34m=\u001b[0m\u001b[0mstrict\u001b[0m\u001b[0;34m,\u001b[0m\u001b[0;34m\u001b[0m\u001b[0;34m\u001b[0m\u001b[0m\n\u001b[0m\u001b[1;32m     72\u001b[0m         )\n\u001b[1;32m     73\u001b[0m         \u001b[0msave_records\u001b[0m\u001b[0;34m(\u001b[0m\u001b[0mrecords\u001b[0m\u001b[0;34m,\u001b[0m \u001b[0mdirectory_or_records\u001b[0m\u001b[0;34m)\u001b[0m\u001b[0;34m\u001b[0m\u001b[0;34m\u001b[0m\u001b[0m\n",
      "\u001b[0;32m/workspaces/techminer-sklearn/techminer/apply_thesaurus.py\u001b[0m in \u001b[0;36m_apply_thesaurus_from_directory\u001b[0;34m(directory, thesaurus_filepath, input_column, output_column, strict)\u001b[0m\n\u001b[1;32m     46\u001b[0m         \u001b[0minput_column\u001b[0m\u001b[0;34m=\u001b[0m\u001b[0minput_column\u001b[0m\u001b[0;34m,\u001b[0m\u001b[0;34m\u001b[0m\u001b[0;34m\u001b[0m\u001b[0m\n\u001b[1;32m     47\u001b[0m         \u001b[0moutput_column\u001b[0m\u001b[0;34m=\u001b[0m\u001b[0moutput_column\u001b[0m\u001b[0;34m,\u001b[0m\u001b[0;34m\u001b[0m\u001b[0;34m\u001b[0m\u001b[0m\n\u001b[0;32m---> 48\u001b[0;31m         \u001b[0mstrict\u001b[0m\u001b[0;34m=\u001b[0m\u001b[0mstrict\u001b[0m\u001b[0;34m,\u001b[0m\u001b[0;34m\u001b[0m\u001b[0;34m\u001b[0m\u001b[0m\n\u001b[0m\u001b[1;32m     49\u001b[0m     )\n\u001b[1;32m     50\u001b[0m \u001b[0;34m\u001b[0m\u001b[0m\n",
      "\u001b[0;32m/workspaces/techminer-sklearn/techminer/apply_thesaurus.py\u001b[0m in \u001b[0;36m_apply_thesaurus_from_records\u001b[0;34m(records, thesaurus_filepath, input_column, output_column, strict)\u001b[0m\n\u001b[1;32m     27\u001b[0m \u001b[0;34m\u001b[0m\u001b[0m\n\u001b[1;32m     28\u001b[0m     \u001b[0;32mif\u001b[0m \u001b[0mstrict\u001b[0m\u001b[0;34m:\u001b[0m\u001b[0;34m\u001b[0m\u001b[0;34m\u001b[0m\u001b[0m\n\u001b[0;32m---> 29\u001b[0;31m         \u001b[0mrecords\u001b[0m\u001b[0;34m[\u001b[0m\u001b[0moutput_column\u001b[0m\u001b[0;34m]\u001b[0m \u001b[0;34m=\u001b[0m \u001b[0mmap_\u001b[0m\u001b[0;34m(\u001b[0m\u001b[0mrecords\u001b[0m\u001b[0;34m,\u001b[0m \u001b[0minput_column\u001b[0m\u001b[0;34m,\u001b[0m \u001b[0mapply_strict\u001b[0m\u001b[0;34m)\u001b[0m\u001b[0;34m\u001b[0m\u001b[0;34m\u001b[0m\u001b[0m\n\u001b[0m\u001b[1;32m     30\u001b[0m     \u001b[0;32melse\u001b[0m\u001b[0;34m:\u001b[0m\u001b[0;34m\u001b[0m\u001b[0;34m\u001b[0m\u001b[0m\n\u001b[1;32m     31\u001b[0m         \u001b[0mrecords\u001b[0m\u001b[0;34m[\u001b[0m\u001b[0moutput_column\u001b[0m\u001b[0;34m]\u001b[0m \u001b[0;34m=\u001b[0m \u001b[0mmap_\u001b[0m\u001b[0;34m(\u001b[0m\u001b[0mrecords\u001b[0m\u001b[0;34m,\u001b[0m \u001b[0minput_column\u001b[0m\u001b[0;34m,\u001b[0m \u001b[0mapply_unstrict\u001b[0m\u001b[0;34m)\u001b[0m\u001b[0;34m\u001b[0m\u001b[0;34m\u001b[0m\u001b[0m\n",
      "\u001b[0;32m/workspaces/techminer-sklearn/techminer/utils/map.py\u001b[0m in \u001b[0;36mmap_\u001b[0;34m(x, column, f)\u001b[0m\n\u001b[1;32m      8\u001b[0m     \u001b[0mx\u001b[0m \u001b[0;34m=\u001b[0m \u001b[0mx\u001b[0m\u001b[0;34m.\u001b[0m\u001b[0mcopy\u001b[0m\u001b[0;34m(\u001b[0m\u001b[0;34m)\u001b[0m\u001b[0;34m\u001b[0m\u001b[0;34m\u001b[0m\u001b[0m\n\u001b[1;32m      9\u001b[0m     if (\n\u001b[0;32m---> 10\u001b[0;31m         \u001b[0mx\u001b[0m\u001b[0;34m[\u001b[0m\u001b[0mcolumn\u001b[0m\u001b[0;34m]\u001b[0m\u001b[0;34m.\u001b[0m\u001b[0mdtype\u001b[0m \u001b[0;34m!=\u001b[0m \u001b[0;34m\"int64\"\u001b[0m\u001b[0;34m\u001b[0m\u001b[0;34m\u001b[0m\u001b[0m\n\u001b[0m\u001b[1;32m     11\u001b[0m         \u001b[0;32mand\u001b[0m \u001b[0mcolumn\u001b[0m \u001b[0;34m!=\u001b[0m \u001b[0;34m\"abstract\"\u001b[0m\u001b[0;34m\u001b[0m\u001b[0;34m\u001b[0m\u001b[0m\n\u001b[1;32m     12\u001b[0m         \u001b[0;32mand\u001b[0m \u001b[0mcolumn\u001b[0m \u001b[0;34m!=\u001b[0m \u001b[0;34m\"document_title\"\u001b[0m\u001b[0;34m\u001b[0m\u001b[0;34m\u001b[0m\u001b[0m\n",
      "\u001b[0;32m/usr/local/lib/python3.7/site-packages/pandas/core/frame.py\u001b[0m in \u001b[0;36m__getitem__\u001b[0;34m(self, key)\u001b[0m\n\u001b[1;32m   2904\u001b[0m             \u001b[0;32mif\u001b[0m \u001b[0mself\u001b[0m\u001b[0;34m.\u001b[0m\u001b[0mcolumns\u001b[0m\u001b[0;34m.\u001b[0m\u001b[0mnlevels\u001b[0m \u001b[0;34m>\u001b[0m \u001b[0;36m1\u001b[0m\u001b[0;34m:\u001b[0m\u001b[0;34m\u001b[0m\u001b[0;34m\u001b[0m\u001b[0m\n\u001b[1;32m   2905\u001b[0m                 \u001b[0;32mreturn\u001b[0m \u001b[0mself\u001b[0m\u001b[0;34m.\u001b[0m\u001b[0m_getitem_multilevel\u001b[0m\u001b[0;34m(\u001b[0m\u001b[0mkey\u001b[0m\u001b[0;34m)\u001b[0m\u001b[0;34m\u001b[0m\u001b[0;34m\u001b[0m\u001b[0m\n\u001b[0;32m-> 2906\u001b[0;31m             \u001b[0mindexer\u001b[0m \u001b[0;34m=\u001b[0m \u001b[0mself\u001b[0m\u001b[0;34m.\u001b[0m\u001b[0mcolumns\u001b[0m\u001b[0;34m.\u001b[0m\u001b[0mget_loc\u001b[0m\u001b[0;34m(\u001b[0m\u001b[0mkey\u001b[0m\u001b[0;34m)\u001b[0m\u001b[0;34m\u001b[0m\u001b[0;34m\u001b[0m\u001b[0m\n\u001b[0m\u001b[1;32m   2907\u001b[0m             \u001b[0;32mif\u001b[0m \u001b[0mis_integer\u001b[0m\u001b[0;34m(\u001b[0m\u001b[0mindexer\u001b[0m\u001b[0;34m)\u001b[0m\u001b[0;34m:\u001b[0m\u001b[0;34m\u001b[0m\u001b[0;34m\u001b[0m\u001b[0m\n\u001b[1;32m   2908\u001b[0m                 \u001b[0mindexer\u001b[0m \u001b[0;34m=\u001b[0m \u001b[0;34m[\u001b[0m\u001b[0mindexer\u001b[0m\u001b[0;34m]\u001b[0m\u001b[0;34m\u001b[0m\u001b[0;34m\u001b[0m\u001b[0m\n",
      "\u001b[0;32m/usr/local/lib/python3.7/site-packages/pandas/core/indexes/base.py\u001b[0m in \u001b[0;36mget_loc\u001b[0;34m(self, key, method, tolerance)\u001b[0m\n\u001b[1;32m   2898\u001b[0m                 \u001b[0;32mreturn\u001b[0m \u001b[0mself\u001b[0m\u001b[0;34m.\u001b[0m\u001b[0m_engine\u001b[0m\u001b[0;34m.\u001b[0m\u001b[0mget_loc\u001b[0m\u001b[0;34m(\u001b[0m\u001b[0mcasted_key\u001b[0m\u001b[0;34m)\u001b[0m\u001b[0;34m\u001b[0m\u001b[0;34m\u001b[0m\u001b[0m\n\u001b[1;32m   2899\u001b[0m             \u001b[0;32mexcept\u001b[0m \u001b[0mKeyError\u001b[0m \u001b[0;32mas\u001b[0m \u001b[0merr\u001b[0m\u001b[0;34m:\u001b[0m\u001b[0;34m\u001b[0m\u001b[0;34m\u001b[0m\u001b[0m\n\u001b[0;32m-> 2900\u001b[0;31m                 \u001b[0;32mraise\u001b[0m \u001b[0mKeyError\u001b[0m\u001b[0;34m(\u001b[0m\u001b[0mkey\u001b[0m\u001b[0;34m)\u001b[0m \u001b[0;32mfrom\u001b[0m \u001b[0merr\u001b[0m\u001b[0;34m\u001b[0m\u001b[0;34m\u001b[0m\u001b[0m\n\u001b[0m\u001b[1;32m   2901\u001b[0m \u001b[0;34m\u001b[0m\u001b[0m\n\u001b[1;32m   2902\u001b[0m         \u001b[0;32mif\u001b[0m \u001b[0mtolerance\u001b[0m \u001b[0;32mis\u001b[0m \u001b[0;32mnot\u001b[0m \u001b[0;32mNone\u001b[0m\u001b[0;34m:\u001b[0m\u001b[0;34m\u001b[0m\u001b[0;34m\u001b[0m\u001b[0m\n",
      "\u001b[0;31mKeyError\u001b[0m: 'autor_keywords'"
     ]
    }
   ],
   "source": [
    "import os\n",
    "import sys\n",
    "\n",
    "currentdir = os.getcwd()\n",
    "parentdir = os.path.dirname(currentdir)\n",
    "sys.path.append(parentdir)\n",
    "\n",
    "from techminer import *\n",
    "\n",
    "# bradford_plot(directory_or_records=\"../data/processed/debug\")\n",
    "# core_authors(directory_or_records=\"../data/processed/debug\")\n",
    "# core_sources(directory_or_records=\"../data/processed/debug\")\n",
    "# coverage(directory_or_records=\"../data/processed/debug\")\n",
    "# most_cited_documents(directory_or_records=\"../data/processed/debug\")\n",
    "# summary(directory_or_records=\"../data/processed/debug\")\n",
    "# worldmap(count_documents_by_term(directory_or_records=\"../data/processed/debug\", column=\"countries\"))\n",
    "# lotka_plot(directory_or_records=\"../data/processed/debug\")\n",
    "\n",
    "apply_thesaurus(directory_or_records=\"../data/processed/debug\", thesaurus_filepath=\"../data/processed/debug/keywords.txt\", input_column=\"author_keywords\", output_column=\"author_keywords_thesaurus\")"
   ]
  },
  {
   "cell_type": "code",
   "execution_count": null,
   "metadata": {},
   "outputs": [],
   "source": [
    "count_documents_by_term(directory_or_records=\"../data/processed/debug\", column=\"country\")"
   ]
  },
  {
   "cell_type": "code",
   "execution_count": null,
   "metadata": {},
   "outputs": [],
   "source": []
  },
  {
   "cell_type": "code",
   "execution_count": null,
   "metadata": {},
   "outputs": [],
   "source": []
  },
  {
   "cell_type": "code",
   "execution_count": null,
   "metadata": {},
   "outputs": [],
   "source": []
  },
  {
   "cell_type": "code",
   "execution_count": null,
   "metadata": {},
   "outputs": [],
   "source": [
    "#\n",
    "# query module\n",
    "#\n",
    "import os\n",
    "import sys\n",
    "\n",
    "currentdir = os.getcwd()\n",
    "parentdir = os.path.dirname(currentdir)\n",
    "sys.path.append(parentdir)\n",
    "\n",
    "from techminer.query import * \n",
    "\n",
    "\n",
    "# count_documents_by_term(directory_or_records=\"../data/processed/debug\", column='authors', sep='; ')\n",
    "# count_documents_by_year(directory_or_records=\"../data/processed/debug\")\n",
    "# count_global_citations_by_term(directory_or_records=\"../data/processed/debug\", column='authors', sep='; ')\n",
    "# count_global_citations_by_year(directory_or_records=\"../data/processed/debug\")\n",
    "# count_local_citations_by_term(directory_or_records=\"../data/processed/debug\", column='authors', sep='; ')\n",
    "# count_local_citations_by_year(directory_or_records=\"../data/processed/debug\")\n",
    "# count_terms_by_column(directory_or_records=\"../data/processed/debug\", sep=\"; \", column='authors')\n",
    "# mean_global_citations_by_year(directory_or_records=\"../data/processed/debug\")\n",
    "# mean_local_citations_by_year(directory_or_records=\"../data/processed/debug\")\n",
    "# term_analysis(directory_or_records=\"../data/processed/debug\", column='authors')\n",
    "# time_analysis(directory_or_records=\"../data/processed/debug\")\n",
    "\n",
    "# termino por año <----\n",
    "\n",
    "# most_cited_documents(directory_or_records=\"../data/processed/debug\")\n",
    "# compute_impact_index(directory_or_records=\"../data/processed/debug\", column='authors')\n",
    "\n",
    "\n",
    "\n",
    "\n",
    "# ---\n",
    "# worldmap(count_documents_by_term(directory_or_records=\"../data/processed/debug\", column='countries'))\n"
   ]
  },
  {
   "cell_type": "code",
   "execution_count": null,
   "metadata": {},
   "outputs": [],
   "source": [
    "import os\n",
    "import sys\n",
    "\n",
    "currentdir = os.getcwd()\n",
    "parentdir = os.path.dirname(currentdir)\n",
    "sys.path.append(parentdir)\n",
    "\n",
    "from techminer.data import *\n",
    "\n",
    "# coverage(directory_or_records=\"../data/processed/debug\")\n",
    "describe_records(directory_or_records=\"../data/processed/debug\")"
   ]
  },
  {
   "cell_type": "code",
   "execution_count": null,
   "metadata": {},
   "outputs": [],
   "source": [
    "import os\n",
    "import sys\n",
    "\n",
    "currentdir = os.getcwd()\n",
    "parentdir = os.path.dirname(currentdir)\n",
    "sys.path.append(parentdir)\n",
    "\n",
    "#\n",
    "# features\n",
    "#\n",
    "from techminer.features import *\n",
    "\n",
    "# extract_coutries(directory_or_records=\"../data/processed/debug\", column='affiliations')\n",
    "\n",
    "\n",
    "\n",
    "\n"
   ]
  },
  {
   "cell_type": "code",
   "execution_count": null,
   "metadata": {},
   "outputs": [],
   "source": [
    "#\n",
    "# query modules\n",
    "#\n",
    "import os\n",
    "import sys\n",
    "\n",
    "currentdir = os.getcwd()\n",
    "parentdir = os.path.dirname(currentdir)\n",
    "sys.path.append(parentdir)\n",
    "\n",
    "from techminer.query import * \n",
    "from techminer.visualization import worldmap\n",
    "\n",
    "\n",
    "\n",
    "# term_analysis(directory_or_records=\"../data/processed/debug\", column='authors')\n",
    "### count_terms_by_column(directory_or_records=\"../data/processed/debug\", sep=\"; \", column='authors')\n",
    "# time_analysis(directory_or_records=\"../data/processed/debug\")\n",
    "### count_local_citations_by_year(directory_or_records=\"../data/processed/debug\")\n",
    "### count_global_citations_by_year(directory_or_records=\"../data/processed/debug\")\n",
    "### count_documents_by_year(directory_or_records=\"../data/processed/debug\")\n",
    "### mean_global_citations_by_year(directory_or_records=\"../data/processed/debug\")\n",
    "# most_cited_documents(directory_or_records=\"../data/processed/debug\")\n",
    "# compute_impact_index(directory_or_records=\"../data/processed/debug\", column='authors')\n",
    "\n",
    "\n",
    "\n",
    "\n",
    "# ---\n",
    "# worldmap(count_documents_by_term(directory_or_records=\"../data/processed/debug\", column='countries'))\n",
    "\n"
   ]
  },
  {
   "cell_type": "code",
   "execution_count": null,
   "metadata": {},
   "outputs": [],
   "source": [
    "import os\n",
    "import sys\n",
    "\n",
    "currentdir = os.getcwd()\n",
    "parentdir = os.path.dirname(currentdir)\n",
    "sys.path.append(parentdir)\n",
    "\n",
    "from techminer import Records\n",
    "\n",
    "Records(directory)\n",
    "\n",
    "# core_sources(directory_or_records=\"../data/processed/debug\")\n",
    "# core_authors(directory_or_records=\"../data/processed/debug\")\n",
    "# lotka(core_authors(directory_or_records=\"../data/processed/debug\"), colormap='Blues', figsize=(6,3))\n"
   ]
  },
  {
   "cell_type": "code",
   "execution_count": null,
   "metadata": {},
   "outputs": [],
   "source": [
    "import os\n",
    "import sys\n",
    "\n",
    "currentdir = os.getcwd()\n",
    "parentdir = os.path.dirname(currentdir)\n",
    "sys.path.append(parentdir)\n",
    "\n",
    "\n",
    "from techminer.visualization import bradford\n",
    "\n",
    "bradford(directory_or_records=\"../data/processed/debug\")"
   ]
  },
  {
   "cell_type": "code",
   "execution_count": null,
   "metadata": {},
   "outputs": [],
   "source": [
    "import pandas as pd\n",
    "\n",
    "from techminer.data.records import load_records\n",
    "\n",
    "# sorted(load_records(directory=\"../data/processed/debug\").columns)\n",
    "load_records(directory=\"../data/processed/debug\")"
   ]
  },
  {
   "cell_type": "code",
   "execution_count": null,
   "metadata": {},
   "outputs": [],
   "source": []
  },
  {
   "cell_type": "code",
   "execution_count": null,
   "metadata": {},
   "outputs": [],
   "source": []
  },
  {
   "cell_type": "code",
   "execution_count": null,
   "metadata": {},
   "outputs": [],
   "source": [
    "from src.features.apply_keywords_thesaurus import apply_keywords_thesaurus\n",
    "from src.features.apply_institutions_thesaurus import apply_institutions_thesaurus\n",
    "\n",
    "# Ok!\n",
    "apply_keywords_thesaurus(datastoredir=\"../data/processed/debug\")\n",
    "apply_institutions_thesaurus(datastoredir=\"../data/processed/debug\")"
   ]
  },
  {
   "cell_type": "code",
   "execution_count": null,
   "metadata": {},
   "outputs": [],
   "source": [
    "import os\n",
    "import sys\n",
    "\n",
    "currentdir = os.getcwd()\n",
    "parentdir = os.path.dirname(currentdir)\n",
    "sys.path.append(parentdir)\n",
    "\n",
    "from techminer.analysis import Bradford\n",
    "\n",
    "bradford = Bradford(datastoredir=\"../data/processed/debug\")\n",
    "\n",
    "bradford.plot(max_items=8, cmap='Blues', figsize=(8, 5), fontsize=9)"
   ]
  },
  {
   "cell_type": "code",
   "execution_count": null,
   "metadata": {},
   "outputs": [],
   "source": [
    "bradford.sources_"
   ]
  },
  {
   "cell_type": "code",
   "execution_count": null,
   "metadata": {},
   "outputs": [],
   "source": [
    "import os\n",
    "import sys\n",
    "\n",
    "currentdir = os.getcwd()\n",
    "parentdir = os.path.dirname(currentdir)\n",
    "sys.path.append(parentdir)\n",
    "\n",
    "from src.analysis import TopDocuments\n",
    "\n",
    "TopDocuments(datastoredir=\"../data/processed/debug\").detailed_"
   ]
  },
  {
   "cell_type": "code",
   "execution_count": null,
   "metadata": {},
   "outputs": [],
   "source": [
    "from techminer.analysis.top_documents import TopDocuments\n",
    "\n",
    "TopDocuments(datastorepath=\"./datastore\").print()"
   ]
  },
  {
   "cell_type": "code",
   "execution_count": null,
   "metadata": {},
   "outputs": [],
   "source": [
    "from techminer.analysis.core_authors import CoreAuthors\n",
    "\n",
    "CoreAuthors(datastorepath=\"./datastore\").table_"
   ]
  },
  {
   "cell_type": "code",
   "execution_count": null,
   "metadata": {},
   "outputs": [],
   "source": [
    "from techminer.analysis.core_authors import CoreAuthors\n",
    "\n",
    "CoreAuthors(datastorepath=\"./datastore\").plot(figsize=(8, 4))"
   ]
  },
  {
   "cell_type": "code",
   "execution_count": null,
   "metadata": {},
   "outputs": [],
   "source": [
    "from techminer.analysis.core_sources import CoreSources\n",
    "\n",
    "CoreSources(datastorepath=\"./datastore\").table_"
   ]
  },
  {
   "cell_type": "code",
   "execution_count": null,
   "metadata": {},
   "outputs": [],
   "source": [
    "from techminer.analysis.coverage import Coverage\n",
    "\n",
    "Coverage(datastorepath=\"./datastore\").table_"
   ]
  },
  {
   "cell_type": "code",
   "execution_count": null,
   "metadata": {},
   "outputs": [],
   "source": [
    "from techminer.analysis.worldmap import WorldMap\n",
    "\n",
    "WorldMap(datastorepath=\"./datastore\").plot(figsize=(9, 5), colormap='Blues')"
   ]
  },
  {
   "cell_type": "code",
   "execution_count": null,
   "metadata": {},
   "outputs": [],
   "source": []
  },
  {
   "cell_type": "code",
   "execution_count": null,
   "metadata": {},
   "outputs": [],
   "source": []
  },
  {
   "cell_type": "code",
   "execution_count": null,
   "metadata": {},
   "outputs": [],
   "source": [
    "import pandas as pd\n",
    "\n",
    "pd.read_csv(\"../data/processed/debug/records.csv\").columns"
   ]
  },
  {
   "cell_type": "code",
   "execution_count": null,
   "metadata": {},
   "outputs": [],
   "source": []
  },
  {
   "cell_type": "code",
   "execution_count": null,
   "metadata": {},
   "outputs": [],
   "source": []
  }
 ],
 "metadata": {
  "interpreter": {
   "hash": "949777d72b0d2535278d3dc13498b2535136f6dfe0678499012e853ee9abcab1"
  },
  "kernelspec": {
   "display_name": "Python 3.7.12 64-bit",
   "name": "python3"
  },
  "language_info": {
   "codemirror_mode": {
    "name": "ipython",
    "version": 3
   },
   "file_extension": ".py",
   "mimetype": "text/x-python",
   "name": "python",
   "nbconvert_exporter": "python",
   "pygments_lexer": "ipython3",
   "version": "3.7.12"
  }
 },
 "nbformat": 4,
 "nbformat_minor": 4
}
