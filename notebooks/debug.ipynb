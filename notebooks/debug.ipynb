{
 "cells": [
  {
   "cell_type": "markdown",
   "metadata": {},
   "source": [
    "# Records DB File"
   ]
  },
  {
   "cell_type": "code",
   "execution_count": 1,
   "metadata": {},
   "outputs": [
    {
     "name": "stdout",
     "output_type": "stream",
     "text": [
      "2021-11-04 16:17:45 - INFO - Reading file '../data/tmp/debug-scopus.csv' ...\n",
      "2021-11-04 16:17:45 - INFO - Formatting dataset ...\n",
      "2021-11-04 16:17:54 - INFO - Formating authors ...\n",
      "2021-11-04 16:17:54 - INFO - Formating authors_id ...\n",
      "2021-11-04 16:17:54 - INFO - Formatting columns ...\n",
      "2021-11-04 16:17:54 - INFO - Computing new columns ...\n",
      "2021-11-04 16:17:55 - INFO - Dropping duplicates ...\n",
      "2021-11-04 16:17:56 - INFO - Records saved/merged to '../data/processed/debug/documents.csv'\n",
      "2021-11-04 16:17:56 - INFO - The file '../data/tmp/debug-scopus.csv' was successfully imported.\n"
     ]
    }
   ],
   "source": [
    "import os\n",
    "import sys\n",
    "\n",
    "currentdir = os.getcwd()\n",
    "parentdir = os.path.dirname(currentdir)\n",
    "sys.path.append(parentdir)\n",
    "\n",
    "from techminer import *\n",
    "\n",
    "directory = \"../data/processed/debug\"\n",
    "file_path = \"../data/tmp/debug-scopus.csv\"\n",
    "file_type='scopus'\n",
    "\n",
    "\n",
    "import_raw_data(file_path=\"../data/tmp/debug-scopus.csv\", file_type=\"scopus\", directory=directory)\n",
    "# process_records(records_path=\"../data/processed/debug\")"
   ]
  },
  {
   "cell_type": "markdown",
   "metadata": {},
   "source": [
    "# Data Cleaning"
   ]
  },
  {
   "cell_type": "code",
   "execution_count": null,
   "metadata": {},
   "outputs": [],
   "source": [
    "import os\n",
    "import sys\n",
    "\n",
    "currentdir = os.getcwd()\n",
    "parentdir = os.path.dirname(currentdir)\n",
    "sys.path.append(parentdir)\n",
    "\n",
    "from techminer import *\n",
    "\n",
    "# clean_institution_fields(dirpath=\"../data/processed/debug\")\n",
    "# clean_keywords_fields(dirpath=\"../data/processed/debug\")\n",
    "\n",
    "# apply_thesaurus(dirpath_or_records=\"../data/processed/debug\", thesaurus_filepath=\"../data/processed/debug/keywords.txt\", input_column=\"author_keywords\", output_column=\"author_keywords_thesaurus\")\n",
    "# create_thesaurus(dirpath_or_records=\"../data/processed/debug\", column=\"keywords\", thesaurus_filepath=\"../data/processed/debug/test_thesaurus.txt\")"
   ]
  },
  {
   "cell_type": "markdown",
   "metadata": {},
   "source": [
    "# Basic Analysis"
   ]
  },
  {
   "cell_type": "code",
   "execution_count": null,
   "metadata": {},
   "outputs": [],
   "source": [
    "import os\n",
    "import sys\n",
    "\n",
    "currentdir = os.getcwd()\n",
    "parentdir = os.path.dirname(currentdir)\n",
    "sys.path.append(parentdir)\n",
    "\n",
    "from techminer import *\n",
    "\n",
    "# bradford_plot(dirpath_or_records=\"../data/processed/debug\")\n",
    "# core_authors(dirpath_or_records=\"../data/processed/debug\")\n",
    "# core_sources(dirpath_or_records=\"../data/processed/debug\")\n",
    "# coverage(dirpath_or_records=\"../data/processed/debug\")\n",
    "# lotka_plot(dirpath_or_records=\"../data/processed/debug\")\n",
    "# summary(dirpath_or_records=\"../data/processed/debug\")\n",
    "# most_cited_documents(dirpath_or_records=\"../data/processed/debug\")\n",
    "# terms_table(dirpath_or_records=\"../data/processed/debug\", column='authors')\n",
    "# worldmap(dirpath_or_records=\"../data/processed/debug\", metric='num_records')\n",
    "# time_table(dirpath_or_records=\"../data/processed/debug\")\n",
    "\n",
    "# terms_per_year_table(dirpath_or_records=\"../data/processed/debug\", column='countries')\n",
    "\n",
    "# TermAnalyzer(dirpath_or_records=\"../data/processed/debug\", column='countries', top_by='num_records').table_\n",
    "# TimeAnalyzer(dirpath_or_records=\"../data/processed/debug\").barh(column='num_documents', cmap=\"Blues\")\n",
    "# worldmap(count_records_by_term(dirpath_or_records=\"../data/processed/debug\", column=\"countries\"))\n",
    "\n",
    "\n",
    "# BigraphAnalyzer(dirpath_or_records=\"../data/processed/debug\", column='countries', by='countries').table_"
   ]
  },
  {
   "cell_type": "code",
   "execution_count": null,
   "metadata": {},
   "outputs": [],
   "source": [
    "\n",
    "\n",
    "\n",
    "\n",
    "\n",
    "# apply_thesaurus(directory_or_records=\"../data/processed/debug\", thesaurus_filepath=\"../data/processed/debug/keywords.txt\", input_column=\"author_keywords\", output_column=\"author_keywords_thesaurus\")\n",
    "# association_index(co_occurrence_matrix(directory_or_records=\"../data/processed/debug\", column=\"author_keywords\"), association='jaccard')\n",
    "\n",
    "# co_occurrence_matrix(directory_or_records=\"../data/processed/debug\", column=\"author_keywords\", by='author_keywords')\n",
    "# co_occurrence_matrix(directory_or_records=\"../data/processed/debug\", column=\"author_keywords\", by='countries')\n",
    "\n",
    "\n",
    "\n",
    "# create_thesaurus(directory_or_records=\"../data/processed/debug\", column=\"keywords\", thesaurus_filepath=\"../data/processed/debug/test_thesaurus.txt\")\n",
    "# impact_analysis(directory_or_records=\"../data/processed/debug\", column=\"authors\")\n",
    "# tf_matrix(directory_or_records=\"../data/processed/debug\", column=\"author_keywords\")\n",
    "# tfidf_matrix(tf_matrix(directory_or_records=\"../data/processed/debug\", column=\"author_keywords\"))\n",
    "\n",
    "# collaboration_analysis(directory_or_records=\"../data/processed/debug\", column=\"authors\")"
   ]
  },
  {
   "cell_type": "code",
   "execution_count": null,
   "metadata": {},
   "outputs": [],
   "source": []
  },
  {
   "cell_type": "code",
   "execution_count": null,
   "metadata": {},
   "outputs": [],
   "source": []
  },
  {
   "cell_type": "code",
   "execution_count": 5,
   "metadata": {},
   "outputs": [
    {
     "data": {
      "text/plain": [
       "0    57198292319;57197793977;57206475694;5676486040...\n",
       "1    57221091683;55860831500;55361837700;1404158760...\n",
       "2                                          Arslan ŞŞ/0\n",
       "3                              37040010900;35323780200\n",
       "4                                             Bach E/0\n",
       "Name: authors, dtype: object"
      ]
     },
     "execution_count": 5,
     "metadata": {},
     "output_type": "execute_result"
    }
   ],
   "source": [
    "import pandas as pd\n",
    "\n",
    "pd.read_csv(\"../data/processed/debug/documents.csv\").authors.head()"
   ]
  },
  {
   "cell_type": "code",
   "execution_count": 6,
   "metadata": {},
   "outputs": [
    {
     "data": {
      "text/plain": [
       "0    Krishnamoorthy A., Mishra A., Kamal D., Hong S...\n",
       "1    Wagner S., Thierbach K., Zerjatke T., Glauche ...\n",
       "2                                          Arslan Ş.Ş.\n",
       "3                             Wacha A., Beke-Somfai T.\n",
       "4                                              Bach E.\n",
       "Name: authors_raw, dtype: object"
      ]
     },
     "execution_count": 6,
     "metadata": {},
     "output_type": "execute_result"
    }
   ],
   "source": [
    "pd.read_csv(\"../data/processed/debug/documents.csv\").authors_raw.head()"
   ]
  },
  {
   "cell_type": "code",
   "execution_count": null,
   "metadata": {},
   "outputs": [],
   "source": []
  }
 ],
 "metadata": {
  "interpreter": {
   "hash": "949777d72b0d2535278d3dc13498b2535136f6dfe0678499012e853ee9abcab1"
  },
  "kernelspec": {
   "display_name": "Python 3.7.12 64-bit",
   "name": "python3"
  },
  "language_info": {
   "codemirror_mode": {
    "name": "ipython",
    "version": 3
   },
   "file_extension": ".py",
   "mimetype": "text/x-python",
   "name": "python",
   "nbconvert_exporter": "python",
   "pygments_lexer": "ipython3",
   "version": "3.7.12"
  }
 },
 "nbformat": 4,
 "nbformat_minor": 4
}
