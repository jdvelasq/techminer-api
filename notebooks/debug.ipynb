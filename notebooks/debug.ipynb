{
 "cells": [
  {
   "cell_type": "code",
   "execution_count": 1,
   "metadata": {},
   "outputs": [],
   "source": [
    "import os, sys\n",
    "\n",
    "currentdir = os.getcwd()\n",
    "parentdir = os.path.dirname(currentdir)\n",
    "sys.path.append(parentdir)\n",
    "\n",
    "import pandas as pd\n",
    "\n",
    "pd.set_option(\"display.notebook_repr_html\", False)\n",
    "\n",
    "from techminer import *\n",
    "\n",
    "directory = \"/workspaces/techminer-api/tests/data/\"\n",
    "file_name = directory + \"scopus.csv\""
   ]
  },
  {
   "cell_type": "markdown",
   "metadata": {},
   "source": [
    "# Data importation"
   ]
  },
  {
   "cell_type": "code",
   "execution_count": 2,
   "metadata": {},
   "outputs": [],
   "source": [
    "# import_scopus_file()\n",
    "# coverage()"
   ]
  },
  {
   "cell_type": "markdown",
   "metadata": {},
   "source": [
    "# Refine"
   ]
  },
  {
   "cell_type": "code",
   "execution_count": 3,
   "metadata": {},
   "outputs": [],
   "source": [
    "# clean_institutions(directory)\n",
    "# clean_keywords(directory)\n",
    "# apply_thesaurus(directory, thesaurus_file=\"keywords.txt\", input_column=\"author_keywords\", output_column=\"author_keywords_thesaurus\", strict=False)\n",
    "# create_thesaurus(directory, column=\"keywords\", thesaurus_file=\"test_thesaurus.txt\", sep=\"; \")"
   ]
  },
  {
   "cell_type": "markdown",
   "metadata": {},
   "source": [
    "# Indicators"
   ]
  },
  {
   "cell_type": "code",
   "execution_count": 4,
   "metadata": {},
   "outputs": [
    {
     "data": {
      "text/plain": [
       "                h_index  g_index  num_documents  global_citations  m_index  \\\n",
       "united states        23        7            187              1614     3.29   \n",
       "china                18        6            186              1159     2.25   \n",
       "united kingdom       16        6            148              1081     2.29   \n",
       "south korea          13        6             65               754     1.62   \n",
       "germany              12        5             61               626     1.71   \n",
       "\n",
       "                global_citations_per_year  avg_global_citations  \n",
       "united states                      230.57                  8.63  \n",
       "china                              144.88                  6.23  \n",
       "united kingdom                     154.43                  7.30  \n",
       "south korea                         94.25                 11.60  \n",
       "germany                             89.43                 10.26  "
      ]
     },
     "execution_count": 4,
     "metadata": {},
     "output_type": "execute_result"
    }
   ],
   "source": [
    "# summary()\n",
    "# annual_indicators()\n",
    "# column_indicators()\n",
    "# collaboration_indicators(directory, \"countries\").head()\n",
    "# impact_indicators(directory, \"countries\").head()"
   ]
  },
  {
   "cell_type": "markdown",
   "metadata": {},
   "source": [
    "# Documents"
   ]
  },
  {
   "cell_type": "code",
   "execution_count": 5,
   "metadata": {},
   "outputs": [],
   "source": [
    "# bradford_plot()\n",
    "# core_authors(directory)\n",
    "# core_sources(directory)\n",
    "# lotka_plot()\n",
    "# top_documents(directory)"
   ]
  },
  {
   "cell_type": "markdown",
   "metadata": {},
   "source": [
    "# Matrix / Table Generators"
   ]
  },
  {
   "cell_type": "code",
   "execution_count": 6,
   "metadata": {},
   "outputs": [],
   "source": [
    "# auto_corr_matrix(directory, column='authors', min_occ=4)\n",
    "# cross_corr_matrix(directory, column='authors', min_occ=5, by='countries', min_occ_by=6)\n",
    "# co_occurrence_matrix(directory, 'authors', min_occ=5)\n",
    "# co_occurrence_matrix(directory, 'authors', by='countries', min_occ=5, min_occ_by=8)\n"
   ]
  },
  {
   "cell_type": "markdown",
   "metadata": {},
   "source": [
    "# Analyze"
   ]
  },
  {
   "cell_type": "code",
   "execution_count": 7,
   "metadata": {},
   "outputs": [],
   "source": [
    "# from sklearn.manifold import MDS\n",
    "# from sklearn.cluster import KMeans\n",
    "# mainfold_factorial_analysis(co_occurrence_matrix(directory, 'author_keywords', min_occ=15), mainfold_method=MDS(), clustering_method=KMeans(n_clusters=4)).silhouette_scores_plot()\n",
    "# mainfold_factorial_analysis(co_occurrence_matrix(directory, 'author_keywords', min_occ=15), mainfold_method=MDS(), clustering_method=KMeans(n_clusters=4)).words_by_cluster().head()\n",
    "# mainfold_factorial_analysis(co_occurrence_matrix(directory, 'author_keywords', min_occ=15), mainfold_method=MDS(), clustering_method=KMeans(n_clusters=4)).map()\n",
    "# -----------------------------------------------\n",
    "auto_corr_map(auto_corr_matrix(directory, column='authors', min_occ=4))\n",
    "\n",
    "\n",
    "# ---< to check >--------------------------------\n",
    "# co_occurrence_network(co_occurrence_matrix(directory, 'author_keywords', min_occ=15), 'louvain').plot()\n",
    "# co_occurrence_network(co_occurrence_matrix(directory, 'author_keywords', min_occ=15), 'louvain').plot().savefig('/workspaces/techminer-api/sphinx/images/co_occurrence_network.png')\n",
    "# co_occurrence_network(co_occurrence_matrix(directory, 'author_keywords', min_occ=15), 'louvain').table().head()\n",
    "# co_occurrence_network(co_occurrence_matrix(directory, 'author_keywords', min_occ=15), 'louvain').node_degrees()\n",
    "# co_occurrence_network(co_occurrence_matrix(directory, 'author_keywords', min_occ=15), 'louvain').node_degrees().savefig('/workspaces/techminer-api/sphinx/images/co_occurrence_degrees.png')\n",
    "# co_occurrence_network(co_occurrence_matrix(directory, 'author_keywords', min_occ=15), 'louvain').heat_map()\n",
    "# co_occurrence_network(co_occurrence_matrix(directory, 'author_keywords', min_occ=15), 'louvain').heat_map().savefig('/workspaces/techminer-api/sphinx/images/co_occurrence_heat_map.png')\n",
    "# -----------------------------------------------\n",
    "\n",
    "\n",
    "\n",
    "\n",
    "# auto_corr_map(auto_corr_matrix(directory, column='authors', min_occ=4), num_terms=10)\n",
    "# -----------------------------------------------\n",
    "\n",
    "\n",
    "## ca_factorial_analysis(tf_matrix(directory, 'author_keywords', min_occ=14), clustering_method=KMeans(n_clusters=4)).silhouette_scores_plot()\n",
    "# thematic_map(directory, 'author_keywords', min_occ=13).map()\n",
    "\n",
    "# -----------------------------------------------\n",
    "\n",
    "# auto_corr_heat_map(auto_corr_matrix(directory, column='authors', min_occ=4), cmap='Reds').savefig(\"/workspaces/techminer-api/sphinx/images/auto_corr_heat_map.png\")\n",
    "# auto_corr_map(auto_corr_matrix(directory, column='authors', min_occ=4), num_terms=10)\n",
    "# auto_corr_matrix(directory, column='authors', min_occ=6)\n",
    "# co_occurrence_matrix(directory, column='authors', min_occ=5)\n",
    "# co_occurrence_heat_map(co_occurrence_matrix(directory, column='authors', min_occ=5), cmap='Reds').savefig(\"/workspaces/techminer-api/sphinx/images/co_occurrence_heat_map.png\")\n",
    "# factor_matrix(co_occurrence_matrix(directory, column='authors', min_occ=6))\n",
    "# factor_heat_map(factor_matrix(co_occurrence_matrix(directory, column='authors', min_occ=6))).savefig(\"/workspaces/techminer-api/sphinx/images/factor_heat_map.png\")\n",
    "# members, centers = factor_clusters(factor_matrix(co_occurrence_matrix(directory, column='authors', min_occ=6)))\n",
    "# factor_cluster_map(centers, members)\n",
    "# factor_members_map(factor_matrix(co_occurrence_matrix(directory, column='authors', min_occ=6)), members)\n",
    "# ----\n"
   ]
  },
  {
   "cell_type": "markdown",
   "metadata": {},
   "source": [
    "# Reports"
   ]
  },
  {
   "cell_type": "code",
   "execution_count": 8,
   "metadata": {},
   "outputs": [],
   "source": [
    "# heat_map(co_occurrence_matrix(directory, 'authors', by='countries', min_occ=5, min_occ_by=8), cmap='Blues')\n",
    "# heat_map(co_occurrence_matrix(directory, 'authors', by='countries', min_occ=5, min_occ_by=8), cmap='Blues').savefig(\"/workspaces/techminer-api/sphinx/images/co_occurrence_heat_map.png\")\n",
    "# -----------------------------------------------\n",
    "# annual_scientific_production().plot()\n",
    "# annual_scientific_production().table_\n",
    "# bar_chart(series=time_analysis(directory)['num_documents'], darkness=time_analysis(directory)['global_citations'])\n",
    "# bar_chart(terms_report(directory, 'authors', min_occ=5).sort_values(by=['global_citations'], ascending=False).global_citations)\n",
    "# bubble_chart(co_occurrence_matrix(directory, column='authors', min_occ=5))\n",
    "# column_chart(series=time_analysis(directory)['num_documents'], darkness=time_analysis(directory)['global_citations'])\n",
    "# cross_corr_matrix(directory, column='authors', by='author_keywords', min_occ=5)\n",
    "# heat_map(terms_per_year_analysis(directory, column='authors', metric='num_documents', min_occ=5), cmap='Reds')\n",
    "# mean_global_citations().plot().savefig('/workspaces/techminer-api/sphinx/images/mean_global_citations.png')\n",
    "# mean_global_citations().table_\n",
    "# pie_chart(series=time_analysis(directory)['num_documents'], darkness=time_analysis(directory)['global_citations'])\n",
    "# slope_chart(co_occurrence_matrix(directory, column='authors', min_occ=5))\n",
    "# tree_map(terms_analysis(directory, column='authors')['num_documents'].head(50), cmap='Reds')\n",
    "# word_cloud(terms_analysis(directory, column='authors')['num_documents'].head(50), cmap='Reds')\n",
    "# word_cloud(terms_report(directory, 'authors', min_occ=5).num_documents)\n",
    "# world_map(directory, figsize=(8,7)).savefig('/workspaces/techminer-api/sphinx/images/world_map.png')\n"
   ]
  },
  {
   "cell_type": "markdown",
   "metadata": {},
   "source": [
    "---"
   ]
  },
  {
   "cell_type": "code",
   "execution_count": null,
   "metadata": {},
   "outputs": [],
   "source": []
  },
  {
   "cell_type": "code",
   "execution_count": null,
   "metadata": {},
   "outputs": [],
   "source": []
  },
  {
   "cell_type": "code",
   "execution_count": 9,
   "metadata": {},
   "outputs": [],
   "source": [
    "\n",
    "# most_relevant_sources().table_.head()\n",
    "# most_relevant_sources().plot().savefig('/workspaces/techminer-api/sphinx/images/most_relevant_sources.png')\n",
    "# most_relevant_sources().plot()\n",
    "\n"
   ]
  },
  {
   "cell_type": "code",
   "execution_count": null,
   "metadata": {},
   "outputs": [],
   "source": [
    "\n",
    "\n"
   ]
  },
  {
   "cell_type": "code",
   "execution_count": 10,
   "metadata": {},
   "outputs": [],
   "source": [
    "\n",
    "\n",
    "\n",
    "\n",
    "\n",
    "\n",
    "\n",
    "# core_authors(directory)\n",
    "# core_sources(directory)\n",
    "# count_documents_by_term(directory, column='authors', min_occ=6)\n",
    "# impact_analysis(directory, column=\"authors\")\n",
    "# terms_analysis(directory, column='authors', min_occ=5)\n",
    "# terms_per_year_analysis(directory, column='authors', metric='num_documents', min_occ=5)\n",
    "# time_analysis(directory)\n",
    "# top_documents(directory)\n",
    "# co_occurrence_network_clusters(co_occurrence_matrix(directory, column='authors', min_occ=5))\n",
    "# coc_matrix = co_occurrence_matrix(directory, column='authors', min_occ=5, association='jaccard')\n",
    "# clusters = similarity_matrix_clustering(coc_matrix)\n",
    "# similarity_matrix_bubble_map(coc_matrix, clusters)\n",
    "\n",
    "# build_similarity_matrix_from_clusters(coc_matrix, clusters)"
   ]
  },
  {
   "cell_type": "code",
   "execution_count": null,
   "metadata": {},
   "outputs": [],
   "source": []
  },
  {
   "cell_type": "code",
   "execution_count": null,
   "metadata": {},
   "outputs": [],
   "source": [
    "\n",
    "\n"
   ]
  },
  {
   "cell_type": "code",
   "execution_count": null,
   "metadata": {},
   "outputs": [],
   "source": []
  },
  {
   "cell_type": "code",
   "execution_count": 11,
   "metadata": {},
   "outputs": [],
   "source": [
    "# import pandas as pd\n",
    "\n",
    "# pd.read_csv(\"/workspaces/techminer-api/tests/data/documents.csv\").iso_source_name.value_counts()\n",
    "# pd.read_csv(\"/workspaces/techminer-api/tests/data/documents.csv\").columns"
   ]
  },
  {
   "cell_type": "code",
   "execution_count": null,
   "metadata": {},
   "outputs": [],
   "source": []
  },
  {
   "cell_type": "code",
   "execution_count": null,
   "metadata": {},
   "outputs": [],
   "source": []
  }
 ],
 "metadata": {
  "interpreter": {
   "hash": "949777d72b0d2535278d3dc13498b2535136f6dfe0678499012e853ee9abcab1"
  },
  "kernelspec": {
   "display_name": "Python 3.7.12 64-bit",
   "name": "python3"
  },
  "language_info": {
   "codemirror_mode": {
    "name": "ipython",
    "version": 3
   },
   "file_extension": ".py",
   "mimetype": "text/x-python",
   "name": "python",
   "nbconvert_exporter": "python",
   "pygments_lexer": "ipython3",
   "version": "3.7.12"
  }
 },
 "nbformat": 4,
 "nbformat_minor": 4
}
