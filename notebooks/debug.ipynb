{
 "cells": [
  {
   "cell_type": "code",
   "execution_count": 1,
   "metadata": {},
   "outputs": [
    {
     "name": "stdout",
     "output_type": "stream",
     "text": [
      "2021-11-22 20:45:05 - INFO - 1649 raw records found in /workspaces/techminer-api/tests/data/scopus.csv.\n",
      "2021-11-22 20:45:08 - INFO - Main abstract texts saved to /workspaces/techminer-api/tests/data/abstracts.csv\n",
      "2021-11-22 20:45:12 - INFO - Computing Bradford Law Zones ...\n",
      "2021-11-22 20:45:12 - INFO - Searching local references using DOI ...\n"
     ]
    },
    {
     "name": "stderr",
     "output_type": "stream",
     "text": [
      "100%|██████████| 1649/1649 [00:19<00:00, 82.67it/s] \n"
     ]
    },
    {
     "name": "stdout",
     "output_type": "stream",
     "text": [
      "2021-11-22 20:45:32 - INFO - Searching local references using document titles ...\n"
     ]
    },
    {
     "name": "stderr",
     "output_type": "stream",
     "text": [
      "100%|██████████| 1649/1649 [00:21<00:00, 76.75it/s]\n"
     ]
    },
    {
     "name": "stdout",
     "output_type": "stream",
     "text": [
      "2021-11-22 20:45:53 - INFO - Consolidating local references ...\n",
      "2021-11-22 20:45:53 - INFO - Computing local citations ...\n",
      "2021-11-22 20:45:53 - INFO - Computing Bradford Law Zones ...\n",
      "2021-11-22 20:45:55 - INFO - Documents saved/merged to '/workspaces/techminer-api/tests/data/documents.csv'\n",
      "2021-11-22 20:45:55 - INFO - Post-processing docuemnts ...\n",
      "2021-11-22 20:45:55 - INFO - Creating institutions thesaurus ...\n",
      "2021-11-22 20:45:58 - INFO - Affiliations without country detected - check file /workspaces/techminer-api/tests/data/ignored_affiliations.txt\n",
      "2021-11-22 20:45:58 - INFO - Affiliations without country detected - check file /workspaces/techminer-api/tests/data/ignored_affiliations.txt\n",
      "2021-11-22 20:45:59 - INFO - Thesaurus file '/workspaces/techminer-api/tests/data/institutions.txt' created.\n",
      "2021-11-22 20:45:59 - INFO - Creating keywords thesaurus ...\n",
      "2021-11-22 20:46:00 - INFO - Thesaurus file '/workspaces/techminer-api/tests/data/keywords.txt' created.\n",
      "2021-11-22 20:46:00 - INFO - Applying thesaurus to institutions ...\n",
      "2021-11-22 20:46:00 - INFO - Extract and cleaning institutions.\n",
      "2021-11-22 20:46:00 - INFO - Extracting institution of first author ...\n",
      "2021-11-22 20:46:02 - INFO - The thesaurus was applied to institutions.\n",
      "2021-11-22 20:46:02 - INFO - Applying thesaurus to 'raw_author_keywords' column ...\n",
      "2021-11-22 20:46:02 - INFO - Applying thesaurus to 'raw_index_keywords' column...\n",
      "2021-11-22 20:46:04 - INFO - The thesaurus was applied to all keywords.\n",
      "2021-11-22 20:46:04 - INFO - Process finished!!!\n"
     ]
    }
   ],
   "source": [
    "import os, sys\n",
    "import pandas as pd\n",
    "from sklearn.manifold import MDS\n",
    "from sklearn.cluster import KMeans\n",
    "\n",
    "currentdir = os.getcwd()\n",
    "parentdir = os.path.dirname(currentdir)\n",
    "sys.path.append(parentdir)\n",
    "pd.set_option(\"display.notebook_repr_html\", False)\n",
    "\n",
    "from techminer import *\n",
    "\n",
    "directory = \"/workspaces/techminer-api/tests/data/\"\n",
    "\n",
    "import_scopus_file(directory=directory, scopus_file=\"scopus.csv\")\n"
   ]
  },
  {
   "cell_type": "code",
   "execution_count": null,
   "metadata": {},
   "outputs": [],
   "source": [
    "import pandas as pd\n",
    "\n",
    "pd.read_csv(\"/workspaces/techminer-api/tests/data/references.csv\").sort_values(\"wos_document_id\").tail(30)\n"
   ]
  },
  {
   "cell_type": "code",
   "execution_count": null,
   "metadata": {},
   "outputs": [],
   "source": [
    "import pandas as pd\n",
    "\n",
    "x = pd.read_csv(\"/workspaces/techminer-api/tests/data/scopus_references.csv\")\n",
    "x[x[\"Cited by\"] >= 5].shape\n"
   ]
  },
  {
   "cell_type": "code",
   "execution_count": null,
   "metadata": {},
   "outputs": [],
   "source": [
    "pd.read_csv(\"/workspaces/techminer-api/tests/data/scopus.csv\").References.head(1)"
   ]
  },
  {
   "cell_type": "code",
   "execution_count": null,
   "metadata": {},
   "outputs": [],
   "source": [
    "def step_01():\n",
    "    # Data importation\n",
    "    import_scopus_file(file_name, directory)\n",
    "\n",
    "\n",
    "def step_02():\n",
    "    # keywords cleaning\n",
    "    # clean_keywords(directory)\n",
    "    # print(find_string(directory, column=\"author_keywords\", contains='innovation'))\n",
    "    print(stemming_and(directory, \"raw_author_keywords\", \"financial technology\").drop_duplicates())    \n",
    "\n",
    "def step_03():\n",
    "    #\n",
    "    # keywords cleaning + network clustering\n",
    "    # --------------------------------------------------------\n",
    "    clean_keywords(directory)\n",
    "    coc_matrix = co_occurrence_matrix(\n",
    "        directory, \n",
    "        'author_keywords',\n",
    "        min_occ=9, \n",
    "        association=\"equivalence\",\n",
    "    )\n",
    "    #\n",
    "    mds = MDS(random_state=12345)\n",
    "    #\n",
    "    analyzer = co_occurrence_network_analysis(\n",
    "        coc_matrix, \n",
    "        clustering_method='louvain', \n",
    "        manifold_method=mds,\n",
    "    )\n",
    "\n",
    "    # print(analyzer.communities())\n",
    "    # return analyzer.network()\n",
    "    # return analyzer.manifold_map()\n",
    "    # print(analyzer.centrality_density_table())\n",
    "    # return analyzer.centrality_density_map()\n",
    "    \n",
    "\n",
    "\n",
    "\n",
    "\n",
    "\n",
    "\n",
    "def step_04():\n",
    "    #\n",
    "    # keywords cleaning + matrix clustering\n",
    "    # --------------------------------------------------------\n",
    "    clean_keywords(directory)\n",
    "    coc_matrix = co_occurrence_matrix(\n",
    "        directory, 'author_keywords', \n",
    "        min_occ=9, \n",
    "        association=\"equivalence\",\n",
    "    )\n",
    "    #\n",
    "    kmeans=KMeans(n_clusters=5, random_state=1234)\n",
    "    mds = MDS(random_state=12345)\n",
    "    #\n",
    "    analyzer = co_occurrence_matrix_analysis(\n",
    "        coc_matrix, \n",
    "        clustering_method=kmeans, \n",
    "        manifold_method=mds\n",
    "    )\n",
    "    \n",
    "    # print(analyzer.communities())\n",
    "    # return analyzer.network()\n",
    "    # return analyzer.manifold_map()\n",
    "    # print(analyzer.centrality_density_table())\n",
    "    # return analyzer.centrality_density_map()\n",
    "    return analyzer.manifold_map()\n",
    "\n",
    "\n",
    "\n",
    "def step_06():\n",
    "    # Main statistics    \n",
    "    print(coverage(directory))\n",
    "    print(\"-\"*100)  \n",
    "    print(summary_view(directory))\n",
    "\n",
    "\n",
    "\n",
    "# step_01()\n",
    "step_01()\n",
    "\n",
    "# \n",
    "# coverage(directory)\n",
    "\n",
    "\n",
    "\n",
    "# line_chart(annual_indicators()['num_documents'], title=\"Annual Scientific Production\")\n",
    "# bradford_plot().savefig(\"/workspaces/techminer-api/sphinx/images/bradford.png\")\n",
    "# annual_scientific_production().savefig(\"/workspaces/techminer-api/sphinx/images/annual_scientific_production.png\")\n",
    "# average_citations_per_year().savefig(\"/workspaces/techminer-api/sphinx/images/average_citations_per_year.png\")\n",
    "# most_relevant_sources().savefig(\"/workspaces/techminer-api/sphinx/images/most_relevant_sources.png\")\n",
    "# most_local_cited_sources()# .savefig(\"/workspaces/techminer-api/sphinx/images/most_local_cited_sources.png\")"
   ]
  },
  {
   "cell_type": "markdown",
   "metadata": {},
   "source": []
  },
  {
   "cell_type": "code",
   "execution_count": null,
   "metadata": {},
   "outputs": [],
   "source": [
    "# column_coverage(directory, column=\"author_keywords\")\n",
    "print(summary_view())"
   ]
  },
  {
   "cell_type": "code",
   "execution_count": null,
   "metadata": {},
   "outputs": [],
   "source": [
    "# user_filters(directory, erratum=False,  letter=False, first_year=2016, last_year=2020)\n",
    "# user_filters(directory)\n",
    "# annual_indicators()\n",
    "# annual_scientific_production().plot()\n",
    "# annual_scientific_production().table_\n",
    "# apply_thesaurus(directory, thesaurus_file=\"keywords.txt\", input_column=\"author_keywords\", output_column=\"author_keywords_thesaurus\", strict=False)\n",
    "# auto_corr_heat_map(auto_corr_matrix(directory, column='authors', min_occ=4), cmap='Reds').savefig(\"/workspaces/techminer-api/sphinx/images/auto_corr_heat_map.png\")\n",
    "# auto_corr_map(auto_corr_matrix(directory, column='author_keywords', min_occ=20)).savefig('/workspaces/techminer-api/sphinx/images/auto_corr_map.png')\n",
    "# auto_corr_map(auto_corr_matrix(directory, column='authors', min_occ=4), num_terms=10)\n",
    "# auto_corr_matrix(directory, column='author_keywords', min_occ=18)\n",
    "# auto_corr_matrix(directory, column='authors', min_occ=4)\n",
    "# auto_corr_matrix(directory, column='authors', min_occ=6)\n",
    "# bar_chart(series=annual_indicators(directory)['num_documents'], darkness=annual_indicators(directory)['global_citations']).savefig(\"/workspaces/techminer-api/sphinx/images/bar_chart.png\")\n",
    "# bradford_plot()\n",
    "# bubble_chart(co_occurrence_matrix(directory, column='authors', min_occ=5))\n",
    "# build_similarity_matrix_from_clusters(coc_matrix, clusters)\n",
    "# clean_institutions(directory)\n",
    "# clean_keywords(directory)\n",
    "# clusters = similarity_matrix_clustering(coc_matrix)\n",
    "# co_citation_network(directory, min_edges=4).plot( k=0.4, iterations=400).savefig('/workspaces/techminer-api/sphinx/images/co_citation_network.png')\n",
    "# co_occurrence_heat_map(co_occurrence_matrix(directory, column='authors', min_occ=5), cmap='Reds').savefig(\"/workspaces/techminer-api/sphinx/images/co_occurrence_heat_map.png\")\n",
    "# co_occurrence_matrix(directory, 'authors', by='countries', min_occ=5, min_occ_by=8)\n",
    "# co_occurrence_matrix(directory, 'authors', min_occ=5)\n",
    "# co_occurrence_matrix(directory, column='authors', min_occ=5)\n",
    "# co_occurrence_network_clusters(co_occurrence_matrix(directory, column='authors', min_occ=5))\n",
    "# co_occurrence_network(co_occurrence_matrix(directory, 'author_keywords', min_occ=15), 'louvain').heat_map()\n",
    "# co_occurrence_network(co_occurrence_matrix(directory, 'author_keywords', min_occ=15), 'louvain').heat_map().savefig('/workspaces/techminer-api/sphinx/images/co_occurrence_heat_map.png')\n",
    "# co_occurrence_network(co_occurrence_matrix(directory, 'author_keywords', min_occ=15), 'louvain').node_degrees()\n",
    "# co_occurrence_network(co_occurrence_matrix(directory, 'author_keywords', min_occ=15), 'louvain').node_degrees().savefig('/workspaces/techminer-api/sphinx/images/co_occurrence_degrees.png')\n",
    "# co_occurrence_network(co_occurrence_matrix(directory, 'author_keywords', min_occ=15), 'louvain').plot()\n",
    "# co_occurrence_network(co_occurrence_matrix(directory, 'author_keywords', min_occ=15), 'louvain').plot().savefig('/workspaces/techminer-api/sphinx/images/co_occurrence_network.png')\n",
    "# co_occurrence_network(co_occurrence_matrix(directory, 'author_keywords', min_occ=15), 'louvain').table().head()\n",
    "# co_word_association_mds_map(co_occurrence_matrix(directory, 'author_keywords', min_occ=15)).savefig('/workspaces/techminer-api/sphinx/images/co_word_association_mds_map.png')\n",
    "# coc_matrix = co_occurrence_matrix(directory, column='authors', min_occ=5, association='jaccard')\n",
    "# concept_mapping(co_occurrence_matrix(directory, 'author_keywords', min_occ=15), clustering_method=KMeans(n_clusters=6), manifold_method=MDS()).map().savefig(\"/workspaces/techminer-api/sphinx/images/concept_mapping.png\")\n",
    "# collaboration_indicators(directory, \"countries\").head()\n",
    "# column_chart(series=annual_indicators(directory)['num_documents'], darkness=annual_indicators(directory)['global_citations']).savefig(\"/workspaces/techminer-api/sphinx/images/column_chart.png\")\n",
    "# column_chart(series=time_analysis(directory)['num_documents'], darkness=time_analysis(directory)['global_citations'])\n",
    "# column_indicators()\n",
    "# core_sources(directory)\n",
    "# count_documents_by_term(directory, column='authors', min_occ=6)\n",
    "# coverage()\n",
    "# create_thesaurus(directory, column=\"keywords\", thesaurus_file=\"test_thesaurus.txt\", sep=\"; \")\n",
    "# cross_corr_matrix(directory, column='authors', by='author_keywords', min_occ=5)\n",
    "# cross_corr_matrix(directory, column='authors', min_occ=5, by='countries', min_occ_by=6)\n",
    "# factor_cluster_map(centers, members)\n",
    "# factor_heat_map(factor_matrix(co_occurrence_matrix(directory, column='authors', min_occ=6))).savefig(\"/workspaces/techminer-api/sphinx/images/factor_heat_map.png\")\n",
    "# factor_matrix(co_occurrence_matrix(directory, 'authors', min_occ=5))\n",
    "# factor_matrix(co_occurrence_matrix(directory, column='authors', min_occ=6))\n",
    "# factor_members_map(factor_matrix(co_occurrence_matrix(directory, column='authors', min_occ=6)), members)\n",
    "# heat_map(co_occurrence_matrix(directory, 'authors', by='countries', min_occ=5, min_occ_by=8), cmap='Blues')\n",
    "# heat_map(co_occurrence_matrix(directory, 'authors', by='countries', min_occ=5, min_occ_by=8), cmap='Blues').savefig(\"/workspaces/techminer-api/sphinx/images/co_occurrence_heat_map.png\")\n",
    "# heat_map(terms_per_year_analysis(directory, column='authors', metric='num_documents', min_occ=5), cmap='Reds')\n",
    "# impact_analysis(directory, column=\"authors\")\n",
    "# impact_indicators(directory, \"countries\").head()\n",
    "# import_scopus_file()\n",
    "# lotka_plot()\n",
    "# mainfold_factorial_analysis(co_occurrence_matrix(directory, 'author_keywords', min_occ=15), mainfold_method=MDS(), clustering_method=KMeans(n_clusters=4)).map()\n",
    "# mainfold_factorial_analysis(co_occurrence_matrix(directory, 'author_keywords', min_occ=15), mainfold_method=MDS(), clustering_method=KMeans(n_clusters=4)).silhouette_scores_plot()\n",
    "# mainfold_factorial_analysis(co_occurrence_matrix(directory, 'author_keywords', min_occ=15), mainfold_method=MDS(), clustering_method=KMeans(n_clusters=4)).words_by_cluster().head()\n",
    "# mean_global_citations().plot().savefig('/workspaces/techminer-api/sphinx/images/mean_global_citations.png')\n",
    "# mean_global_citations().table_\n",
    "# members, centers = factor_clusters(factor_matrix(co_occurrence_matrix(directory, column='authors', min_occ=6)))\n",
    "# most_relevant_sources().plot()\n",
    "# most_relevant_sources().plot().savefig('/workspaces/techminer-api/sphinx/images/most_relevant_sources.png')\n",
    "# most_relevant_sources().table_.head()\n",
    "# pie_chart(series=annual_indicators(directory)['num_documents'], darkness=annual_indicators(directory)['global_citations']).savefig(\"/workspaces/techminer-api/sphinx/images/pie_chart.png\")\n",
    "# pie_chart(series=time_analysis(directory)['num_documents'], darkness=time_analysis(directory)['global_citations'])\n",
    "# similarity_matrix_bubble_map(coc_matrix, clusters)\n",
    "# slope_chart(co_occurrence_matrix(directory, column='authors', min_occ=5))\n",
    "# summary()\n",
    "# svd_co_occurrence_matrix_map(co_occurrence_matrix(directory, 'author_keywords', min_occ=15), dim_y=1).savefig('/workspaces/techminer-api/sphinx/images/svd_co_occurrence_matrix_map.png')\n",
    "# svd_tf_idf_matrix_map(tf_idf_matrix(directory, 'author_keywords', min_occ=15)).savefig('/workspaces/techminer-api/sphinx/images/svd_tf_idf_matrix_map.png')\n",
    "# terms_analysis(directory, column='authors', min_occ=5)\n",
    "# terms_per_year_analysis(directory, column='authors', metric='num_documents', min_occ=5)\n",
    "# tf_idf_matrix_mds_map(tf_idf_matrix(directory, 'author_keywords', min_occ=15)).savefig('/workspaces/techminer-api/sphinx/images/tf_idf_matrix_mds_map.png')\n",
    "# thematic_map(directory, 'author_keywords', min_occ=13).map()\n",
    "# time_analysis(directory)\n",
    "# top_documents(directory)\n",
    "# top_documents(directory)\n",
    "# tree_map(series=annual_indicators(directory)['num_documents'], darkness=annual_indicators(directory)['global_citations']).savefig(\"/workspaces/techminer-api/sphinx/images/tree_map.png\")\n",
    "# tree_map(terms_analysis(directory, column='authors')['num_documents'].head(50), cmap='Reds')\n",
    "# word_cloud(terms_analysis(directory, column='authors')['num_documents'].head(50), cmap='Reds')\n",
    "# word_cloud(terms_report(directory, 'authors', min_occ=5).num_documents)\n",
    "# world_map(directory, figsize=(8,7)).savefig('/workspaces/techminer-api/sphinx/images/world_map.png')\n",
    "## ca_factorial_analysis(tf_matrix(directory, 'author_keywords', min_occ=14), clustering_method=KMeans(n_clusters=4)).silhouette_scores_plot()\n",
    "# concept_mapping(co_occurrence_matrix(directory, 'author_keywords', min_occ=15), clustering_method=KMeans(n_clusters=6), manifold_method=MDS()).map().savefig(\"/workspaces/techminer-api/sphinx/images/concept_mapping_map.png\")\n",
    "# thematic_analysis(tf_idf_matrix(directory, 'author_keywords', min_occ=13), clustering_method=KMeans(n_clusters=6), manifold_method=MDS()).themes_by_words_\n",
    "# thematic_analysis(tf_idf_matrix(directory, 'author_keywords', min_occ=13), clustering_method=KMeans(n_clusters=6), manifold_method=MDS()).decomposed_themes_by_words_\n",
    "# thematic_analysis(tf_idf_matrix(directory, 'author_keywords', min_occ=13), clustering_method=KMeans(n_clusters=6), manifold_method=MDS()).map().savefig(\"/workspaces/techminer-api/sphinx/images/thematic_analysis-map.png\")\n",
    "\n",
    "# thematic_analysis(tf_idf_matrix(directory, 'author_keywords', min_occ=13), clustering_method=KMeans(n_clusters=6), manifold_method=MDS()).themes_by_words_\n",
    "# thematic_analysis(tf_idf_matrix(directory, 'author_keywords', min_occ=13), clustering_method=KMeans(n_clusters=6), manifold_method=MDS()).decomposed_themes_by_words_\n",
    "# thematic_analysis(tf_idf_matrix(directory, 'author_keywords', min_occ=13), clustering_method=KMeans(n_clusters=6), manifold_method=MDS()).map()"
   ]
  },
  {
   "cell_type": "markdown",
   "metadata": {},
   "source": [
    "---"
   ]
  },
  {
   "cell_type": "code",
   "execution_count": null,
   "metadata": {},
   "outputs": [],
   "source": [
    "import pandas as pd\n",
    "\n",
    "# pd.read_csv(\"/workspaces/techminer-api/tests/data/documents.csv\").author_keywords.head()\n",
    "pd.read_csv(\"/workspaces/techminer-api/tests/data/documents.csv\")[['local_references', 'document_id']]"
   ]
  },
  {
   "cell_type": "code",
   "execution_count": null,
   "metadata": {},
   "outputs": [],
   "source": [
    "pd.read_csv(\"/workspaces/techminer-api/tests/data/documents.csv\").global_references[101]"
   ]
  },
  {
   "cell_type": "code",
   "execution_count": null,
   "metadata": {},
   "outputs": [],
   "source": [
    "import pandas as pd\n",
    "\n",
    "pd.read_csv('management.csv').head()"
   ]
  },
  {
   "cell_type": "code",
   "execution_count": null,
   "metadata": {},
   "outputs": [],
   "source": [
    "!pip3 install xlrd\n"
   ]
  },
  {
   "cell_type": "code",
   "execution_count": null,
   "metadata": {},
   "outputs": [],
   "source": [
    "import pandas as pd\n",
    "\n",
    "directory = \"/workspaces/techminer-api/tests/data/\"\n",
    "print(pd.read_csv(directory + 'raw_cited_by.csv').Link.isna().sum())"
   ]
  },
  {
   "cell_type": "code",
   "execution_count": null,
   "metadata": {},
   "outputs": [],
   "source": [
    "x = x.sort_values(by=['raw_reference']).dropna()\n",
    "x.raw_reference.value_counts().shape"
   ]
  },
  {
   "cell_type": "code",
   "execution_count": null,
   "metadata": {},
   "outputs": [],
   "source": []
  }
 ],
 "metadata": {
  "interpreter": {
   "hash": "949777d72b0d2535278d3dc13498b2535136f6dfe0678499012e853ee9abcab1"
  },
  "kernelspec": {
   "display_name": "Python 3.7.12 64-bit",
   "name": "python3"
  },
  "language_info": {
   "codemirror_mode": {
    "name": "ipython",
    "version": 3
   },
   "file_extension": ".py",
   "mimetype": "text/x-python",
   "name": "python",
   "nbconvert_exporter": "python",
   "pygments_lexer": "ipython3",
   "version": "3.7.12"
  }
 },
 "nbformat": 4,
 "nbformat_minor": 4
}
