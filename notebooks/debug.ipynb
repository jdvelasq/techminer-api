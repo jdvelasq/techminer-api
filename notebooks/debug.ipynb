{
 "cells": [
  {
   "cell_type": "code",
   "execution_count": 1,
   "metadata": {},
   "outputs": [
    {
     "name": "stdout",
     "output_type": "stream",
     "text": [
      "2021-11-13 17:10:10 - INFO -  **** USING SAMPLE DATA ****\n",
      "2021-11-13 17:10:10 - INFO - Reading file '/workspaces/techminer-api/tests/data/scopus.csv' ...\n",
      "2021-11-13 17:10:10 - INFO - 1301 raw records found.\n",
      "2021-11-13 17:10:10 - INFO - Deleting/renaming columns ...\n",
      "2021-11-13 17:10:10 - INFO - Removing accents ...\n"
     ]
    },
    {
     "name": "stderr",
     "output_type": "stream",
     "text": [
      "b'Skipping line 1122: expected 50 fields, saw 51\\nSkipping line 1123: expected 50 fields, saw 51\\nSkipping line 1124: expected 50 fields, saw 51\\nSkipping line 1125: expected 50 fields, saw 51\\nSkipping line 1126: expected 50 fields, saw 51\\nSkipping line 1127: expected 50 fields, saw 51\\nSkipping line 1128: expected 50 fields, saw 51\\nSkipping line 1129: expected 50 fields, saw 51\\nSkipping line 1130: expected 50 fields, saw 51\\nSkipping line 1131: expected 50 fields, saw 51\\nSkipping line 1132: expected 50 fields, saw 51\\nSkipping line 1133: expected 50 fields, saw 51\\nSkipping line 1134: expected 50 fields, saw 51\\nSkipping line 1135: expected 50 fields, saw 51\\nSkipping line 1136: expected 50 fields, saw 51\\nSkipping line 1137: expected 50 fields, saw 51\\nSkipping line 1138: expected 50 fields, saw 51\\nSkipping line 1139: expected 50 fields, saw 51\\nSkipping line 1140: expected 50 fields, saw 51\\nSkipping line 1141: expected 50 fields, saw 51\\nSkipping line 1142: expected 50 fields, saw 51\\nSkipping line 1143: expected 50 fields, saw 51\\nSkipping line 1144: expected 50 fields, saw 51\\nSkipping line 1145: expected 50 fields, saw 51\\nSkipping line 1146: expected 50 fields, saw 51\\nSkipping line 1147: expected 50 fields, saw 51\\nSkipping line 1148: expected 50 fields, saw 51\\nSkipping line 1149: expected 50 fields, saw 51\\nSkipping line 1150: expected 50 fields, saw 51\\nSkipping line 1151: expected 50 fields, saw 51\\nSkipping line 1152: expected 50 fields, saw 51\\nSkipping line 1153: expected 50 fields, saw 51\\nSkipping line 1154: expected 50 fields, saw 51\\nSkipping line 1155: expected 50 fields, saw 51\\nSkipping line 1156: expected 50 fields, saw 51\\nSkipping line 1157: expected 50 fields, saw 51\\nSkipping line 1158: expected 50 fields, saw 51\\nSkipping line 1159: expected 50 fields, saw 51\\nSkipping line 1160: expected 50 fields, saw 51\\nSkipping line 1161: expected 50 fields, saw 51\\nSkipping line 1162: expected 50 fields, saw 51\\nSkipping line 1163: expected 50 fields, saw 51\\nSkipping line 1164: expected 50 fields, saw 51\\nSkipping line 1165: expected 50 fields, saw 51\\nSkipping line 1166: expected 50 fields, saw 51\\nSkipping line 1167: expected 50 fields, saw 51\\nSkipping line 1168: expected 50 fields, saw 51\\nSkipping line 1169: expected 50 fields, saw 51\\nSkipping line 1170: expected 50 fields, saw 51\\nSkipping line 1171: expected 50 fields, saw 51\\nSkipping line 1172: expected 50 fields, saw 51\\nSkipping line 1173: expected 50 fields, saw 51\\nSkipping line 1174: expected 50 fields, saw 51\\nSkipping line 1175: expected 50 fields, saw 51\\nSkipping line 1176: expected 50 fields, saw 51\\nSkipping line 1177: expected 50 fields, saw 51\\nSkipping line 1178: expected 50 fields, saw 51\\nSkipping line 1179: expected 50 fields, saw 51\\nSkipping line 1180: expected 50 fields, saw 51\\nSkipping line 1181: expected 50 fields, saw 51\\nSkipping line 1182: expected 50 fields, saw 51\\nSkipping line 1183: expected 50 fields, saw 51\\nSkipping line 1184: expected 50 fields, saw 51\\nSkipping line 1185: expected 50 fields, saw 51\\nSkipping line 1186: expected 50 fields, saw 51\\nSkipping line 1187: expected 50 fields, saw 51\\nSkipping line 1188: expected 50 fields, saw 51\\nSkipping line 1189: expected 50 fields, saw 51\\nSkipping line 1190: expected 50 fields, saw 51\\nSkipping line 1191: expected 50 fields, saw 51\\nSkipping line 1192: expected 50 fields, saw 51\\nSkipping line 1193: expected 50 fields, saw 51\\nSkipping line 1194: expected 50 fields, saw 51\\nSkipping line 1195: expected 50 fields, saw 51\\nSkipping line 1196: expected 50 fields, saw 51\\nSkipping line 1197: expected 50 fields, saw 51\\nSkipping line 1198: expected 50 fields, saw 51\\nSkipping line 1199: expected 50 fields, saw 51\\nSkipping line 1200: expected 50 fields, saw 51\\nSkipping line 1201: expected 50 fields, saw 51\\n'\n"
     ]
    },
    {
     "name": "stdout",
     "output_type": "stream",
     "text": [
      "2021-11-13 17:10:10 - INFO - Processing abstracts ...\n",
      "2021-11-13 17:10:10 - INFO - Processing abstracts ...\n",
      "2021-11-13 17:10:10 - INFO - Processing affiliations ...\n",
      "2021-11-13 17:10:14 - INFO - Processing author keywords ...\n",
      "2021-11-13 17:10:14 - INFO - Processing authors_id ...\n",
      "2021-11-13 17:10:14 - INFO - Formating raw authors names ...\n",
      "2021-11-13 17:10:14 - INFO - Dropping duplicates ...\n",
      "2021-11-13 17:10:14 - INFO - Duplicate rows found in /workspaces/techminer-api/tests/data/documents.csv - Records saved to {filename}\n",
      "2021-11-13 17:10:14 - INFO - Searching local references using DOI ...\n"
     ]
    },
    {
     "name": "stderr",
     "output_type": "stream",
     "text": [
      "100%|██████████| 1301/1301 [00:14<00:00, 91.62it/s] \n"
     ]
    },
    {
     "name": "stdout",
     "output_type": "stream",
     "text": [
      "2021-11-13 17:10:28 - INFO - Searching local references using document titles ...\n"
     ]
    },
    {
     "name": "stderr",
     "output_type": "stream",
     "text": [
      "100%|██████████| 1301/1301 [00:15<00:00, 83.01it/s]\n"
     ]
    },
    {
     "name": "stdout",
     "output_type": "stream",
     "text": [
      "2021-11-13 17:10:44 - INFO - Consolidating local references ...\n",
      "2021-11-13 17:10:44 - INFO - Computing local citations ...\n",
      "2021-11-13 17:10:44 - INFO - Computing Bradford Law Zones ...\n",
      "2021-11-13 17:10:45 - INFO - Documents saved/merged to '/workspaces/techminer-api/tests/data/documents.csv'\n",
      "2021-11-13 17:10:45 - INFO - Post-processing docuemnts ...\n",
      "2021-11-13 17:10:45 - INFO - Creating institutions thesaurus ...\n",
      "2021-11-13 17:10:49 - INFO - Affiliations without country detected - check file /workspaces/techminer-api/tests/data/ignored_affiliations.txt\n",
      "2021-11-13 17:10:49 - INFO - Affiliations without country detected - check file /workspaces/techminer-api/tests/data/ignored_affiliations.txt\n",
      "2021-11-13 17:10:49 - INFO - Thesaurus file '/workspaces/techminer-api/tests/data/institutions.txt' created.\n",
      "2021-11-13 17:10:49 - INFO - Creating keywords thesaurus ...\n",
      "2021-11-13 17:10:51 - INFO - Thesaurus file '/workspaces/techminer-api/tests/data/keywords.txt' created.\n",
      "2021-11-13 17:10:51 - INFO - Applying thesaurus to institutions ...\n",
      "2021-11-13 17:10:52 - INFO - Extract and cleaning institutions.\n",
      "2021-11-13 17:10:52 - INFO - Extracting institution of first author ...\n",
      "2021-11-13 17:10:53 - INFO - The thesaurus was applied to institutions.\n",
      "2021-11-13 17:10:54 - INFO - Applying thesaurus to 'author_keywords' column ...\n",
      "2021-11-13 17:10:54 - INFO - Applying thesaurus to 'index_keywords' column...\n",
      "2021-11-13 17:10:54 - INFO - Applying thesaurus to 'keywords' column...\n",
      "2021-11-13 17:10:55 - INFO - The thesaurus was applied to keywords.\n",
      "2021-11-13 17:10:55 - INFO - Process finished!!!\n"
     ]
    }
   ],
   "source": [
    "import os, sys\n",
    "import pandas as pd\n",
    "from sklearn.manifold import MDS\n",
    "from sklearn.cluster import KMeans\n",
    "\n",
    "currentdir = os.getcwd()\n",
    "parentdir = os.path.dirname(currentdir)\n",
    "sys.path.append(parentdir)\n",
    "pd.set_option(\"display.notebook_repr_html\", False)\n",
    "\n",
    "from techminer import *\n",
    "\n",
    "directory = \"/workspaces/techminer-api/tests/data/\"\n",
    "file_name = directory + \"scopus.csv\"\n",
    "\n",
    "import_scopus_file()\n",
    "\n",
    "co_citation_network(directory, min_edges=4).communities()"
   ]
  },
  {
   "cell_type": "code",
   "execution_count": null,
   "metadata": {},
   "outputs": [],
   "source": []
  },
  {
   "cell_type": "code",
   "execution_count": null,
   "metadata": {},
   "outputs": [],
   "source": [
    "# user_filters(directory, erratum=False,  letter=False, first_year=2016, last_year=2020)\n",
    "# user_filters(directory)\n",
    "# annual_indicators()\n",
    "# annual_scientific_production().plot()\n",
    "# annual_scientific_production().table_\n",
    "# apply_thesaurus(directory, thesaurus_file=\"keywords.txt\", input_column=\"author_keywords\", output_column=\"author_keywords_thesaurus\", strict=False)\n",
    "# auto_corr_heat_map(auto_corr_matrix(directory, column='authors', min_occ=4), cmap='Reds').savefig(\"/workspaces/techminer-api/sphinx/images/auto_corr_heat_map.png\")\n",
    "# auto_corr_map(auto_corr_matrix(directory, column='author_keywords', min_occ=20)).savefig('/workspaces/techminer-api/sphinx/images/auto_corr_map.png')\n",
    "# auto_corr_map(auto_corr_matrix(directory, column='authors', min_occ=4), num_terms=10)\n",
    "# auto_corr_matrix(directory, column='author_keywords', min_occ=18)\n",
    "# auto_corr_matrix(directory, column='authors', min_occ=4)\n",
    "# auto_corr_matrix(directory, column='authors', min_occ=6)\n",
    "# bar_chart(series=annual_indicators(directory)['num_documents'], darkness=annual_indicators(directory)['global_citations']).savefig(\"/workspaces/techminer-api/sphinx/images/bar_chart.png\")\n",
    "# bradford_plot()\n",
    "# bubble_chart(co_occurrence_matrix(directory, column='authors', min_occ=5))\n",
    "# build_similarity_matrix_from_clusters(coc_matrix, clusters)\n",
    "# clean_institutions(directory)\n",
    "# clean_keywords(directory)\n",
    "# clusters = similarity_matrix_clustering(coc_matrix)\n",
    "# co_citation_network(directory, min_edges=4).plot( k=0.4, iterations=400).savefig('/workspaces/techminer-api/sphinx/images/co_citation_network.png')\n",
    "# co_occurrence_heat_map(co_occurrence_matrix(directory, column='authors', min_occ=5), cmap='Reds').savefig(\"/workspaces/techminer-api/sphinx/images/co_occurrence_heat_map.png\")\n",
    "# co_occurrence_matrix(directory, 'authors', by='countries', min_occ=5, min_occ_by=8)\n",
    "# co_occurrence_matrix(directory, 'authors', min_occ=5)\n",
    "# co_occurrence_matrix(directory, column='authors', min_occ=5)\n",
    "# co_occurrence_network_clusters(co_occurrence_matrix(directory, column='authors', min_occ=5))\n",
    "# co_occurrence_network(co_occurrence_matrix(directory, 'author_keywords', min_occ=15), 'louvain').heat_map()\n",
    "# co_occurrence_network(co_occurrence_matrix(directory, 'author_keywords', min_occ=15), 'louvain').heat_map().savefig('/workspaces/techminer-api/sphinx/images/co_occurrence_heat_map.png')\n",
    "# co_occurrence_network(co_occurrence_matrix(directory, 'author_keywords', min_occ=15), 'louvain').node_degrees()\n",
    "# co_occurrence_network(co_occurrence_matrix(directory, 'author_keywords', min_occ=15), 'louvain').node_degrees().savefig('/workspaces/techminer-api/sphinx/images/co_occurrence_degrees.png')\n",
    "# co_occurrence_network(co_occurrence_matrix(directory, 'author_keywords', min_occ=15), 'louvain').plot()\n",
    "# co_occurrence_network(co_occurrence_matrix(directory, 'author_keywords', min_occ=15), 'louvain').plot().savefig('/workspaces/techminer-api/sphinx/images/co_occurrence_network.png')\n",
    "# co_occurrence_network(co_occurrence_matrix(directory, 'author_keywords', min_occ=15), 'louvain').table().head()\n",
    "# co_word_association_mds_map(co_occurrence_matrix(directory, 'author_keywords', min_occ=15)).savefig('/workspaces/techminer-api/sphinx/images/co_word_association_mds_map.png')\n",
    "# coc_matrix = co_occurrence_matrix(directory, column='authors', min_occ=5, association='jaccard')\n",
    "# concept_mapping(co_occurrence_matrix(directory, 'author_keywords', min_occ=15), clustering_method=KMeans(n_clusters=6), manifold_method=MDS()).map().savefig(\"/workspaces/techminer-api/sphinx/images/concept_mapping.png\")\n",
    "# collaboration_indicators(directory, \"countries\").head()\n",
    "# column_chart(series=annual_indicators(directory)['num_documents'], darkness=annual_indicators(directory)['global_citations']).savefig(\"/workspaces/techminer-api/sphinx/images/column_chart.png\")\n",
    "# column_chart(series=time_analysis(directory)['num_documents'], darkness=time_analysis(directory)['global_citations'])\n",
    "# column_indicators()\n",
    "# core_sources(directory)\n",
    "# count_documents_by_term(directory, column='authors', min_occ=6)\n",
    "# coverage()\n",
    "# create_thesaurus(directory, column=\"keywords\", thesaurus_file=\"test_thesaurus.txt\", sep=\"; \")\n",
    "# cross_corr_matrix(directory, column='authors', by='author_keywords', min_occ=5)\n",
    "# cross_corr_matrix(directory, column='authors', min_occ=5, by='countries', min_occ_by=6)\n",
    "# factor_cluster_map(centers, members)\n",
    "# factor_heat_map(factor_matrix(co_occurrence_matrix(directory, column='authors', min_occ=6))).savefig(\"/workspaces/techminer-api/sphinx/images/factor_heat_map.png\")\n",
    "# factor_matrix(co_occurrence_matrix(directory, 'authors', min_occ=5))\n",
    "# factor_matrix(co_occurrence_matrix(directory, column='authors', min_occ=6))\n",
    "# factor_members_map(factor_matrix(co_occurrence_matrix(directory, column='authors', min_occ=6)), members)\n",
    "# heat_map(co_occurrence_matrix(directory, 'authors', by='countries', min_occ=5, min_occ_by=8), cmap='Blues')\n",
    "# heat_map(co_occurrence_matrix(directory, 'authors', by='countries', min_occ=5, min_occ_by=8), cmap='Blues').savefig(\"/workspaces/techminer-api/sphinx/images/co_occurrence_heat_map.png\")\n",
    "# heat_map(terms_per_year_analysis(directory, column='authors', metric='num_documents', min_occ=5), cmap='Reds')\n",
    "# impact_analysis(directory, column=\"authors\")\n",
    "# impact_indicators(directory, \"countries\").head()\n",
    "# import_scopus_file()\n",
    "# lotka_plot()\n",
    "# mainfold_factorial_analysis(co_occurrence_matrix(directory, 'author_keywords', min_occ=15), mainfold_method=MDS(), clustering_method=KMeans(n_clusters=4)).map()\n",
    "# mainfold_factorial_analysis(co_occurrence_matrix(directory, 'author_keywords', min_occ=15), mainfold_method=MDS(), clustering_method=KMeans(n_clusters=4)).silhouette_scores_plot()\n",
    "# mainfold_factorial_analysis(co_occurrence_matrix(directory, 'author_keywords', min_occ=15), mainfold_method=MDS(), clustering_method=KMeans(n_clusters=4)).words_by_cluster().head()\n",
    "# mean_global_citations().plot().savefig('/workspaces/techminer-api/sphinx/images/mean_global_citations.png')\n",
    "# mean_global_citations().table_\n",
    "# members, centers = factor_clusters(factor_matrix(co_occurrence_matrix(directory, column='authors', min_occ=6)))\n",
    "# most_relevant_sources().plot()\n",
    "# most_relevant_sources().plot().savefig('/workspaces/techminer-api/sphinx/images/most_relevant_sources.png')\n",
    "# most_relevant_sources().table_.head()\n",
    "# pie_chart(series=annual_indicators(directory)['num_documents'], darkness=annual_indicators(directory)['global_citations']).savefig(\"/workspaces/techminer-api/sphinx/images/pie_chart.png\")\n",
    "# pie_chart(series=time_analysis(directory)['num_documents'], darkness=time_analysis(directory)['global_citations'])\n",
    "# similarity_matrix_bubble_map(coc_matrix, clusters)\n",
    "# slope_chart(co_occurrence_matrix(directory, column='authors', min_occ=5))\n",
    "# summary()\n",
    "# svd_co_occurrence_matrix_map(co_occurrence_matrix(directory, 'author_keywords', min_occ=15), dim_y=1).savefig('/workspaces/techminer-api/sphinx/images/svd_co_occurrence_matrix_map.png')\n",
    "# svd_tf_idf_matrix_map(tf_idf_matrix(directory, 'author_keywords', min_occ=15)).savefig('/workspaces/techminer-api/sphinx/images/svd_tf_idf_matrix_map.png')\n",
    "# terms_analysis(directory, column='authors', min_occ=5)\n",
    "# terms_per_year_analysis(directory, column='authors', metric='num_documents', min_occ=5)\n",
    "# tf_idf_matrix_mds_map(tf_idf_matrix(directory, 'author_keywords', min_occ=15)).savefig('/workspaces/techminer-api/sphinx/images/tf_idf_matrix_mds_map.png')\n",
    "# thematic_map(directory, 'author_keywords', min_occ=13).map()\n",
    "# time_analysis(directory)\n",
    "# top_documents(directory)\n",
    "# top_documents(directory)\n",
    "# tree_map(series=annual_indicators(directory)['num_documents'], darkness=annual_indicators(directory)['global_citations']).savefig(\"/workspaces/techminer-api/sphinx/images/tree_map.png\")\n",
    "# tree_map(terms_analysis(directory, column='authors')['num_documents'].head(50), cmap='Reds')\n",
    "# word_cloud(terms_analysis(directory, column='authors')['num_documents'].head(50), cmap='Reds')\n",
    "# word_cloud(terms_report(directory, 'authors', min_occ=5).num_documents)\n",
    "# world_map(directory, figsize=(8,7)).savefig('/workspaces/techminer-api/sphinx/images/world_map.png')\n",
    "## ca_factorial_analysis(tf_matrix(directory, 'author_keywords', min_occ=14), clustering_method=KMeans(n_clusters=4)).silhouette_scores_plot()\n",
    "# concept_mapping(co_occurrence_matrix(directory, 'author_keywords', min_occ=15), clustering_method=KMeans(n_clusters=6), manifold_method=MDS()).map().savefig(\"/workspaces/techminer-api/sphinx/images/concept_mapping_map.png\")\n",
    "# thematic_analysis(tf_idf_matrix(directory, 'author_keywords', min_occ=13), clustering_method=KMeans(n_clusters=6), manifold_method=MDS()).themes_by_words_\n",
    "# thematic_analysis(tf_idf_matrix(directory, 'author_keywords', min_occ=13), clustering_method=KMeans(n_clusters=6), manifold_method=MDS()).decomposed_themes_by_words_\n",
    "# thematic_analysis(tf_idf_matrix(directory, 'author_keywords', min_occ=13), clustering_method=KMeans(n_clusters=6), manifold_method=MDS()).map().savefig(\"/workspaces/techminer-api/sphinx/images/thematic_analysis-map.png\")\n",
    "\n",
    "# thematic_analysis(tf_idf_matrix(directory, 'author_keywords', min_occ=13), clustering_method=KMeans(n_clusters=6), manifold_method=MDS()).themes_by_words_\n",
    "# thematic_analysis(tf_idf_matrix(directory, 'author_keywords', min_occ=13), clustering_method=KMeans(n_clusters=6), manifold_method=MDS()).decomposed_themes_by_words_\n",
    "# thematic_analysis(tf_idf_matrix(directory, 'author_keywords', min_occ=13), clustering_method=KMeans(n_clusters=6), manifold_method=MDS()).map()"
   ]
  },
  {
   "cell_type": "markdown",
   "metadata": {},
   "source": [
    "---"
   ]
  },
  {
   "cell_type": "code",
   "execution_count": 2,
   "metadata": {},
   "outputs": [
    {
     "data": {
      "text/plain": [
       "Index(['raw_authors_names', 'authors_id', 'document_title', 'pub_year',\n",
       "       'source_name', 'volume', 'page_start', 'global_citations', 'doi',\n",
       "       'affiliations', 'abstract', 'author_keywords', 'index_keywords',\n",
       "       'global_references', 'issn', 'isbn', 'pubmed_id', 'iso_source_name',\n",
       "       'document_type', 'countries', 'country_1st_author',\n",
       "       'num_global_references', 'keywords', 'num_authors',\n",
       "       'frac_num_documents', 'document_id', 'local_references',\n",
       "       'local_citations', 'bradford_law_zone', 'authors', 'wos_id',\n",
       "       'institutions', 'institution_1st_author', 'author_keywords_cleaned',\n",
       "       'index_keywords_cleaned', 'keywords_cleaned'],\n",
       "      dtype='object')"
      ]
     },
     "execution_count": 2,
     "metadata": {},
     "output_type": "execute_result"
    }
   ],
   "source": [
    "import pandas as pd\n",
    "\n",
    "pd.read_csv(\"/workspaces/techminer-api/tests/data/documents.csv\").columns\n",
    "# pd.read_csv(\"/workspaces/techminer-api/tests/data/documents.csv\")[['local_references', 'document_id']]"
   ]
  },
  {
   "cell_type": "code",
   "execution_count": null,
   "metadata": {},
   "outputs": [],
   "source": []
  }
 ],
 "metadata": {
  "interpreter": {
   "hash": "949777d72b0d2535278d3dc13498b2535136f6dfe0678499012e853ee9abcab1"
  },
  "kernelspec": {
   "display_name": "Python 3.7.12 64-bit",
   "name": "python3"
  },
  "language_info": {
   "codemirror_mode": {
    "name": "ipython",
    "version": 3
   },
   "file_extension": ".py",
   "mimetype": "text/x-python",
   "name": "python",
   "nbconvert_exporter": "python",
   "pygments_lexer": "ipython3",
   "version": "3.7.12"
  }
 },
 "nbformat": 4,
 "nbformat_minor": 4
}
