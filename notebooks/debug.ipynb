{
 "cells": [
  {
   "cell_type": "markdown",
   "metadata": {},
   "source": [
    "# Data preparation"
   ]
  },
  {
   "cell_type": "code",
   "execution_count": 2,
   "metadata": {},
   "outputs": [
    {
     "data": {
      "text/plain": [
       "                       column  number of terms coverage (%)\n",
       "0                    abstract             1301      100.00%\n",
       "1                affiliations             1266       97.31%\n",
       "2             author_keywords             1122       86.24%\n",
       "3          author_keywords_cl             1122       86.24%\n",
       "4   author_keywords_thesaurus             1122       86.24%\n",
       "5                     authors             1283       98.62%\n",
       "6                  authors_id             1283       98.62%\n",
       "7           bradford_law_zone             1301      100.00%\n",
       "8                   countries             1262       97.00%\n",
       "9          country_1st_author             1262       97.00%\n",
       "10                document_id             1301      100.00%\n",
       "11             document_title             1301      100.00%\n",
       "12              document_type             1301      100.00%\n",
       "13                        doi             1094       84.09%\n",
       "14         frac_num_documents             1301      100.00%\n",
       "15           global_citations             1301      100.00%\n",
       "16          global_references             1230       94.54%\n",
       "17             index_keywords              497       38.20%\n",
       "18          index_keywords_cl              497       38.20%\n",
       "19     institution_1st_author             1198       92.08%\n",
       "20               institutions             1198       92.08%\n",
       "21                       isbn              334       25.67%\n",
       "22            iso_source_name             1301      100.00%\n",
       "23                       issn             1056       81.17%\n",
       "24                   keywords              459       35.28%\n",
       "25                keywords_cl              459       35.28%\n",
       "26            local_citations             1301      100.00%\n",
       "27           local_references              815       62.64%\n",
       "28                num_authors             1301      100.00%\n",
       "29      num_global_references             1301      100.00%\n",
       "30                   pub_year             1301      100.00%\n",
       "31                  pubmed_id                7        0.54%\n",
       "32          raw_authors_names             1284       98.69%\n",
       "33                source_name             1301      100.00%"
      ]
     },
     "execution_count": 2,
     "metadata": {},
     "output_type": "execute_result"
    }
   ],
   "source": [
    "import os\n",
    "import sys\n",
    "import pandas as pd\n",
    "\n",
    "pd.set_option(\"display.notebook_repr_html\", False)\n",
    "currentdir = os.getcwd()\n",
    "parentdir = os.path.dirname(currentdir)\n",
    "sys.path.append(parentdir)\n",
    "\n",
    "from techminer import *\n",
    "\n",
    "directory = \"/workspaces/techminer-api/tests/data/\"\n",
    "file_name = directory + \"scopus.csv\"\n",
    "\n",
    "\n",
    "# import_scopus_file(file_name, directory)\n",
    "# -----------------------------------------------\n",
    "coverage(directory)\n",
    "# summary(directory)\n",
    "# -----------------------------------------------\n",
    "# clean_institutions(directory)\n",
    "# clean_keywords(directory)\n",
    "# apply_thesaurus(directory, thesaurus_file=\"keywords.txt\", input_column=\"author_keywords\", output_column=\"author_keywords_thesaurus\", strict=False)\n",
    "# create_thesaurus(directory, column=\"keywords\", thesaurus_file=\"test_thesaurus.txt\", sep=\"; \")\n",
    "\n",
    "# !cat ../data/processed/debug/filter.yaml"
   ]
  },
  {
   "cell_type": "markdown",
   "metadata": {},
   "source": [
    "# Analysis"
   ]
  },
  {
   "cell_type": "code",
   "execution_count": null,
   "metadata": {},
   "outputs": [],
   "source": [
    "import os\n",
    "import sys\n",
    "\n",
    "currentdir = os.getcwd()\n",
    "parentdir = os.path.dirname(currentdir)\n",
    "sys.path.append(parentdir)\n",
    "\n",
    "import pandas as pd\n",
    "\n",
    "pd.set_option(\"display.notebook_repr_html\", False)\n",
    "\n",
    "from techminer import *\n",
    "\n",
    "directory = \"/workspaces/techminer-api/tests/data/\"\n",
    "\n",
    "\n",
    "# auto_corr_map(auto_corr_matrix(directory, column='authors', min_occ=4), num_terms=10)\n",
    "# auto_corr_heat_map(auto_corr_matrix(directory, column='authors', min_occ=4), cmap='Reds').savefig(\"/workspaces/techminer-api/sphinx/images/auto_corr_heat_map.png\")\n",
    "# auto_corr_matrix(directory, column='authors', min_occ=6)\n",
    "# co_occurrence_matrix(directory, column='authors', min_occ=5)\n",
    "# co_occurrence_heat_map(co_occurrence_matrix(directory, column='authors', min_occ=5), cmap='Reds').savefig(\"/workspaces/techminer-api/sphinx/images/co_occurrence_heat_map.png\")\n",
    "# factor_matrix(co_occurrence_matrix(directory, column='authors', min_occ=6))\n",
    "# factor_heat_map(factor_matrix(co_occurrence_matrix(directory, column='authors', min_occ=6))).savefig(\"/workspaces/techminer-api/sphinx/images/factor_heat_map.png\")\n",
    "members, centers = factor_clusters(factor_matrix(co_occurrence_matrix(directory, column='authors', min_occ=6)))\n",
    "# factor_cluster_map(centers, members)\n",
    "factor_members_map(factor_matrix(co_occurrence_matrix(directory, column='authors', min_occ=6)), members)\n",
    "# ----\n",
    "\n",
    "\n",
    "\n",
    "# bradford_plot(directory)\n",
    "# lotka_plot(directory)\n",
    "# worldmap(directory, metric=\"num_documents\")\n",
    "# core_authors(directory)\n",
    "# core_sources(directory)\n",
    "# count_documents_by_term(directory, column='authors', min_occ=6)\n",
    "# impact_analysis(directory, column=\"authors\")\n",
    "# terms_analysis(directory, column='authors', min_occ=5)\n",
    "# terms_per_year_analysis(directory, column='authors', metric='num_documents', min_occ=5)\n",
    "# time_analysis(directory)\n",
    "# top_documents(directory)\n",
    "# co_occurrence_network_clusters(co_occurrence_matrix(directory, column='authors', min_occ=5))\n",
    "# coc_matrix = co_occurrence_matrix(directory, column='authors', min_occ=5, association='jaccard')\n",
    "# clusters = similarity_matrix_clustering(coc_matrix)\n",
    "# similarity_matrix_bubble_map(coc_matrix, clusters)\n",
    "\n",
    "# build_similarity_matrix_from_clusters(coc_matrix, clusters)"
   ]
  },
  {
   "cell_type": "code",
   "execution_count": null,
   "metadata": {},
   "outputs": [],
   "source": []
  },
  {
   "cell_type": "markdown",
   "metadata": {},
   "source": [
    "# Charts"
   ]
  },
  {
   "cell_type": "code",
   "execution_count": null,
   "metadata": {},
   "outputs": [],
   "source": [
    "import os\n",
    "import sys\n",
    "\n",
    "currentdir = os.getcwd()\n",
    "parentdir = os.path.dirname(currentdir)\n",
    "sys.path.append(parentdir)\n",
    "\n",
    "from techminer import *\n",
    "\n",
    "directory = \"../data/processed/debug\"\n",
    "\n",
    "# bar_chart(series=time_analysis(directory)['num_documents'], darkness=time_analysis(directory)['global_citations'])\n",
    "# pie_chart(series=time_analysis(directory)['num_documents'], darkness=time_analysis(directory)['global_citations'])\n",
    "# column_chart(series=time_analysis(directory)['num_documents'], darkness=time_analysis(directory)['global_citations'])\n",
    "# word_cloud(terms_analysis(directory, column='authors')['num_documents'].head(50), cmap='Reds')\n",
    "# tree_map(terms_analysis(directory, column='authors')['num_documents'].head(50), cmap='Reds')\n",
    "# heat_map(terms_per_year_analysis(directory, column='authors', metric='num_documents', min_occ=5), cmap='Reds')\n",
    "# cross_corr_matrix(directory, column='authors', by='author_keywords', min_occ=5)\n",
    "# bubble_chart(co_occurrence_matrix(directory, column='authors', min_occ=5))\n",
    "# slope_chart(co_occurrence_matrix(directory, column='authors', min_occ=5))"
   ]
  },
  {
   "cell_type": "code",
   "execution_count": null,
   "metadata": {},
   "outputs": [],
   "source": []
  },
  {
   "cell_type": "code",
   "execution_count": null,
   "metadata": {},
   "outputs": [],
   "source": [
    "import pandas as pd\n",
    "\n",
    "pd.read_csv(\"../data/processed/debug/documents.csv\").iso_source_name.value_counts()"
   ]
  },
  {
   "cell_type": "code",
   "execution_count": null,
   "metadata": {},
   "outputs": [],
   "source": [
    "pd.read_csv(\"../data/processed/debug/documents.csv\").columns"
   ]
  },
  {
   "cell_type": "code",
   "execution_count": null,
   "metadata": {},
   "outputs": [],
   "source": []
  }
 ],
 "metadata": {
  "interpreter": {
   "hash": "949777d72b0d2535278d3dc13498b2535136f6dfe0678499012e853ee9abcab1"
  },
  "kernelspec": {
   "display_name": "Python 3.7.12 64-bit",
   "name": "python3"
  },
  "language_info": {
   "codemirror_mode": {
    "name": "ipython",
    "version": 3
   },
   "file_extension": ".py",
   "mimetype": "text/x-python",
   "name": "python",
   "nbconvert_exporter": "python",
   "pygments_lexer": "ipython3",
   "version": "3.7.12"
  }
 },
 "nbformat": 4,
 "nbformat_minor": 4
}
