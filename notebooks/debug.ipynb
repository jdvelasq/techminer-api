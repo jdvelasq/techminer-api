{
 "cells": [
  {
   "cell_type": "markdown",
   "metadata": {},
   "source": [
    "# Records DB File"
   ]
  },
  {
   "cell_type": "code",
   "execution_count": null,
   "metadata": {},
   "outputs": [],
   "source": [
    "import os\n",
    "import sys\n",
    "\n",
    "currentdir = os.getcwd()\n",
    "parentdir = os.path.dirname(currentdir)\n",
    "sys.path.append(parentdir)\n",
    "\n",
    "from techminer import *\n",
    "\n",
    "# import_raw_data_from_file(rawfilepath=\"../data/tmp/debug-scopus.csv\", rawfiletype=\"scopus\", dirpath=\"../data/processed/debug\")\n",
    "# process_records_file(dirpath=\"../data/processed/debug\")"
   ]
  },
  {
   "cell_type": "markdown",
   "metadata": {},
   "source": [
    "# Data Cleaning"
   ]
  },
  {
   "cell_type": "code",
   "execution_count": null,
   "metadata": {},
   "outputs": [],
   "source": [
    "import os\n",
    "import sys\n",
    "\n",
    "currentdir = os.getcwd()\n",
    "parentdir = os.path.dirname(currentdir)\n",
    "sys.path.append(parentdir)\n",
    "\n",
    "from techminer import *\n",
    "\n",
    "# clean_institution_fields(dirpath=\"../data/processed/debug\")\n",
    "# clean_keywords_fields(dirpath=\"../data/processed/debug\")\n",
    "\n",
    "# apply_thesaurus(dirpath_or_records=\"../data/processed/debug\", thesaurus_filepath=\"../data/processed/debug/keywords.txt\", input_column=\"author_keywords\", output_column=\"author_keywords_thesaurus\")\n",
    "# create_thesaurus(dirpath_or_records=\"../data/processed/debug\", column=\"keywords\", thesaurus_filepath=\"../data/processed/debug/test_thesaurus.txt\")"
   ]
  },
  {
   "cell_type": "markdown",
   "metadata": {},
   "source": [
    "# Basic Analysis"
   ]
  },
  {
   "cell_type": "code",
   "execution_count": 2,
   "metadata": {},
   "outputs": [
    {
     "data": {
      "text/html": [
       "<div>\n",
       "<style scoped>\n",
       "    .dataframe tbody tr th:only-of-type {\n",
       "        vertical-align: middle;\n",
       "    }\n",
       "\n",
       "    .dataframe tbody tr th {\n",
       "        vertical-align: top;\n",
       "    }\n",
       "\n",
       "    .dataframe thead th {\n",
       "        text-align: right;\n",
       "    }\n",
       "</style>\n",
       "<table border=\"1\" class=\"dataframe\">\n",
       "  <thead>\n",
       "    <tr style=\"text-align: right;\">\n",
       "      <th></th>\n",
       "      <th>num_records</th>\n",
       "      <th>global_citations</th>\n",
       "      <th>local_citations</th>\n",
       "    </tr>\n",
       "  </thead>\n",
       "  <tbody>\n",
       "    <tr>\n",
       "      <th>Vanfretti L</th>\n",
       "      <td>6</td>\n",
       "      <td>45</td>\n",
       "      <td>0</td>\n",
       "    </tr>\n",
       "    <tr>\n",
       "      <th>Baudette M</th>\n",
       "      <td>5</td>\n",
       "      <td>44</td>\n",
       "      <td>0</td>\n",
       "    </tr>\n",
       "    <tr>\n",
       "      <th>Nakano A</th>\n",
       "      <td>4</td>\n",
       "      <td>15</td>\n",
       "      <td>0</td>\n",
       "    </tr>\n",
       "    <tr>\n",
       "      <th>Schwarze R</th>\n",
       "      <td>4</td>\n",
       "      <td>7</td>\n",
       "      <td>0</td>\n",
       "    </tr>\n",
       "    <tr>\n",
       "      <th>Vashishta P</th>\n",
       "      <td>4</td>\n",
       "      <td>15</td>\n",
       "      <td>0</td>\n",
       "    </tr>\n",
       "    <tr>\n",
       "      <th>...</th>\n",
       "      <td>...</td>\n",
       "      <td>...</td>\n",
       "      <td>...</td>\n",
       "    </tr>\n",
       "    <tr>\n",
       "      <th>Oren R</th>\n",
       "      <td>1</td>\n",
       "      <td>30</td>\n",
       "      <td>0</td>\n",
       "    </tr>\n",
       "    <tr>\n",
       "      <th>Orović I</th>\n",
       "      <td>1</td>\n",
       "      <td>0</td>\n",
       "      <td>0</td>\n",
       "    </tr>\n",
       "    <tr>\n",
       "      <th>Orozco M</th>\n",
       "      <td>1</td>\n",
       "      <td>16</td>\n",
       "      <td>0</td>\n",
       "    </tr>\n",
       "    <tr>\n",
       "      <th>Orozco-Arroyave JR</th>\n",
       "      <td>1</td>\n",
       "      <td>0</td>\n",
       "      <td>0</td>\n",
       "    </tr>\n",
       "    <tr>\n",
       "      <th>Abad JD</th>\n",
       "      <td>1</td>\n",
       "      <td>6</td>\n",
       "      <td>0</td>\n",
       "    </tr>\n",
       "  </tbody>\n",
       "</table>\n",
       "<p>1678 rows × 3 columns</p>\n",
       "</div>"
      ],
      "text/plain": [
       "                    num_records  global_citations  local_citations\n",
       "Vanfretti L                   6                45                0\n",
       "Baudette M                    5                44                0\n",
       "Nakano A                      4                15                0\n",
       "Schwarze R                    4                 7                0\n",
       "Vashishta P                   4                15                0\n",
       "...                         ...               ...              ...\n",
       "Oren R                        1                30                0\n",
       "Orović I                      1                 0                0\n",
       "Orozco M                      1                16                0\n",
       "Orozco-Arroyave JR            1                 0                0\n",
       "Abad JD                       1                 6                0\n",
       "\n",
       "[1678 rows x 3 columns]"
      ]
     },
     "execution_count": 2,
     "metadata": {},
     "output_type": "execute_result"
    }
   ],
   "source": [
    "import os\n",
    "import sys\n",
    "\n",
    "currentdir = os.getcwd()\n",
    "parentdir = os.path.dirname(currentdir)\n",
    "sys.path.append(parentdir)\n",
    "\n",
    "from techminer import *\n",
    "\n",
    "# bradford_plot(dirpath_or_records=\"../data/processed/debug\")\n",
    "# core_authors(dirpath_or_records=\"../data/processed/debug\")\n",
    "# core_sources(dirpath_or_records=\"../data/processed/debug\")\n",
    "# coverage(dirpath_or_records=\"../data/processed/debug\")\n",
    "# lotka_plot(dirpath_or_records=\"../data/processed/debug\")\n",
    "# summary(dirpath_or_records=\"../data/processed/debug\")\n",
    "# most_cited_documents(dirpath_or_records=\"../data/processed/debug\")\n",
    "# terms_table(dirpath_or_records=\"../data/processed/debug\", column='authors')\n",
    "# worldmap(dirpath_or_records=\"../data/processed/debug\", metric='num_records')\n",
    "# time_table(dirpath_or_records=\"../data/processed/debug\")\n",
    "\n",
    "\n",
    "# TermAnalyzer(dirpath_or_records=\"../data/processed/debug\", column='countries', top_by='num_records').table_\n",
    "# TimeAnalyzer(dirpath_or_records=\"../data/processed/debug\").barh(column='num_documents', cmap=\"Blues\")\n",
    "# worldmap(count_records_by_term(dirpath_or_records=\"../data/processed/debug\", column=\"countries\"))\n",
    "\n",
    "\n",
    "# BigraphAnalyzer(dirpath_or_records=\"../data/processed/debug\", column='countries', by='countries').table_"
   ]
  },
  {
   "cell_type": "code",
   "execution_count": null,
   "metadata": {},
   "outputs": [],
   "source": [
    "\n",
    "\n",
    "\n",
    "\n",
    "\n",
    "# apply_thesaurus(directory_or_records=\"../data/processed/debug\", thesaurus_filepath=\"../data/processed/debug/keywords.txt\", input_column=\"author_keywords\", output_column=\"author_keywords_thesaurus\")\n",
    "# association_index(co_occurrence_matrix(directory_or_records=\"../data/processed/debug\", column=\"author_keywords\"), association='jaccard')\n",
    "\n",
    "# co_occurrence_matrix(directory_or_records=\"../data/processed/debug\", column=\"author_keywords\", by='author_keywords')\n",
    "# co_occurrence_matrix(directory_or_records=\"../data/processed/debug\", column=\"author_keywords\", by='countries')\n",
    "\n",
    "\n",
    "\n",
    "# create_thesaurus(directory_or_records=\"../data/processed/debug\", column=\"keywords\", thesaurus_filepath=\"../data/processed/debug/test_thesaurus.txt\")\n",
    "# impact_analysis(directory_or_records=\"../data/processed/debug\", column=\"authors\")\n",
    "# tf_matrix(directory_or_records=\"../data/processed/debug\", column=\"author_keywords\")\n",
    "# tfidf_matrix(tf_matrix(directory_or_records=\"../data/processed/debug\", column=\"author_keywords\"))\n",
    "\n",
    "# collaboration_analysis(directory_or_records=\"../data/processed/debug\", column=\"authors\")"
   ]
  },
  {
   "cell_type": "code",
   "execution_count": null,
   "metadata": {},
   "outputs": [],
   "source": []
  },
  {
   "cell_type": "code",
   "execution_count": null,
   "metadata": {},
   "outputs": [],
   "source": []
  },
  {
   "cell_type": "code",
   "execution_count": null,
   "metadata": {},
   "outputs": [],
   "source": [
    "import pandas as pd\n",
    "\n",
    "pd.read_csv(\"../data/processed/debug/records.csv\").author_keywords_thesaurus"
   ]
  },
  {
   "cell_type": "code",
   "execution_count": null,
   "metadata": {},
   "outputs": [],
   "source": []
  },
  {
   "cell_type": "code",
   "execution_count": null,
   "metadata": {},
   "outputs": [],
   "source": []
  }
 ],
 "metadata": {
  "interpreter": {
   "hash": "949777d72b0d2535278d3dc13498b2535136f6dfe0678499012e853ee9abcab1"
  },
  "kernelspec": {
   "display_name": "Python 3.7.12 64-bit",
   "name": "python3"
  },
  "language_info": {
   "codemirror_mode": {
    "name": "ipython",
    "version": 3
   },
   "file_extension": ".py",
   "mimetype": "text/x-python",
   "name": "python",
   "nbconvert_exporter": "python",
   "pygments_lexer": "ipython3",
   "version": "3.7.12"
  }
 },
 "nbformat": 4,
 "nbformat_minor": 4
}
