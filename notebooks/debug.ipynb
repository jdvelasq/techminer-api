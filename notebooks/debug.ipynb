{
 "cells": [
  {
   "cell_type": "markdown",
   "metadata": {},
   "source": [
    "# Data preparation"
   ]
  },
  {
   "cell_type": "code",
   "execution_count": 1,
   "metadata": {},
   "outputs": [],
   "source": [
    "import os\n",
    "import sys\n",
    "import pandas as pd\n",
    "\n",
    "pd.set_option(\"display.notebook_repr_html\", False)\n",
    "currentdir = os.getcwd()\n",
    "parentdir = os.path.dirname(currentdir)\n",
    "sys.path.append(parentdir)\n",
    "\n",
    "from techminer import *\n",
    "\n",
    "directory = \"/workspaces/techminer-api/tests/data/\"\n",
    "file_name = directory + \"scopus.csv\"\n",
    "\n",
    "\n",
    "# import_scopus_file(file_name, directory)\n",
    "# -----------------------------------------------\n",
    "# coverage(directory)\n",
    "# summary(directory)\n",
    "# -----------------------------------------------\n",
    "# clean_institutions(directory)\n",
    "# clean_keywords(directory)\n",
    "# apply_thesaurus(directory, thesaurus_file=\"keywords.txt\", input_column=\"author_keywords\", output_column=\"author_keywords_thesaurus\", strict=False)\n",
    "# create_thesaurus(directory, column=\"keywords\", thesaurus_file=\"test_thesaurus.txt\", sep=\"; \")\n",
    "# -----------------------------------------------\n",
    "# time_report(directory)\n",
    "# terms_report(directory, 'authors', min_occ=5)\n",
    "# tf_matrix(directory, 'authors', min_occ=6).head()\n",
    "# tfidf_matrix(directory, 'authors', min_occ=6).head()\n",
    "# co_occurrence_matrix(directory, 'authors', min_occ=5)\n",
    "# co_occurrence_network(co_occurrence_matrix(directory, 'author_keywords', min_occ=15), 'louvain').plot().savefig('/workspaces/techminer-api/sphinx/images/co_occurrence_network.png')\n",
    "# co_occurrence_network(co_occurrence_matrix(directory, 'author_keywords', min_occ=15), 'louvain').table().head()\n",
    "# co_occurrence_network(co_occurrence_matrix(directory, 'author_keywords', min_occ=15), 'louvain').node_degrees().savefig('/workspaces/techminer-api/sphinx/images/co_occurrence_degrees.png')\n",
    "co_occurrence_network(co_occurrence_matrix(directory, 'author_keywords', min_occ=15), 'louvain').heat_map().savefig('/workspaces/techminer-api/sphinx/images/co_occurrence_heat_map.png')\n",
    "# -----------------------------------------------\n",
    "# bar_chart(terms_report(directory, 'authors', min_occ=5).sort_values(by=['global_citations'], ascending=False).global_citations)\n",
    "# word_cloud(terms_report(directory, 'authors', min_occ=5).num_documents)\n",
    "# world_map(directory, figsize=(8,7)).savefig('/workspaces/techminer-api/sphinx/images/world_map.png')\n",
    "\n",
    "# !cat ../data/processed/debug/filter.yaml"
   ]
  },
  {
   "cell_type": "markdown",
   "metadata": {},
   "source": [
    "# Analysis"
   ]
  },
  {
   "cell_type": "code",
   "execution_count": null,
   "metadata": {},
   "outputs": [],
   "source": [
    "import os\n",
    "import sys\n",
    "\n",
    "currentdir = os.getcwd()\n",
    "parentdir = os.path.dirname(currentdir)\n",
    "sys.path.append(parentdir)\n",
    "\n",
    "import pandas as pd\n",
    "\n",
    "pd.set_option(\"display.notebook_repr_html\", False)\n",
    "\n",
    "from techminer import *\n",
    "\n",
    "directory = \"/workspaces/techminer-api/tests/data/\"\n",
    "\n",
    "\n",
    "# auto_corr_map(auto_corr_matrix(directory, column='authors', min_occ=4), num_terms=10)\n",
    "# auto_corr_heat_map(auto_corr_matrix(directory, column='authors', min_occ=4), cmap='Reds').savefig(\"/workspaces/techminer-api/sphinx/images/auto_corr_heat_map.png\")\n",
    "# auto_corr_matrix(directory, column='authors', min_occ=6)\n",
    "# co_occurrence_matrix(directory, column='authors', min_occ=5)\n",
    "# co_occurrence_heat_map(co_occurrence_matrix(directory, column='authors', min_occ=5), cmap='Reds').savefig(\"/workspaces/techminer-api/sphinx/images/co_occurrence_heat_map.png\")\n",
    "# factor_matrix(co_occurrence_matrix(directory, column='authors', min_occ=6))\n",
    "# factor_heat_map(factor_matrix(co_occurrence_matrix(directory, column='authors', min_occ=6))).savefig(\"/workspaces/techminer-api/sphinx/images/factor_heat_map.png\")\n",
    "members, centers = factor_clusters(factor_matrix(co_occurrence_matrix(directory, column='authors', min_occ=6)))\n",
    "# factor_cluster_map(centers, members)\n",
    "factor_members_map(factor_matrix(co_occurrence_matrix(directory, column='authors', min_occ=6)), members)\n",
    "# ----\n",
    "\n",
    "\n",
    "\n",
    "# bradford_plot(directory)\n",
    "# lotka_plot(directory)\n",
    "\n",
    "# core_authors(directory)\n",
    "# core_sources(directory)\n",
    "# count_documents_by_term(directory, column='authors', min_occ=6)\n",
    "# impact_analysis(directory, column=\"authors\")\n",
    "# terms_analysis(directory, column='authors', min_occ=5)\n",
    "# terms_per_year_analysis(directory, column='authors', metric='num_documents', min_occ=5)\n",
    "# time_analysis(directory)\n",
    "# top_documents(directory)\n",
    "# co_occurrence_network_clusters(co_occurrence_matrix(directory, column='authors', min_occ=5))\n",
    "# coc_matrix = co_occurrence_matrix(directory, column='authors', min_occ=5, association='jaccard')\n",
    "# clusters = similarity_matrix_clustering(coc_matrix)\n",
    "# similarity_matrix_bubble_map(coc_matrix, clusters)\n",
    "\n",
    "# build_similarity_matrix_from_clusters(coc_matrix, clusters)"
   ]
  },
  {
   "cell_type": "code",
   "execution_count": null,
   "metadata": {},
   "outputs": [],
   "source": []
  },
  {
   "cell_type": "markdown",
   "metadata": {},
   "source": [
    "# Charts"
   ]
  },
  {
   "cell_type": "code",
   "execution_count": null,
   "metadata": {},
   "outputs": [],
   "source": [
    "import os\n",
    "import sys\n",
    "\n",
    "currentdir = os.getcwd()\n",
    "parentdir = os.path.dirname(currentdir)\n",
    "sys.path.append(parentdir)\n",
    "\n",
    "from techminer import *\n",
    "\n",
    "directory = \"../data/processed/debug\"\n",
    "\n",
    "# bar_chart(series=time_analysis(directory)['num_documents'], darkness=time_analysis(directory)['global_citations'])\n",
    "# pie_chart(series=time_analysis(directory)['num_documents'], darkness=time_analysis(directory)['global_citations'])\n",
    "# column_chart(series=time_analysis(directory)['num_documents'], darkness=time_analysis(directory)['global_citations'])\n",
    "# word_cloud(terms_analysis(directory, column='authors')['num_documents'].head(50), cmap='Reds')\n",
    "# tree_map(terms_analysis(directory, column='authors')['num_documents'].head(50), cmap='Reds')\n",
    "# heat_map(terms_per_year_analysis(directory, column='authors', metric='num_documents', min_occ=5), cmap='Reds')\n",
    "# cross_corr_matrix(directory, column='authors', by='author_keywords', min_occ=5)\n",
    "# bubble_chart(co_occurrence_matrix(directory, column='authors', min_occ=5))\n",
    "# slope_chart(co_occurrence_matrix(directory, column='authors', min_occ=5))"
   ]
  },
  {
   "cell_type": "code",
   "execution_count": null,
   "metadata": {},
   "outputs": [],
   "source": []
  },
  {
   "cell_type": "code",
   "execution_count": null,
   "metadata": {},
   "outputs": [],
   "source": [
    "import pandas as pd\n",
    "\n",
    "pd.read_csv(\"/workspaces/techminer-api/tests/data/documents.csv\").iso_source_name.value_counts()"
   ]
  },
  {
   "cell_type": "code",
   "execution_count": null,
   "metadata": {},
   "outputs": [],
   "source": [
    "pd.read_csv(\"/workspaces/techminer-api/tests/data/documents.csv\").columns"
   ]
  },
  {
   "cell_type": "code",
   "execution_count": null,
   "metadata": {},
   "outputs": [],
   "source": []
  }
 ],
 "metadata": {
  "interpreter": {
   "hash": "949777d72b0d2535278d3dc13498b2535136f6dfe0678499012e853ee9abcab1"
  },
  "kernelspec": {
   "display_name": "Python 3.7.12 64-bit",
   "name": "python3"
  },
  "language_info": {
   "codemirror_mode": {
    "name": "ipython",
    "version": 3
   },
   "file_extension": ".py",
   "mimetype": "text/x-python",
   "name": "python",
   "nbconvert_exporter": "python",
   "pygments_lexer": "ipython3",
   "version": "3.7.12"
  }
 },
 "nbformat": 4,
 "nbformat_minor": 4
}
