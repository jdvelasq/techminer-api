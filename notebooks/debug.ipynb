{
 "cells": [
  {
   "cell_type": "markdown",
   "metadata": {},
   "source": [
    "# Documents DB File"
   ]
  },
  {
   "cell_type": "code",
   "execution_count": null,
   "metadata": {},
   "outputs": [],
   "source": [
    "import os\n",
    "import sys\n",
    "\n",
    "currentdir = os.getcwd()\n",
    "parentdir = os.path.dirname(currentdir)\n",
    "sys.path.append(parentdir)\n",
    "\n",
    "from techminer import *\n",
    "\n",
    "directory = \"../data/processed/debug\"\n",
    "file_name = \"../data/raw/fintech-scopus.csv\"\n",
    "import_scopus_file(file_name, directory)\n",
    "\n",
    "# !cat ../data/processed/debug/filter.yaml"
   ]
  },
  {
   "cell_type": "markdown",
   "metadata": {},
   "source": [
    "# Thesaurus"
   ]
  },
  {
   "cell_type": "code",
   "execution_count": null,
   "metadata": {},
   "outputs": [],
   "source": [
    "import os\n",
    "import sys\n",
    "\n",
    "currentdir = os.getcwd()\n",
    "parentdir = os.path.dirname(currentdir)\n",
    "sys.path.append(parentdir)\n",
    "\n",
    "from techminer import *\n",
    "\n",
    "directory = \"../data/processed/debug\"\n",
    "\n",
    "# clean_institutions(directory)\n",
    "# clean_keywords(directory)\n",
    "# apply_thesaurus(directory, thesaurus_file=\"keywords.txt\", input_column=\"author_keywords\", output_column=\"author_keywords_thesaurus\", strict=False)\n",
    "# create_thesaurus(directory, column=\"keywords\", thesaurus_file=\"test_thesaurus.txt\", sep=\"; \")"
   ]
  },
  {
   "cell_type": "markdown",
   "metadata": {},
   "source": [
    "# Basic analysis"
   ]
  },
  {
   "cell_type": "code",
   "execution_count": 6,
   "metadata": {},
   "outputs": [
    {
     "data": {
      "text/html": [
       "<div>\n",
       "<style scoped>\n",
       "    .dataframe tbody tr th:only-of-type {\n",
       "        vertical-align: middle;\n",
       "    }\n",
       "\n",
       "    .dataframe tbody tr th {\n",
       "        vertical-align: top;\n",
       "    }\n",
       "\n",
       "    .dataframe thead th {\n",
       "        text-align: right;\n",
       "    }\n",
       "</style>\n",
       "<table border=\"1\" class=\"dataframe\">\n",
       "  <thead>\n",
       "    <tr style=\"text-align: right;\">\n",
       "      <th></th>\n",
       "      <th>num_documents</th>\n",
       "      <th>global_citations</th>\n",
       "      <th>local_citations</th>\n",
       "    </tr>\n",
       "    <tr>\n",
       "      <th>authors</th>\n",
       "      <th></th>\n",
       "      <th></th>\n",
       "      <th></th>\n",
       "    </tr>\n",
       "  </thead>\n",
       "  <tbody>\n",
       "    <tr>\n",
       "      <th>Rabbani MR/0</th>\n",
       "      <td>10</td>\n",
       "      <td>69</td>\n",
       "      <td>32</td>\n",
       "    </tr>\n",
       "    <tr>\n",
       "      <th>Arner DW/0</th>\n",
       "      <td>9</td>\n",
       "      <td>135</td>\n",
       "      <td>47</td>\n",
       "    </tr>\n",
       "    <tr>\n",
       "      <th>Wojcik D/0</th>\n",
       "      <td>7</td>\n",
       "      <td>49</td>\n",
       "      <td>14</td>\n",
       "    </tr>\n",
       "    <tr>\n",
       "      <th>Buckley RP/0</th>\n",
       "      <td>7</td>\n",
       "      <td>132</td>\n",
       "      <td>45</td>\n",
       "    </tr>\n",
       "    <tr>\n",
       "      <th>Reyes-Mercado P/0</th>\n",
       "      <td>7</td>\n",
       "      <td>0</td>\n",
       "      <td>0</td>\n",
       "    </tr>\n",
       "    <tr>\n",
       "      <th>Khan S/0</th>\n",
       "      <td>6</td>\n",
       "      <td>49</td>\n",
       "      <td>22</td>\n",
       "    </tr>\n",
       "    <tr>\n",
       "      <th>Ozili PK/0</th>\n",
       "      <td>6</td>\n",
       "      <td>151</td>\n",
       "      <td>33</td>\n",
       "    </tr>\n",
       "    <tr>\n",
       "      <th>Schwienbacher A/0</th>\n",
       "      <td>6</td>\n",
       "      <td>50</td>\n",
       "      <td>19</td>\n",
       "    </tr>\n",
       "    <tr>\n",
       "      <th>Serrano W/0</th>\n",
       "      <td>6</td>\n",
       "      <td>15</td>\n",
       "      <td>3</td>\n",
       "    </tr>\n",
       "    <tr>\n",
       "      <th>Gozman DP/0</th>\n",
       "      <td>6</td>\n",
       "      <td>26</td>\n",
       "      <td>8</td>\n",
       "    </tr>\n",
       "    <tr>\n",
       "      <th>Wonglimpiyarat J/0</th>\n",
       "      <td>6</td>\n",
       "      <td>52</td>\n",
       "      <td>36</td>\n",
       "    </tr>\n",
       "    <tr>\n",
       "      <th>Tan B/0</th>\n",
       "      <td>5</td>\n",
       "      <td>105</td>\n",
       "      <td>56</td>\n",
       "    </tr>\n",
       "    <tr>\n",
       "      <th>Zetzsche DA/0</th>\n",
       "      <td>5</td>\n",
       "      <td>44</td>\n",
       "      <td>25</td>\n",
       "    </tr>\n",
       "    <tr>\n",
       "      <th>Hamdan A/0</th>\n",
       "      <td>5</td>\n",
       "      <td>18</td>\n",
       "      <td>7</td>\n",
       "    </tr>\n",
       "    <tr>\n",
       "      <th>Nieves EH/0</th>\n",
       "      <td>5</td>\n",
       "      <td>15</td>\n",
       "      <td>3</td>\n",
       "    </tr>\n",
       "    <tr>\n",
       "      <th>Baber H/0</th>\n",
       "      <td>5</td>\n",
       "      <td>12</td>\n",
       "      <td>5</td>\n",
       "    </tr>\n",
       "    <tr>\n",
       "      <th>Mention A-L/0</th>\n",
       "      <td>5</td>\n",
       "      <td>35</td>\n",
       "      <td>31</td>\n",
       "    </tr>\n",
       "    <tr>\n",
       "      <th>Faccia A/0</th>\n",
       "      <td>5</td>\n",
       "      <td>27</td>\n",
       "      <td>5</td>\n",
       "    </tr>\n",
       "    <tr>\n",
       "      <th>Ashta A/0</th>\n",
       "      <td>5</td>\n",
       "      <td>9</td>\n",
       "      <td>7</td>\n",
       "    </tr>\n",
       "  </tbody>\n",
       "</table>\n",
       "</div>"
      ],
      "text/plain": [
       "                    num_documents  global_citations  local_citations\n",
       "authors                                                             \n",
       "Rabbani MR/0                   10                69               32\n",
       "Arner DW/0                      9               135               47\n",
       "Wojcik D/0                      7                49               14\n",
       "Buckley RP/0                    7               132               45\n",
       "Reyes-Mercado P/0               7                 0                0\n",
       "Khan S/0                        6                49               22\n",
       "Ozili PK/0                      6               151               33\n",
       "Schwienbacher A/0               6                50               19\n",
       "Serrano W/0                     6                15                3\n",
       "Gozman DP/0                     6                26                8\n",
       "Wonglimpiyarat J/0              6                52               36\n",
       "Tan B/0                         5               105               56\n",
       "Zetzsche DA/0                   5                44               25\n",
       "Hamdan A/0                      5                18                7\n",
       "Nieves EH/0                     5                15                3\n",
       "Baber H/0                       5                12                5\n",
       "Mention A-L/0                   5                35               31\n",
       "Faccia A/0                      5                27                5\n",
       "Ashta A/0                       5                 9                7"
      ]
     },
     "execution_count": 6,
     "metadata": {},
     "output_type": "execute_result"
    }
   ],
   "source": [
    "import os\n",
    "import sys\n",
    "\n",
    "currentdir = os.getcwd()\n",
    "parentdir = os.path.dirname(currentdir)\n",
    "sys.path.append(parentdir)\n",
    "\n",
    "from techminer import *\n",
    "\n",
    "directory = \"../data/processed/debug\"\n",
    "\n",
    "# core_authors(directory)\n",
    "# core_sources(directory)\n",
    "# count_documents_by_term(directory, column='authors', min_occ=6)\n",
    "# coverage(directory)\n",
    "# impact_analysis(directory, column=\"authors\")\n",
    "# summary(directory)\n",
    "# terms_analysis(directory, column='authors', min_occ=5)\n",
    "# terms_per_year_analysis(directory, column='authors', metric='num_documents', min_occ=5)\n",
    "# time_analysis(directory)\n",
    "# top_documents(directory)"
   ]
  },
  {
   "cell_type": "markdown",
   "metadata": {},
   "source": [
    "# Basic plots"
   ]
  },
  {
   "cell_type": "code",
   "execution_count": null,
   "metadata": {},
   "outputs": [],
   "source": [
    "import os\n",
    "import sys\n",
    "\n",
    "currentdir = os.getcwd()\n",
    "parentdir = os.path.dirname(currentdir)\n",
    "sys.path.append(parentdir)\n",
    "\n",
    "from techminer import *\n",
    "\n",
    "directory = \"../data/processed/debug\"\n",
    "\n",
    "# bar_chart(series=time_analysis(directory)['num_documents'], darkness=time_analysis(directory)['global_citations'])\n",
    "# pie_chart(series=time_analysis(directory)['num_documents'], darkness=time_analysis(directory)['global_citations'])\n",
    "# column_chart(series=time_analysis(directory)['num_documents'], darkness=time_analysis(directory)['global_citations'])\n",
    "# word_cloud(terms_analysis(directory, column='authors')['num_documents'].head(50), cmap='Reds')\n",
    "# tree_map(terms_analysis(directory, column='authors')['num_documents'].head(50), cmap='Reds')\n",
    "\n",
    "heat_map(terms_per_year_analysis(directory, column='authors', metric='num_documents', min_occ=5), cmap='Reds')\n",
    "\n",
    "# bradford_plot(directory)\n",
    "# lotka_plot(directory)\n",
    "# worldmap(directory, metric=\"num_documents\")"
   ]
  },
  {
   "cell_type": "markdown",
   "metadata": {},
   "source": [
    "# Advanced analysis"
   ]
  },
  {
   "cell_type": "code",
   "execution_count": null,
   "metadata": {},
   "outputs": [],
   "source": [
    "# BigraphAnalyzer(dirpath_or_records=\"../data/processed/debug\", column='countries', by='countries').table_"
   ]
  },
  {
   "cell_type": "code",
   "execution_count": null,
   "metadata": {},
   "outputs": [],
   "source": []
  },
  {
   "cell_type": "code",
   "execution_count": null,
   "metadata": {},
   "outputs": [],
   "source": []
  },
  {
   "cell_type": "code",
   "execution_count": null,
   "metadata": {},
   "outputs": [],
   "source": []
  },
  {
   "cell_type": "code",
   "execution_count": null,
   "metadata": {},
   "outputs": [],
   "source": [
    "import pandas as pd\n",
    "\n",
    "pd.read_csv(\"../data/processed/debug/documents.csv\").iso_source_name.value_counts()"
   ]
  },
  {
   "cell_type": "code",
   "execution_count": null,
   "metadata": {},
   "outputs": [],
   "source": [
    "pd.read_csv(\"../data/processed/debug/documents.csv\").columns"
   ]
  },
  {
   "cell_type": "code",
   "execution_count": null,
   "metadata": {},
   "outputs": [],
   "source": []
  }
 ],
 "metadata": {
  "interpreter": {
   "hash": "949777d72b0d2535278d3dc13498b2535136f6dfe0678499012e853ee9abcab1"
  },
  "kernelspec": {
   "display_name": "Python 3.7.12 64-bit",
   "name": "python3"
  },
  "language_info": {
   "codemirror_mode": {
    "name": "ipython",
    "version": 3
   },
   "file_extension": ".py",
   "mimetype": "text/x-python",
   "name": "python",
   "nbconvert_exporter": "python",
   "pygments_lexer": "ipython3",
   "version": "3.7.12"
  }
 },
 "nbformat": 4,
 "nbformat_minor": 4
}
